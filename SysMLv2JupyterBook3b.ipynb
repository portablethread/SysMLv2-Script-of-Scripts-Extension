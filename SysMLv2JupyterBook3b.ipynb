{
 "cells": [
  {
   "cell_type": "markdown",
   "metadata": {
    "kernel": "SoS",
    "tags": []
   },
   "source": [
    "# SysML v2 JupyterBook\n",
    "\n",
    "*Last update: January 16th, 2023*\n",
    "\n",
    "This Jupyter Notebook is an exploration of SysML v2 from the user perspective. It shows some SysML v2 basics, but mainly focuses on the special features compared to SysML v1 and how they can be used. For a detailed introduction to the textual syntax of SysML v2, I recommend the following PDF: [Introduction to the SysML v2 Language Textual Notation](https://github.com/Systems-Modeling/SysML-v2-Release/blob/master/doc/Intro%20to%20the%20SysML%20v2%20Language.pdf).\n",
    "\n",
    "**Please note: This is work in progress. You will see sketchy stuff. If you have any comments, contact me: [tim@mbse4u.com](mailto:tim@mbse4u.com).**\n",
    "\n",
    "## Table of Contents\n",
    "\n",
    "* [Introduction](#sysmlv2modintroduction)\n",
    "* [Graphical and Textual Notation of SysML v2](#sysmlv2modnotation)\n",
    "* [Example and first steps](#sysmlv2modexample)\n",
    "* [Parts and PartDefinitions](#sysmlv2modparts)\n",
    "* [Specialization and Subsetting](#sysmlv2modspecialization)\n",
    "* [Putting the parts together](#sysmlv2modconnect)\n",
    "* [Modeling Interfaces](#sysmlv2modinterfaces)\n",
    "* [Modeling Activities](#sysmlv2usecasesactivities)\n",
    "* [Connection item flows with parameters](#sysmlv2itempara)\n",
    "* [Modeling variants](#sysmlv2modvariants)\n",
    "* [Modeling requirements](#sysmlv2modrequirements)\n"
   ]
  },
  {
   "cell_type": "markdown",
   "metadata": {
    "kernel": "SoS"
   },
   "source": [
    "## Introduction<a name=\"sysmlv2modintroduction\"></a>\n",
    "\n",
    "This section provides \n",
    "\n",
    "* a brief introduction of the modeling with SysML v2,\n",
    "* with a special focus on what is different compared to SysML v1.\n",
    "\n",
    "The target audience for this Jupyter notebook is SysML v1 modelers. The basic concepts like \"What is a Use Case?\" or \"What is a Part Decomposition?\" are not explained.\n",
    "\n",
    "It is not (yet) a complete SysML v2 tutorial. It uses the SysML v2 pilot implementation which is not intended as full modeling tool for industrial application. "
   ]
  },
  {
   "cell_type": "markdown",
   "metadata": {
    "kernel": "SoS"
   },
   "source": [
    "## Graphical and Textual Notation of SysML v2<a name=\"sysmlv2modnotation\"></a>\n",
    "\n",
    "SysML v1 is primarily known for its diagrams. Although they are only the visualization of the model information and the real treasure of a real SysML model is the model data behind the diagrams.\n",
    "\n",
    "SysML v2 also provides graphical visualizations and additionally a textual notation. Both are equivalent notations and tools can provide editors for both.\n",
    "\n",
    "The SysML v2 pilot implementation has so far only a textual editor and generates the graphical notation. Therefore, some have been under the impression that SysML v2 is primarily textual. This is not the case. Those who wish can use SysML v2 as they would SysML v1 and edit the model using graphical editors only."
   ]
  },
  {
   "cell_type": "markdown",
   "metadata": {
    "kernel": "SoS"
   },
   "source": [
    "## Example and first steps<a name=\"sysmlv2modexample\"></a>\n",
    "\n",
    "The simple example system is the following electrical vehicle:\n",
    "\n",
    "![Electrical HSUV](lego-evehicle.jpg)\n",
    "\n",
    "Let's start with a logical architecture of the vehicle. A first major difference compared to SysML is that there is a textual syntax for SysML v2.\n",
    "The following cell shows the textual SysML v2 syntax of the logical architecture. The package statement defines the namespace of the architecture. The eVehicle architecture itself is a simple set of parts."
   ]
  },
  {
   "cell_type": "code",
   "execution_count": 2,
   "metadata": {
    "kernel": "SysML",
    "tags": []
   },
   "outputs": [
    {
     "data": {
      "text/plain": [
       "Package eVehicle_LogicalArchitecture (3f04dcc1-fa16-4066-8f57-bf3b605bcd56)\n"
      ]
     },
     "execution_count": 2,
     "metadata": {},
     "output_type": "execute_result"
    }
   ],
   "source": [
    "package eVehicle_LogicalArchitecture {\n",
    "    part eVehicle {    \n",
    "        part body;\n",
    "        part battery;\n",
    "        part engine;\n",
    "        part frontAxis;\n",
    "        part rearAxis;\n",
    "        part frontWheel[2];\n",
    "        part rearWheel[2];\n",
    "    }\n",
    "}"
   ]
  },
  {
   "cell_type": "markdown",
   "metadata": {
    "kernel": "SoS"
   },
   "source": [
    "Run the cell above to create the real model. The text above is only the textual syntax of SysML v2. The show command provides a deep insight into the model structure:"
   ]
  },
  {
   "cell_type": "code",
   "execution_count": 13,
   "metadata": {
    "kernel": "SysML"
   },
   "outputs": [
    {
     "name": "stderr",
     "output_type": "stream",
     "text": [
      "Magic %get failed because the language module for SysML is not properly installed. Please install it according to language specific instructions on the Running SoS section of the SoS homepage and restart Jupyter server.\n"
     ]
    }
   ],
   "source": [
    "%get __captured"
   ]
  },
  {
   "cell_type": "code",
   "execution_count": 11,
   "metadata": {
    "kernel": "SysML",
    "tags": []
   },
   "outputs": [
    {
     "data": {
      "text/plain": [
       "Package eVehicle_LogicalArchitecture (3f04dcc1-fa16-4066-8f57-bf3b605bcd56)\n",
       "  [OwningMembership] PartUsage eVehicle (a0f1edee-29f7-4222-af1c-c8bb9a7b50ba)\n",
       "    [Subsetting (implicit)] PartUsage parts (0c6a9942-4bb9-58da-8344-57ecd220d4de)\n",
       "    [FeatureMembership] PartUsage body (2c9b0d80-a2ea-4ebb-9aa8-f60d1963cf72)\n",
       "      [Subsetting (implicit)] PartUsage subparts (a44baa93-a4d0-535d-b879-44a30575f348)\n",
       "      [OwningMembership] Multiplicity (ba8da7f5-fbcd-47c1-a2b7-0404bb6250ba)\n",
       "        [Subsetting (implicit)] MultiplicityRange exactlyOne (64e18b84-0e05-5c95-a003-c0f60a269893)\n",
       "    [FeatureMembership] PartUsage battery (ba49fcf2-13f0-43fb-8ce1-c819e92b96bb)\n",
       "      [Subsetting (implicit)] PartUsage subparts (a44baa93-a4d0-535d-b879-44a30575f348)\n",
       "      [OwningMembership] Multiplicity (49e43779-d2b4-47c5-b962-e40ddc697abf)\n",
       "        [Subsetting (implicit)] MultiplicityRange exactlyOne (64e18b84-0e05-5c95-a003-c0f60a269893)\n",
       "    [FeatureMembership] PartUsage engine (c5f2f1ae-55c3-456e-bde1-ad0ec98eee18)\n",
       "      [Subsetting (implicit)] PartUsage subparts (a44baa93-a4d0-535d-b879-44a30575f348)\n",
       "      [OwningMembership] Multiplicity (ce583914-1a4e-4b79-a5a4-ea87cdd752d3)\n",
       "        [Subsetting (implicit)] MultiplicityRange exactlyOne (64e18b84-0e05-5c95-a003-c0f60a269893)\n",
       "    [FeatureMembership] PartUsage frontAxis (2dfe46ed-c6ea-4299-bfcd-abc4f2d38dfe)\n",
       "      [Subsetting (implicit)] PartUsage subparts (a44baa93-a4d0-535d-b879-44a30575f348)\n",
       "      [OwningMembership] Multiplicity (0dc7ec28-2062-4129-83ff-85d0a1fe72c7)\n",
       "        [Subsetting (implicit)] MultiplicityRange exactlyOne (64e18b84-0e05-5c95-a003-c0f60a269893)\n",
       "    [FeatureMembership] PartUsage rearAxis (1fad9435-a44e-4533-b06a-f8c4fceded39)\n",
       "      [Subsetting (implicit)] PartUsage subparts (a44baa93-a4d0-535d-b879-44a30575f348)\n",
       "      [OwningMembership] Multiplicity (318d006d-4723-478e-b8a8-cb5fd47b0860)\n",
       "        [Subsetting (implicit)] MultiplicityRange exactlyOne (64e18b84-0e05-5c95-a003-c0f60a269893)\n",
       "    [FeatureMembership] PartUsage frontWheel (77f943ce-0f1c-4819-b330-b5f79f202bae)\n",
       "      [Subsetting (implicit)] PartUsage subparts (a44baa93-a4d0-535d-b879-44a30575f348)\n",
       "      [OwningMembership] MultiplicityRange (f312dfbc-8b5a-4696-8747-39c63499ea88)\n",
       "        [Subsetting (implicit)] Feature naturals (7f46a88a-4eb2-501d-ad8b-9eefbb9b38e9)\n",
       "        [OwningMembership] LiteralInteger 2 (f5daeef4-1117-4d6b-a105-51d0e3daa97b)\n",
       "          [ReturnParameterMembership] Feature result (33780eed-f8bd-4bc5-81a5-8a421c6344ec)\n",
       "    [FeatureMembership] PartUsage rearWheel (6dfa2e2f-a56e-4d14-9697-aebcd31fc9de)\n",
       "      [Subsetting (implicit)] PartUsage subparts (a44baa93-a4d0-535d-b879-44a30575f348)\n",
       "      [OwningMembership] MultiplicityRange (20a5859f-fc6d-490c-9687-aca94f819738)\n",
       "        [Subsetting (implicit)] Feature naturals (7f46a88a-4eb2-501d-ad8b-9eefbb9b38e9)\n",
       "        [OwningMembership] LiteralInteger 2 (4d1e804b-3ad5-4c9a-aa7d-4523a3814c34)\n",
       "          [ReturnParameterMembership] Feature result (6c7817dc-5332-4a96-ad46-4ee8b724e962)\n"
      ]
     },
     "execution_count": 11,
     "metadata": {},
     "output_type": "execute_result"
    }
   ],
   "source": [
    "%capture -t \"__abcd\"\n",
    "%show eVehicle_LogicalArchitecture"
   ]
  },
  {
   "cell_type": "markdown",
   "metadata": {
    "kernel": "SoS"
   },
   "source": [
    "More convenient for the common model user, of course, is the graphical notation presented after the execution of the following cell:"
   ]
  },
  {
   "cell_type": "code",
   "execution_count": 9,
   "metadata": {
    "kernel": "SysML",
    "tags": []
   },
   "outputs": [
    {
     "data": {
      "image/svg+xml": [
       "<?xml version=\"1.0\" encoding=\"UTF-8\" standalone=\"no\"?><svg xmlns=\"http://www.w3.org/2000/svg\" xmlns:xlink=\"http://www.w3.org/1999/xlink\" contentStyleType=\"text/css\" height=\"227px\" preserveAspectRatio=\"none\" style=\"width:734px;height:227px;background:#FFFFFF;\" version=\"1.1\" viewBox=\"0 0 734 227\" width=\"734px\" zoomAndPan=\"magnify\"><defs/><g><!--MD5=[fbc87193dbaf4d95561dea2c320d4a47]\n",
       "cluster E1--><g id=\"cluster_E1\"><a href=\"psysml:3f04dcc1-fa16-4066-8f57-bf3b605bcd56\" target=\"_top\" title=\"psysml:3f04dcc1-fa16-4066-8f57-bf3b605bcd56\" xlink:actuate=\"onRequest\" xlink:href=\"psysml:3f04dcc1-fa16-4066-8f57-bf3b605bcd56\" xlink:show=\"new\" xlink:title=\"psysml:3f04dcc1-fa16-4066-8f57-bf3b605bcd56\" xlink:type=\"simple\"><polygon fill=\"none\" points=\"16,6,228,6,235,29.6094,717,29.6094,717,220,16,220,16,6\" style=\"stroke:#000000;stroke-width:1.5;\"/><line style=\"stroke:#000000;stroke-width:1.5;\" x1=\"16\" x2=\"235\" y1=\"29.6094\" y2=\"29.6094\"/><text fill=\"#000000\" font-family=\"sans-serif\" font-size=\"14\" font-weight=\"bold\" lengthAdjust=\"spacing\" textLength=\"206\" x=\"20\" y=\"22.5332\">eVehicle_LogicalArchitecture</text></a></g><!--MD5=[b4997ac47864f28c2f74865a473b2911]\n",
       "class E2--><a href=\"psysml:a0f1edee-29f7-4222-af1c-c8bb9a7b50ba\" target=\"_top\" title=\"psysml:a0f1edee-29f7-4222-af1c-c8bb9a7b50ba\" xlink:actuate=\"onRequest\" xlink:href=\"psysml:a0f1edee-29f7-4222-af1c-c8bb9a7b50ba\" xlink:show=\"new\" xlink:title=\"psysml:a0f1edee-29f7-4222-af1c-c8bb9a7b50ba\" xlink:type=\"simple\"><g id=\"elem_E2\"><rect fill=\"#FFFFFF\" height=\"50.7031\" id=\"E2\" rx=\"10\" ry=\"10\" style=\"stroke:#181818;stroke-width:0.5;\" width=\"68\" x=\"299\" y=\"42\"/><text fill=\"#000000\" font-family=\"sans-serif\" font-size=\"12\" font-style=\"italic\" lengthAdjust=\"spacing\" textLength=\"35\" x=\"315.5\" y=\"59.457\">«part»</text><text fill=\"#000000\" font-family=\"sans-serif\" font-size=\"14\" lengthAdjust=\"spacing\" textLength=\"54\" x=\"302\" y=\"76.627\">eVehicle</text><line style=\"stroke:#181818;stroke-width:0.5;\" x1=\"300\" x2=\"366\" y1=\"84.7031\" y2=\"84.7031\"/></g></a><!--MD5=[09b614a08d8cba4a07c9adeb5e0fee81]\n",
       "class E3--><a href=\"psysml:2c9b0d80-a2ea-4ebb-9aa8-f60d1963cf72\" target=\"_top\" title=\"psysml:2c9b0d80-a2ea-4ebb-9aa8-f60d1963cf72\" xlink:actuate=\"onRequest\" xlink:href=\"psysml:2c9b0d80-a2ea-4ebb-9aa8-f60d1963cf72\" xlink:show=\"new\" xlink:title=\"psysml:2c9b0d80-a2ea-4ebb-9aa8-f60d1963cf72\" xlink:type=\"simple\"><g id=\"elem_E3\"><rect fill=\"#FFFFFF\" height=\"50.7031\" id=\"E3\" rx=\"10\" ry=\"10\" style=\"stroke:#181818;stroke-width:0.5;\" width=\"45\" x=\"32.5\" y=\"153\"/><text fill=\"#000000\" font-family=\"sans-serif\" font-size=\"12\" font-style=\"italic\" lengthAdjust=\"spacing\" textLength=\"35\" x=\"37.5\" y=\"170.457\">«part»</text><text fill=\"#000000\" font-family=\"sans-serif\" font-size=\"14\" lengthAdjust=\"spacing\" textLength=\"31\" x=\"35.5\" y=\"187.627\">body</text><line style=\"stroke:#181818;stroke-width:0.5;\" x1=\"33.5\" x2=\"76.5\" y1=\"195.7031\" y2=\"195.7031\"/></g></a><!--MD5=[ebbe1d658d1005bcc118a6aa81145e00]\n",
       "class E4--><a href=\"psysml:ba49fcf2-13f0-43fb-8ce1-c819e92b96bb\" target=\"_top\" title=\"psysml:ba49fcf2-13f0-43fb-8ce1-c819e92b96bb\" xlink:actuate=\"onRequest\" xlink:href=\"psysml:ba49fcf2-13f0-43fb-8ce1-c819e92b96bb\" xlink:show=\"new\" xlink:title=\"psysml:ba49fcf2-13f0-43fb-8ce1-c819e92b96bb\" xlink:type=\"simple\"><g id=\"elem_E4\"><rect fill=\"#FFFFFF\" height=\"50.7031\" id=\"E4\" rx=\"10\" ry=\"10\" style=\"stroke:#181818;stroke-width:0.5;\" width=\"58\" x=\"113\" y=\"153\"/><text fill=\"#000000\" font-family=\"sans-serif\" font-size=\"12\" font-style=\"italic\" lengthAdjust=\"spacing\" textLength=\"35\" x=\"124.5\" y=\"170.457\">«part»</text><text fill=\"#000000\" font-family=\"sans-serif\" font-size=\"14\" lengthAdjust=\"spacing\" textLength=\"44\" x=\"116\" y=\"187.627\">battery</text><line style=\"stroke:#181818;stroke-width:0.5;\" x1=\"114\" x2=\"170\" y1=\"195.7031\" y2=\"195.7031\"/></g></a><!--MD5=[270fce915f116d4de14055a7c1d9a0f3]\n",
       "class E5--><a href=\"psysml:c5f2f1ae-55c3-456e-bde1-ad0ec98eee18\" target=\"_top\" title=\"psysml:c5f2f1ae-55c3-456e-bde1-ad0ec98eee18\" xlink:actuate=\"onRequest\" xlink:href=\"psysml:c5f2f1ae-55c3-456e-bde1-ad0ec98eee18\" xlink:show=\"new\" xlink:title=\"psysml:c5f2f1ae-55c3-456e-bde1-ad0ec98eee18\" xlink:type=\"simple\"><g id=\"elem_E5\"><rect fill=\"#FFFFFF\" height=\"50.7031\" id=\"E5\" rx=\"10\" ry=\"10\" style=\"stroke:#181818;stroke-width:0.5;\" width=\"57\" x=\"206.5\" y=\"153\"/><text fill=\"#000000\" font-family=\"sans-serif\" font-size=\"12\" font-style=\"italic\" lengthAdjust=\"spacing\" textLength=\"35\" x=\"217.5\" y=\"170.457\">«part»</text><text fill=\"#000000\" font-family=\"sans-serif\" font-size=\"14\" lengthAdjust=\"spacing\" textLength=\"43\" x=\"209.5\" y=\"187.627\">engine</text><line style=\"stroke:#181818;stroke-width:0.5;\" x1=\"207.5\" x2=\"262.5\" y1=\"195.7031\" y2=\"195.7031\"/></g></a><!--MD5=[60a26617385b1d2d0262a64233df1f8d]\n",
       "class E6--><a href=\"psysml:2dfe46ed-c6ea-4299-bfcd-abc4f2d38dfe\" target=\"_top\" title=\"psysml:2dfe46ed-c6ea-4299-bfcd-abc4f2d38dfe\" xlink:actuate=\"onRequest\" xlink:href=\"psysml:2dfe46ed-c6ea-4299-bfcd-abc4f2d38dfe\" xlink:show=\"new\" xlink:title=\"psysml:2dfe46ed-c6ea-4299-bfcd-abc4f2d38dfe\" xlink:type=\"simple\"><g id=\"elem_E6\"><rect fill=\"#FFFFFF\" height=\"50.7031\" id=\"E6\" rx=\"10\" ry=\"10\" style=\"stroke:#181818;stroke-width:0.5;\" width=\"68\" x=\"299\" y=\"153\"/><text fill=\"#000000\" font-family=\"sans-serif\" font-size=\"12\" font-style=\"italic\" lengthAdjust=\"spacing\" textLength=\"35\" x=\"315.5\" y=\"170.457\">«part»</text><text fill=\"#000000\" font-family=\"sans-serif\" font-size=\"14\" lengthAdjust=\"spacing\" textLength=\"54\" x=\"302\" y=\"187.627\">frontAxis</text><line style=\"stroke:#181818;stroke-width:0.5;\" x1=\"300\" x2=\"366\" y1=\"195.7031\" y2=\"195.7031\"/></g></a><!--MD5=[2156ba9850f5573cc1fc38a6a4b2f02b]\n",
       "class E7--><a href=\"psysml:1fad9435-a44e-4533-b06a-f8c4fceded39\" target=\"_top\" title=\"psysml:1fad9435-a44e-4533-b06a-f8c4fceded39\" xlink:actuate=\"onRequest\" xlink:href=\"psysml:1fad9435-a44e-4533-b06a-f8c4fceded39\" xlink:show=\"new\" xlink:title=\"psysml:1fad9435-a44e-4533-b06a-f8c4fceded39\" xlink:type=\"simple\"><g id=\"elem_E7\"><rect fill=\"#FFFFFF\" height=\"50.7031\" id=\"E7\" rx=\"10\" ry=\"10\" style=\"stroke:#181818;stroke-width:0.5;\" width=\"65\" x=\"402.5\" y=\"153\"/><text fill=\"#000000\" font-family=\"sans-serif\" font-size=\"12\" font-style=\"italic\" lengthAdjust=\"spacing\" textLength=\"35\" x=\"417.5\" y=\"170.457\">«part»</text><text fill=\"#000000\" font-family=\"sans-serif\" font-size=\"14\" lengthAdjust=\"spacing\" textLength=\"51\" x=\"405.5\" y=\"187.627\">rearAxis</text><line style=\"stroke:#181818;stroke-width:0.5;\" x1=\"403.5\" x2=\"466.5\" y1=\"195.7031\" y2=\"195.7031\"/></g></a><!--MD5=[b9389687b975829384b498ac4b7476b2]\n",
       "class E8--><a href=\"psysml:77f943ce-0f1c-4819-b330-b5f79f202bae\" target=\"_top\" title=\"psysml:77f943ce-0f1c-4819-b330-b5f79f202bae\" xlink:actuate=\"onRequest\" xlink:href=\"psysml:77f943ce-0f1c-4819-b330-b5f79f202bae\" xlink:show=\"new\" xlink:title=\"psysml:77f943ce-0f1c-4819-b330-b5f79f202bae\" xlink:type=\"simple\"><g id=\"elem_E8\"><rect fill=\"#FFFFFF\" height=\"50.7031\" id=\"E8\" rx=\"10\" ry=\"10\" style=\"stroke:#181818;stroke-width:0.5;\" width=\"83\" x=\"502.5\" y=\"153\"/><text fill=\"#000000\" font-family=\"sans-serif\" font-size=\"12\" font-style=\"italic\" lengthAdjust=\"spacing\" textLength=\"35\" x=\"526.5\" y=\"170.457\">«part»</text><text fill=\"#000000\" font-family=\"sans-serif\" font-size=\"14\" lengthAdjust=\"spacing\" textLength=\"69\" x=\"505.5\" y=\"187.627\">frontWheel</text><line style=\"stroke:#181818;stroke-width:0.5;\" x1=\"503.5\" x2=\"584.5\" y1=\"195.7031\" y2=\"195.7031\"/></g></a><!--MD5=[fd4143e9d270a159db93a4ea2a975926]\n",
       "class E9--><a href=\"psysml:6dfa2e2f-a56e-4d14-9697-aebcd31fc9de\" target=\"_top\" title=\"psysml:6dfa2e2f-a56e-4d14-9697-aebcd31fc9de\" xlink:actuate=\"onRequest\" xlink:href=\"psysml:6dfa2e2f-a56e-4d14-9697-aebcd31fc9de\" xlink:show=\"new\" xlink:title=\"psysml:6dfa2e2f-a56e-4d14-9697-aebcd31fc9de\" xlink:type=\"simple\"><g id=\"elem_E9\"><rect fill=\"#FFFFFF\" height=\"50.7031\" id=\"E9\" rx=\"10\" ry=\"10\" style=\"stroke:#181818;stroke-width:0.5;\" width=\"80\" x=\"621\" y=\"153\"/><text fill=\"#000000\" font-family=\"sans-serif\" font-size=\"12\" font-style=\"italic\" lengthAdjust=\"spacing\" textLength=\"35\" x=\"643.5\" y=\"170.457\">«part»</text><text fill=\"#000000\" font-family=\"sans-serif\" font-size=\"14\" lengthAdjust=\"spacing\" textLength=\"66\" x=\"624\" y=\"187.627\">rearWheel</text><line style=\"stroke:#181818;stroke-width:0.5;\" x1=\"622\" x2=\"700\" y1=\"195.7031\" y2=\"195.7031\"/></g></a><!--MD5=[209b3feb70ccb6233bfe1053d122c12c]\n",
       "reverse link E2 to E3--><g id=\"link_E2_E3\"><a href=\"psysml:299a9826-a870-45f9-b0a0-382058b8e7d7\" target=\"_top\" title=\"psysml:299a9826-a870-45f9-b0a0-382058b8e7d7\" xlink:actuate=\"onRequest\" xlink:href=\"psysml:299a9826-a870-45f9-b0a0-382058b8e7d7\" xlink:show=\"new\" xlink:title=\"psysml:299a9826-a870-45f9-b0a0-382058b8e7d7\" xlink:type=\"simple\"><path d=\"M286.2,82.19 C237.6,97.1 159.88,122.88 96,153 C89.85,155.9 83.43,159.46 77.55,162.95 \" fill=\"none\" id=\"E2-backto-E3\" style=\"stroke:#181818;stroke-width:1.0;\"/><polygon fill=\"#181818\" points=\"298.8,78.37,291.8977,76.2824,287.3159,81.8508,294.2182,83.9384,298.8,78.37\" style=\"stroke:#181818;stroke-width:1.0;\"/><text fill=\"#000000\" font-family=\"sans-serif\" font-size=\"13\" lengthAdjust=\"spacing\" textLength=\"7\" x=\"85.5278\" y=\"153.3322\">1</text></a></g><!--MD5=[9618e71518536f8baf3342ff6fdab317]\n",
       "reverse link E2 to E4--><g id=\"link_E2_E4\"><a href=\"psysml:eb35fbf0-ed95-4131-b517-c803ebf03746\" target=\"_top\" title=\"psysml:eb35fbf0-ed95-4131-b517-c803ebf03746\" xlink:actuate=\"onRequest\" xlink:href=\"psysml:eb35fbf0-ed95-4131-b517-c803ebf03746\" xlink:show=\"new\" xlink:title=\"psysml:eb35fbf0-ed95-4131-b517-c803ebf03746\" xlink:type=\"simple\"><path d=\"M287.18,94.65 C251.14,115.22 202.02,143.25 171.16,160.86 \" fill=\"none\" id=\"E2-backto-E4\" style=\"stroke:#181818;stroke-width:1.0;\"/><polygon fill=\"#181818\" points=\"298.85,87.99,291.6562,87.4909,288.4286,93.9394,295.6225,94.4385,298.85,87.99\" style=\"stroke:#181818;stroke-width:1.0;\"/><text fill=\"#000000\" font-family=\"sans-serif\" font-size=\"13\" lengthAdjust=\"spacing\" textLength=\"7\" x=\"179.1209\" y=\"152.1844\">1</text></a></g><!--MD5=[4e1a83fab71cdb913c109063314ae896]\n",
       "reverse link E2 to E5--><g id=\"link_E2_E5\"><a href=\"psysml:07d9b842-1151-4051-835b-b07497f119db\" target=\"_top\" title=\"psysml:07d9b842-1151-4051-835b-b07497f119db\" xlink:actuate=\"onRequest\" xlink:href=\"psysml:07d9b842-1151-4051-835b-b07497f119db\" xlink:show=\"new\" xlink:title=\"psysml:07d9b842-1151-4051-835b-b07497f119db\" xlink:type=\"simple\"><path d=\"M302.06,102.91 C287.48,119.13 270.41,138.11 257.15,152.86 \" fill=\"none\" id=\"E2-backto-E5\" style=\"stroke:#181818;stroke-width:1.0;\"/><polygon fill=\"#181818\" points=\"310.76,93.23,303.7736,95.0162,302.7353,102.1522,309.7217,100.366,310.76,93.23\" style=\"stroke:#181818;stroke-width:1.0;\"/><text fill=\"#000000\" font-family=\"sans-serif\" font-size=\"13\" lengthAdjust=\"spacing\" textLength=\"7\" x=\"254.6959\" y=\"142.2344\">1</text></a></g><!--MD5=[ce036f65110ae2351ccce5a81dc2e928]\n",
       "reverse link E2 to E6--><g id=\"link_E2_E6\"><a href=\"psysml:57e8fe77-a496-47c4-b3ef-ae76e50844a3\" target=\"_top\" title=\"psysml:57e8fe77-a496-47c4-b3ef-ae76e50844a3\" xlink:actuate=\"onRequest\" xlink:href=\"psysml:57e8fe77-a496-47c4-b3ef-ae76e50844a3\" xlink:show=\"new\" xlink:title=\"psysml:57e8fe77-a496-47c4-b3ef-ae76e50844a3\" xlink:type=\"simple\"><path d=\"M333,106.63 C333,121.97 333,139.22 333,152.86 \" fill=\"none\" id=\"E2-backto-E6\" style=\"stroke:#181818;stroke-width:1.0;\"/><polygon fill=\"#181818\" points=\"333,93.23,329,99.23,333,105.23,337,99.23,333,93.23\" style=\"stroke:#181818;stroke-width:1.0;\"/><text fill=\"#000000\" font-family=\"sans-serif\" font-size=\"13\" lengthAdjust=\"spacing\" textLength=\"7\" x=\"325.1469\" y=\"142.2344\">1</text></a></g><!--MD5=[1c72b32696d764168c30777981ec3f66]\n",
       "reverse link E2 to E7--><g id=\"link_E2_E7\"><a href=\"psysml:07b44a30-92dc-4432-8df2-97b7453c8dcc\" target=\"_top\" title=\"psysml:07b44a30-92dc-4432-8df2-97b7453c8dcc\" xlink:actuate=\"onRequest\" xlink:href=\"psysml:07b44a30-92dc-4432-8df2-97b7453c8dcc\" xlink:show=\"new\" xlink:title=\"psysml:07b44a30-92dc-4432-8df2-97b7453c8dcc\" xlink:type=\"simple\"><path d=\"M365.2,102.91 C380.38,119.13 398.14,138.11 411.95,152.86 \" fill=\"none\" id=\"E2-backto-E7\" style=\"stroke:#181818;stroke-width:1.0;\"/><polygon fill=\"#181818\" points=\"356.15,93.23,357.3269,100.3444,364.3468,101.9943,363.1698,94.8799,356.15,93.23\" style=\"stroke:#181818;stroke-width:1.0;\"/><text fill=\"#000000\" font-family=\"sans-serif\" font-size=\"13\" lengthAdjust=\"spacing\" textLength=\"7\" x=\"398.4784\" y=\"142.2344\">1</text></a></g><!--MD5=[65f962d72b3a6bed1ede4f3c867e43a4]\n",
       "reverse link E2 to E8--><g id=\"link_E2_E8\"><a href=\"psysml:19c1c062-78a9-4a83-94a1-121a6a21e5f3\" target=\"_top\" title=\"psysml:19c1c062-78a9-4a83-94a1-121a6a21e5f3\" xlink:actuate=\"onRequest\" xlink:href=\"psysml:19c1c062-78a9-4a83-94a1-121a6a21e5f3\" xlink:show=\"new\" xlink:title=\"psysml:19c1c062-78a9-4a83-94a1-121a6a21e5f3\" xlink:type=\"simple\"><path d=\"M379.24,92.39 C415.98,111.37 466.91,137.68 502.39,156 \" fill=\"none\" id=\"E2-backto-E8\" style=\"stroke:#181818;stroke-width:1.0;\"/><polygon fill=\"#181818\" points=\"367.37,86.26,370.8612,92.5696,378.0282,91.7738,374.5371,85.4641,367.37,86.26\" style=\"stroke:#181818;stroke-width:1.0;\"/><text fill=\"#000000\" font-family=\"sans-serif\" font-size=\"13\" lengthAdjust=\"spacing\" textLength=\"7\" x=\"487.6367\" y=\"148.3087\">2</text></a></g><!--MD5=[4a91eb351f2fb42055d99b719d3dd418]\n",
       "reverse link E2 to E9--><g id=\"link_E2_E9\"><a href=\"psysml:61a89073-1c75-469c-8af9-3d00d6c9949a\" target=\"_top\" title=\"psysml:61a89073-1c75-469c-8af9-3d00d6c9949a\" xlink:actuate=\"onRequest\" xlink:href=\"psysml:61a89073-1c75-469c-8af9-3d00d6c9949a\" xlink:show=\"new\" xlink:title=\"psysml:61a89073-1c75-469c-8af9-3d00d6c9949a\" xlink:type=\"simple\"><path d=\"M379.63,81.61 C433.82,97.18 525.68,124.64 603,153 C608.85,155.15 614.97,157.55 620.95,159.99 \" fill=\"none\" id=\"E2-backto-E9\" style=\"stroke:#181818;stroke-width:1.0;\"/><polygon fill=\"#181818\" points=\"367.03,78.01,371.6945,83.5094,378.5648,81.3188,373.9003,75.8195,367.03,78.01\" style=\"stroke:#181818;stroke-width:1.0;\"/><text fill=\"#000000\" font-family=\"sans-serif\" font-size=\"13\" lengthAdjust=\"spacing\" textLength=\"7\" x=\"605.9205\" y=\"152.6571\">2</text></a></g><!--MD5=[cf86d319cc8078ece1e4201135ef3132]\n",
       "@startuml\r\n",
       "skin sysmlbw\r\n",
       "skinparam monochrome true\r\n",
       "skinparam wrapWidth 300\r\n",
       "hide circle\r\n",
       "\r\n",
       "package \"eVehicle_LogicalArchitecture\" as E1  [[psysml:3f04dcc1-fa16-4066-8f57-bf3b605bcd56 ]]  {\r\n",
       "comp usage \"eVehicle  \" as E2  <<(T,blue) part>> [[psysml:a0f1edee-29f7-4222-af1c-c8bb9a7b50ba ]] {\r\n",
       "}\r\n",
       "comp usage \"body  \" as E3  <<(T,blue) part>> [[psysml:2c9b0d80-a2ea-4ebb-9aa8-f60d1963cf72 ]] {\r\n",
       "}\r\n",
       "comp usage \"battery  \" as E4  <<(T,blue) part>> [[psysml:ba49fcf2-13f0-43fb-8ce1-c819e92b96bb ]] {\r\n",
       "}\r\n",
       "comp usage \"engine  \" as E5  <<(T,blue) part>> [[psysml:c5f2f1ae-55c3-456e-bde1-ad0ec98eee18 ]] {\r\n",
       "}\r\n",
       "comp usage \"frontAxis  \" as E6  <<(T,blue) part>> [[psysml:2dfe46ed-c6ea-4299-bfcd-abc4f2d38dfe ]] {\r\n",
       "}\r\n",
       "comp usage \"rearAxis  \" as E7  <<(T,blue) part>> [[psysml:1fad9435-a44e-4533-b06a-f8c4fceded39 ]] {\r\n",
       "}\r\n",
       "comp usage \"frontWheel  \" as E8  <<(T,blue) part>> [[psysml:77f943ce-0f1c-4819-b330-b5f79f202bae ]] {\r\n",
       "}\r\n",
       "comp usage \"rearWheel  \" as E9  <<(T,blue) part>> [[psysml:6dfa2e2f-a56e-4d14-9697-aebcd31fc9de ]] {\r\n",
       "}\r\n",
       "}\r\n",
       "E2 *- - \"1\"E3 [[psysml:299a9826-a870-45f9-b0a0-382058b8e7d7 ]] \r\n",
       "E2 *- - \"1\"E4 [[psysml:eb35fbf0-ed95-4131-b517-c803ebf03746 ]] \r\n",
       "E2 *- - \"1\"E5 [[psysml:07d9b842-1151-4051-835b-b07497f119db ]] \r\n",
       "E2 *- - \"1\"E6 [[psysml:57e8fe77-a496-47c4-b3ef-ae76e50844a3 ]] \r\n",
       "E2 *- - \"1\"E7 [[psysml:07b44a30-92dc-4432-8df2-97b7453c8dcc ]] \r\n",
       "E2 *- - \"2\"E8 [[psysml:19c1c062-78a9-4a83-94a1-121a6a21e5f3 ]] \r\n",
       "E2 *- - \"2\"E9 [[psysml:61a89073-1c75-469c-8af9-3d00d6c9949a ]] \r\n",
       "@enduml\r\n",
       "\n",
       "PlantUML version 1.2022.7(Mon Aug 22 12:01:30 CDT 2022)\n",
       "(EPL source distribution)\n",
       "Java Runtime: OpenJDK Runtime Environment\n",
       "JVM: OpenJDK 64-Bit Server VM\n",
       "Default Encoding: UTF-8\n",
       "Language: en\n",
       "Country: US\n",
       "--></g></svg>"
      ]
     },
     "execution_count": 9,
     "metadata": {},
     "output_type": "execute_result"
    }
   ],
   "source": [
    "%viz --view=tree eVehicle_LogicalArchitecture\n",
    "%capture"
   ]
  },
  {
   "cell_type": "markdown",
   "metadata": {
    "kernel": "SoS"
   },
   "source": [
    "The diagram is only a view, and not an editor. A graphical editor is not provided in the pilot implementation. Future SysML v2 modeling tools will certainly offer graphical editors."
   ]
  },
  {
   "cell_type": "markdown",
   "metadata": {
    "kernel": "SoS"
   },
   "source": [
    "### Changes to SysML v1\n",
    "\n",
    "SysML v2 is a complete new language with a different foundation than SysML v1. Therefore, there are plenty of differences. Here, I highlight only the changes that are most relevant to the modeler.\n",
    "\n",
    "If I had modeled the eVehicle in SysML v1, I would have had to first define blocks and then part properties whose types are the blocks.\n",
    "\n",
    "![eVehicle in SysML v1](evehicle-logical-architecture-sysmlv1.jpg)\n",
    "\n",
    "Did you notice it in my simple SysML v2 example above? There are no blocks there, only parts. To put it simply, this would be like modeling part properties in SysML v1 without blocks. Basically, it works that in SysML v1 you define a part without a block. But what is not possible in SysML v1 is that the parts themselves define substructures.\n",
    "\n",
    "However, the parts of the eVehicle also have a type. Above in the output of the %show command you can see \"[Subsetting (implicit)] PartUsage subparts\". \"subparts\" is a special part from the SysML v2 library. This implicit connection is set in the background. By subsetting \"subparts\", the parts of the eVehicle get a generic type \"Part\" from the SysML v2 library."
   ]
  },
  {
   "cell_type": "markdown",
   "metadata": {
    "kernel": "SoS"
   },
   "source": [
    "## Parts and PartDefinitions<a name=\"sysmlv2modparts\"></a>\n",
    "\n",
    "Modeling a decomposition is a typical capability that an MBSE modeling language must have. The simple example of the eVehicle uses the part decomposition.. For example, there is also the decomposition of functions.\n",
    "\n",
    "In SysML v2, you can define parts without types, but with substructures, for example, attributes. The following model extends the example and adds a property to the wheel to specify the size. The type of the attribute is Integer. Units are skipped for now. "
   ]
  },
  {
   "cell_type": "code",
   "execution_count": 8,
   "metadata": {
    "kernel": "SysML",
    "tags": []
   },
   "outputs": [
    {
     "data": {
      "text/plain": [
       "Package eVehicle_LogicalArchitecture (6fc79267-7453-4156-bb6a-2cfa86d47568)\n"
      ]
     },
     "execution_count": 8,
     "metadata": {},
     "output_type": "execute_result"
    }
   ],
   "source": [
    "package eVehicle_LogicalArchitecture {\n",
    "    \n",
    "    import ScalarValues::*;\n",
    "    \n",
    "    part eVehicle {    \n",
    "        part body;\n",
    "        part battery;\n",
    "        part engine;\n",
    "        part frontAxis;\n",
    "        part rearAxis;\n",
    "        part frontWheel[2] {\n",
    "            attribute size : Integer;\n",
    "        }\n",
    "        part rearWheel[2] {\n",
    "            attribute size : Integer;\n",
    "        }\n",
    "    }\n",
    "}"
   ]
  },
  {
   "cell_type": "markdown",
   "metadata": {
    "kernel": "SoS"
   },
   "source": [
    "Run the cell with the SysML v2 model, and visualize the model. If you also would like to see the model structure, execute the %show command as described above."
   ]
  },
  {
   "cell_type": "code",
   "execution_count": 10,
   "metadata": {
    "kernel": "SysML",
    "tags": []
   },
   "outputs": [
    {
     "data": {
      "image/svg+xml": [
       "<?xml version=\"1.0\" encoding=\"UTF-8\" standalone=\"no\"?><svg xmlns=\"http://www.w3.org/2000/svg\" xmlns:xlink=\"http://www.w3.org/1999/xlink\" contentStyleType=\"text/css\" height=\"255px\" preserveAspectRatio=\"none\" style=\"width:747px;height:255px;background:#FFFFFF;\" version=\"1.1\" viewBox=\"0 0 747 255\" width=\"747px\" zoomAndPan=\"magnify\"><defs/><g><!--MD5=[fbc87193dbaf4d95561dea2c320d4a47]\n",
       "cluster E1--><g id=\"cluster_E1\"><a href=\"psysml:6fc79267-7453-4156-bb6a-2cfa86d47568\" target=\"_top\" title=\"psysml:6fc79267-7453-4156-bb6a-2cfa86d47568\" xlink:actuate=\"onRequest\" xlink:href=\"psysml:6fc79267-7453-4156-bb6a-2cfa86d47568\" xlink:show=\"new\" xlink:title=\"psysml:6fc79267-7453-4156-bb6a-2cfa86d47568\" xlink:type=\"simple\"><polygon fill=\"none\" points=\"16,6,228,6,235,29.6094,730,29.6094,730,248,16,248,16,6\" style=\"stroke:#000000;stroke-width:1.5;\"/><line style=\"stroke:#000000;stroke-width:1.5;\" x1=\"16\" x2=\"235\" y1=\"29.6094\" y2=\"29.6094\"/><text fill=\"#000000\" font-family=\"sans-serif\" font-size=\"14\" font-weight=\"bold\" lengthAdjust=\"spacing\" textLength=\"206\" x=\"20\" y=\"22.5332\">eVehicle_LogicalArchitecture</text></a></g><!--MD5=[b4997ac47864f28c2f74865a473b2911]\n",
       "class E2--><a href=\"psysml:c44e3906-a079-469f-adc0-0f6491c99251\" target=\"_top\" title=\"psysml:c44e3906-a079-469f-adc0-0f6491c99251\" xlink:actuate=\"onRequest\" xlink:href=\"psysml:c44e3906-a079-469f-adc0-0f6491c99251\" xlink:show=\"new\" xlink:title=\"psysml:c44e3906-a079-469f-adc0-0f6491c99251\" xlink:type=\"simple\"><g id=\"elem_E2\"><rect fill=\"#FFFFFF\" height=\"50.7031\" id=\"E2\" rx=\"10\" ry=\"10\" style=\"stroke:#181818;stroke-width:0.5;\" width=\"68\" x=\"299\" y=\"42\"/><text fill=\"#000000\" font-family=\"sans-serif\" font-size=\"12\" font-style=\"italic\" lengthAdjust=\"spacing\" textLength=\"35\" x=\"315.5\" y=\"59.457\">«part»</text><text fill=\"#000000\" font-family=\"sans-serif\" font-size=\"14\" lengthAdjust=\"spacing\" textLength=\"54\" x=\"302\" y=\"76.627\">eVehicle</text><line style=\"stroke:#181818;stroke-width:0.5;\" x1=\"300\" x2=\"366\" y1=\"84.7031\" y2=\"84.7031\"/></g></a><!--MD5=[09b614a08d8cba4a07c9adeb5e0fee81]\n",
       "class E3--><a href=\"psysml:615885d0-0418-452c-92de-601ccbc0667f\" target=\"_top\" title=\"psysml:615885d0-0418-452c-92de-601ccbc0667f\" xlink:actuate=\"onRequest\" xlink:href=\"psysml:615885d0-0418-452c-92de-601ccbc0667f\" xlink:show=\"new\" xlink:title=\"psysml:615885d0-0418-452c-92de-601ccbc0667f\" xlink:type=\"simple\"><g id=\"elem_E3\"><rect fill=\"#FFFFFF\" height=\"50.7031\" id=\"E3\" rx=\"10\" ry=\"10\" style=\"stroke:#181818;stroke-width:0.5;\" width=\"45\" x=\"32.5\" y=\"167\"/><text fill=\"#000000\" font-family=\"sans-serif\" font-size=\"12\" font-style=\"italic\" lengthAdjust=\"spacing\" textLength=\"35\" x=\"37.5\" y=\"184.457\">«part»</text><text fill=\"#000000\" font-family=\"sans-serif\" font-size=\"14\" lengthAdjust=\"spacing\" textLength=\"31\" x=\"35.5\" y=\"201.627\">body</text><line style=\"stroke:#181818;stroke-width:0.5;\" x1=\"33.5\" x2=\"76.5\" y1=\"209.7031\" y2=\"209.7031\"/></g></a><!--MD5=[ebbe1d658d1005bcc118a6aa81145e00]\n",
       "class E4--><a href=\"psysml:3a840929-049c-4df5-a77c-d2d4f64ad207\" target=\"_top\" title=\"psysml:3a840929-049c-4df5-a77c-d2d4f64ad207\" xlink:actuate=\"onRequest\" xlink:href=\"psysml:3a840929-049c-4df5-a77c-d2d4f64ad207\" xlink:show=\"new\" xlink:title=\"psysml:3a840929-049c-4df5-a77c-d2d4f64ad207\" xlink:type=\"simple\"><g id=\"elem_E4\"><rect fill=\"#FFFFFF\" height=\"50.7031\" id=\"E4\" rx=\"10\" ry=\"10\" style=\"stroke:#181818;stroke-width:0.5;\" width=\"58\" x=\"113\" y=\"167\"/><text fill=\"#000000\" font-family=\"sans-serif\" font-size=\"12\" font-style=\"italic\" lengthAdjust=\"spacing\" textLength=\"35\" x=\"124.5\" y=\"184.457\">«part»</text><text fill=\"#000000\" font-family=\"sans-serif\" font-size=\"14\" lengthAdjust=\"spacing\" textLength=\"44\" x=\"116\" y=\"201.627\">battery</text><line style=\"stroke:#181818;stroke-width:0.5;\" x1=\"114\" x2=\"170\" y1=\"209.7031\" y2=\"209.7031\"/></g></a><!--MD5=[270fce915f116d4de14055a7c1d9a0f3]\n",
       "class E5--><a href=\"psysml:7c8650f0-84c2-423f-8472-fb9f5f4ef05e\" target=\"_top\" title=\"psysml:7c8650f0-84c2-423f-8472-fb9f5f4ef05e\" xlink:actuate=\"onRequest\" xlink:href=\"psysml:7c8650f0-84c2-423f-8472-fb9f5f4ef05e\" xlink:show=\"new\" xlink:title=\"psysml:7c8650f0-84c2-423f-8472-fb9f5f4ef05e\" xlink:type=\"simple\"><g id=\"elem_E5\"><rect fill=\"#FFFFFF\" height=\"50.7031\" id=\"E5\" rx=\"10\" ry=\"10\" style=\"stroke:#181818;stroke-width:0.5;\" width=\"57\" x=\"206.5\" y=\"167\"/><text fill=\"#000000\" font-family=\"sans-serif\" font-size=\"12\" font-style=\"italic\" lengthAdjust=\"spacing\" textLength=\"35\" x=\"217.5\" y=\"184.457\">«part»</text><text fill=\"#000000\" font-family=\"sans-serif\" font-size=\"14\" lengthAdjust=\"spacing\" textLength=\"43\" x=\"209.5\" y=\"201.627\">engine</text><line style=\"stroke:#181818;stroke-width:0.5;\" x1=\"207.5\" x2=\"262.5\" y1=\"209.7031\" y2=\"209.7031\"/></g></a><!--MD5=[60a26617385b1d2d0262a64233df1f8d]\n",
       "class E6--><a href=\"psysml:e5efcdf4-8ebb-4804-9cac-762b3525e1ba\" target=\"_top\" title=\"psysml:e5efcdf4-8ebb-4804-9cac-762b3525e1ba\" xlink:actuate=\"onRequest\" xlink:href=\"psysml:e5efcdf4-8ebb-4804-9cac-762b3525e1ba\" xlink:show=\"new\" xlink:title=\"psysml:e5efcdf4-8ebb-4804-9cac-762b3525e1ba\" xlink:type=\"simple\"><g id=\"elem_E6\"><rect fill=\"#FFFFFF\" height=\"50.7031\" id=\"E6\" rx=\"10\" ry=\"10\" style=\"stroke:#181818;stroke-width:0.5;\" width=\"68\" x=\"299\" y=\"167\"/><text fill=\"#000000\" font-family=\"sans-serif\" font-size=\"12\" font-style=\"italic\" lengthAdjust=\"spacing\" textLength=\"35\" x=\"315.5\" y=\"184.457\">«part»</text><text fill=\"#000000\" font-family=\"sans-serif\" font-size=\"14\" lengthAdjust=\"spacing\" textLength=\"54\" x=\"302\" y=\"201.627\">frontAxis</text><line style=\"stroke:#181818;stroke-width:0.5;\" x1=\"300\" x2=\"366\" y1=\"209.7031\" y2=\"209.7031\"/></g></a><!--MD5=[2156ba9850f5573cc1fc38a6a4b2f02b]\n",
       "class E7--><a href=\"psysml:55479ad7-66b3-41ec-b1b2-9147db563314\" target=\"_top\" title=\"psysml:55479ad7-66b3-41ec-b1b2-9147db563314\" xlink:actuate=\"onRequest\" xlink:href=\"psysml:55479ad7-66b3-41ec-b1b2-9147db563314\" xlink:show=\"new\" xlink:title=\"psysml:55479ad7-66b3-41ec-b1b2-9147db563314\" xlink:type=\"simple\"><g id=\"elem_E7\"><rect fill=\"#FFFFFF\" height=\"50.7031\" id=\"E7\" rx=\"10\" ry=\"10\" style=\"stroke:#181818;stroke-width:0.5;\" width=\"65\" x=\"402.5\" y=\"167\"/><text fill=\"#000000\" font-family=\"sans-serif\" font-size=\"12\" font-style=\"italic\" lengthAdjust=\"spacing\" textLength=\"35\" x=\"417.5\" y=\"184.457\">«part»</text><text fill=\"#000000\" font-family=\"sans-serif\" font-size=\"14\" lengthAdjust=\"spacing\" textLength=\"51\" x=\"405.5\" y=\"201.627\">rearAxis</text><line style=\"stroke:#181818;stroke-width:0.5;\" x1=\"403.5\" x2=\"466.5\" y1=\"209.7031\" y2=\"209.7031\"/></g></a><!--MD5=[b9389687b975829384b498ac4b7476b2]\n",
       "class E8--><a href=\"psysml:e606c03c-2e35-42f7-8700-69abe6e13de2\" target=\"_top\" title=\"psysml:e606c03c-2e35-42f7-8700-69abe6e13de2\" xlink:actuate=\"onRequest\" xlink:href=\"psysml:e606c03c-2e35-42f7-8700-69abe6e13de2\" xlink:show=\"new\" xlink:title=\"psysml:e606c03c-2e35-42f7-8700-69abe6e13de2\" xlink:type=\"simple\"><g id=\"elem_E8\"><rect fill=\"#FFFFFF\" height=\"79.3563\" id=\"E8\" rx=\"10\" ry=\"10\" style=\"stroke:#181818;stroke-width:0.5;\" width=\"88\" x=\"503\" y=\"153\"/><text fill=\"#000000\" font-family=\"sans-serif\" font-size=\"12\" font-style=\"italic\" lengthAdjust=\"spacing\" textLength=\"35\" x=\"529.5\" y=\"170.457\">«part»</text><text fill=\"#000000\" font-family=\"sans-serif\" font-size=\"14\" lengthAdjust=\"spacing\" textLength=\"69\" x=\"508.5\" y=\"187.627\">frontWheel</text><line style=\"stroke:#181818;stroke-width:0.5;\" x1=\"504\" x2=\"590\" y1=\"195.7031\" y2=\"195.7031\"/><text fill=\"#000000\" font-family=\"sans-serif\" font-size=\"14\" lengthAdjust=\"spacing\" textLength=\"76\" x=\"509\" y=\"225.2801\">size: Integer</text><text fill=\"#000000\" font-family=\"sans-serif\" font-size=\"14\" font-style=\"italic\" lengthAdjust=\"spacing\" textLength=\"59\" x=\"517.5\" y=\"208.9316\">attributes</text></g></a><!--MD5=[fd4143e9d270a159db93a4ea2a975926]\n",
       "class E9--><a href=\"psysml:f0091bbc-0340-4fd6-a5b0-3fb898c93962\" target=\"_top\" title=\"psysml:f0091bbc-0340-4fd6-a5b0-3fb898c93962\" xlink:actuate=\"onRequest\" xlink:href=\"psysml:f0091bbc-0340-4fd6-a5b0-3fb898c93962\" xlink:show=\"new\" xlink:title=\"psysml:f0091bbc-0340-4fd6-a5b0-3fb898c93962\" xlink:type=\"simple\"><g id=\"elem_E9\"><rect fill=\"#FFFFFF\" height=\"79.3563\" id=\"E9\" rx=\"10\" ry=\"10\" style=\"stroke:#181818;stroke-width:0.5;\" width=\"88\" x=\"626\" y=\"153\"/><text fill=\"#000000\" font-family=\"sans-serif\" font-size=\"12\" font-style=\"italic\" lengthAdjust=\"spacing\" textLength=\"35\" x=\"652.5\" y=\"170.457\">«part»</text><text fill=\"#000000\" font-family=\"sans-serif\" font-size=\"14\" lengthAdjust=\"spacing\" textLength=\"66\" x=\"633\" y=\"187.627\">rearWheel</text><line style=\"stroke:#181818;stroke-width:0.5;\" x1=\"627\" x2=\"713\" y1=\"195.7031\" y2=\"195.7031\"/><text fill=\"#000000\" font-family=\"sans-serif\" font-size=\"14\" lengthAdjust=\"spacing\" textLength=\"76\" x=\"632\" y=\"225.2801\">size: Integer</text><text fill=\"#000000\" font-family=\"sans-serif\" font-size=\"14\" font-style=\"italic\" lengthAdjust=\"spacing\" textLength=\"59\" x=\"640.5\" y=\"208.9316\">attributes</text></g></a><!--MD5=[209b3feb70ccb6233bfe1053d122c12c]\n",
       "reverse link E2 to E3--><g id=\"link_E2_E3\"><a href=\"psysml:1c6fb5b2-cf91-4168-bda9-53c0ef8ebdfc\" target=\"_top\" title=\"psysml:1c6fb5b2-cf91-4168-bda9-53c0ef8ebdfc\" xlink:actuate=\"onRequest\" xlink:href=\"psysml:1c6fb5b2-cf91-4168-bda9-53c0ef8ebdfc\" xlink:show=\"new\" xlink:title=\"psysml:1c6fb5b2-cf91-4168-bda9-53c0ef8ebdfc\" xlink:type=\"simple\"><path d=\"M286,79.15 C236.28,91.77 156.79,115.88 96,153 C89.67,156.87 83.48,161.83 77.91,166.9 \" fill=\"none\" id=\"E2-backto-E3\" style=\"stroke:#181818;stroke-width:1.0;\"/><polygon fill=\"#181818\" points=\"298.88,75.97,292.0961,73.5247,287.2298,78.8463,294.0137,81.2915,298.88,75.97\" style=\"stroke:#181818;stroke-width:1.0;\"/><text fill=\"#000000\" font-family=\"sans-serif\" font-size=\"13\" lengthAdjust=\"spacing\" textLength=\"7\" x=\"75.6412\" y=\"156.2841\">1</text></a></g><!--MD5=[9618e71518536f8baf3342ff6fdab317]\n",
       "reverse link E2 to E4--><g id=\"link_E2_E4\"><a href=\"psysml:a3bbd52b-19fd-4794-9ce1-8ed48ec3490c\" target=\"_top\" title=\"psysml:a3bbd52b-19fd-4794-9ce1-8ed48ec3490c\" xlink:actuate=\"onRequest\" xlink:href=\"psysml:a3bbd52b-19fd-4794-9ce1-8ed48ec3490c\" xlink:show=\"new\" xlink:title=\"psysml:a3bbd52b-19fd-4794-9ce1-8ed48ec3490c\" xlink:type=\"simple\"><path d=\"M287.51,92.8 C258.6,108.82 220.77,130.86 189,153 C182.86,157.28 176.5,162.15 170.53,166.95 \" fill=\"none\" id=\"E2-backto-E4\" style=\"stroke:#181818;stroke-width:1.0;\"/><polygon fill=\"#181818\" points=\"298.91,86.54,291.7252,85.9242,288.3935,92.3195,295.5782,92.9353,298.91,86.54\" style=\"stroke:#181818;stroke-width:1.0;\"/><text fill=\"#000000\" font-family=\"sans-serif\" font-size=\"13\" lengthAdjust=\"spacing\" textLength=\"7\" x=\"169.6311\" y=\"156.3463\">1</text></a></g><!--MD5=[4e1a83fab71cdb913c109063314ae896]\n",
       "reverse link E2 to E5--><g id=\"link_E2_E5\"><a href=\"psysml:ef7dadfa-ac0a-4a25-b8aa-efd35b9ef836\" target=\"_top\" title=\"psysml:ef7dadfa-ac0a-4a25-b8aa-efd35b9ef836\" xlink:actuate=\"onRequest\" xlink:href=\"psysml:ef7dadfa-ac0a-4a25-b8aa-efd35b9ef836\" xlink:show=\"new\" xlink:title=\"psysml:ef7dadfa-ac0a-4a25-b8aa-efd35b9ef836\" xlink:type=\"simple\"><path d=\"M305.12,103.49 C288.97,123.76 269.04,148.77 254.56,166.95 \" fill=\"none\" id=\"E2-backto-E5\" style=\"stroke:#181818;stroke-width:1.0;\"/><polygon fill=\"#181818\" points=\"313.4,93.1,306.5332,95.3018,305.9246,102.4871,312.7913,100.2854,313.4,93.1\" style=\"stroke:#181818;stroke-width:1.0;\"/><text fill=\"#000000\" font-family=\"sans-serif\" font-size=\"13\" lengthAdjust=\"spacing\" textLength=\"7\" x=\"251.4746\" y=\"156.3463\">1</text></a></g><!--MD5=[ce036f65110ae2351ccce5a81dc2e928]\n",
       "reverse link E2 to E6--><g id=\"link_E2_E6\"><a href=\"psysml:c88a776e-5ae4-4344-a694-07787d709d4f\" target=\"_top\" title=\"psysml:c88a776e-5ae4-4344-a694-07787d709d4f\" xlink:actuate=\"onRequest\" xlink:href=\"psysml:c88a776e-5ae4-4344-a694-07787d709d4f\" xlink:show=\"new\" xlink:title=\"psysml:c88a776e-5ae4-4344-a694-07787d709d4f\" xlink:type=\"simple\"><path d=\"M333,106.33 C333,126.05 333,149.61 333,166.95 \" fill=\"none\" id=\"E2-backto-E6\" style=\"stroke:#181818;stroke-width:1.0;\"/><polygon fill=\"#181818\" points=\"333,93.1,329,99.1,333,105.1,337,99.1,333,93.1\" style=\"stroke:#181818;stroke-width:1.0;\"/><text fill=\"#000000\" font-family=\"sans-serif\" font-size=\"13\" lengthAdjust=\"spacing\" textLength=\"7\" x=\"325.1469\" y=\"156.3463\">1</text></a></g><!--MD5=[1c72b32696d764168c30777981ec3f66]\n",
       "reverse link E2 to E7--><g id=\"link_E2_E7\"><a href=\"psysml:c5fd01ad-2a56-405d-94c9-1ab4a9e4589b\" target=\"_top\" title=\"psysml:c5fd01ad-2a56-405d-94c9-1ab4a9e4589b\" xlink:actuate=\"onRequest\" xlink:href=\"psysml:c5fd01ad-2a56-405d-94c9-1ab4a9e4589b\" xlink:show=\"new\" xlink:title=\"psysml:c5fd01ad-2a56-405d-94c9-1ab4a9e4589b\" xlink:type=\"simple\"><path d=\"M361.79,103.21 C378.63,123.53 399.5,148.69 414.64,166.95 \" fill=\"none\" id=\"E2-backto-E7\" style=\"stroke:#181818;stroke-width:1.0;\"/><polygon fill=\"#181818\" points=\"353.4,93.1,354.1491,100.2721,361.0576,102.3391,360.3085,95.1671,353.4,93.1\" style=\"stroke:#181818;stroke-width:1.0;\"/><text fill=\"#000000\" font-family=\"sans-serif\" font-size=\"13\" lengthAdjust=\"spacing\" textLength=\"7\" x=\"401.8241\" y=\"156.3463\">1</text></a></g><!--MD5=[65f962d72b3a6bed1ede4f3c867e43a4]\n",
       "reverse link E2 to E8--><g id=\"link_E2_E8\"><a href=\"psysml:f328e9a9-f563-4b0e-8d0a-e16e22348838\" target=\"_top\" title=\"psysml:f328e9a9-f563-4b0e-8d0a-e16e22348838\" xlink:actuate=\"onRequest\" xlink:href=\"psysml:f328e9a9-f563-4b0e-8d0a-e16e22348838\" xlink:show=\"new\" xlink:title=\"psysml:f328e9a9-f563-4b0e-8d0a-e16e22348838\" xlink:type=\"simple\"><path d=\"M378.58,93.09 C408.95,109.66 449.62,132.19 485,153 C490.79,156.4 496.84,160.05 502.79,163.69 \" fill=\"none\" id=\"E2-backto-E8\" style=\"stroke:#181818;stroke-width:1.0;\"/><polygon fill=\"#181818\" points=\"367.07,86.83,370.427,93.212,377.6093,92.5679,374.2523,86.1859,367.07,86.83\" style=\"stroke:#181818;stroke-width:1.0;\"/><text fill=\"#000000\" font-family=\"sans-serif\" font-size=\"13\" lengthAdjust=\"spacing\" textLength=\"7\" x=\"487.888\" y=\"155.0881\">2</text></a></g><!--MD5=[4a91eb351f2fb42055d99b719d3dd418]\n",
       "reverse link E2 to E9--><g id=\"link_E2_E9\"><a href=\"psysml:10868d28-73d5-4abe-bbac-1c6b064d7a61\" target=\"_top\" title=\"psysml:10868d28-73d5-4abe-bbac-1c6b064d7a61\" xlink:actuate=\"onRequest\" xlink:href=\"psysml:10868d28-73d5-4abe-bbac-1c6b064d7a61\" xlink:show=\"new\" xlink:title=\"psysml:10868d28-73d5-4abe-bbac-1c6b064d7a61\" xlink:type=\"simple\"><path d=\"M379.88,78.81 C435.92,92.05 531.83,117.6 609,153 C614.58,155.56 620.25,158.55 625.79,161.71 \" fill=\"none\" id=\"E2-backto-E9\" style=\"stroke:#181818;stroke-width:1.0;\"/><polygon fill=\"#181818\" points=\"367.19,75.87,372.1283,81.1249,378.8782,78.5876,373.94,73.3327,367.19,75.87\" style=\"stroke:#181818;stroke-width:1.0;\"/><text fill=\"#000000\" font-family=\"sans-serif\" font-size=\"13\" lengthAdjust=\"spacing\" textLength=\"7\" x=\"610.888\" y=\"152.7801\">2</text></a></g><!--MD5=[ce05a7245a9095ba3669c67d4798b865]\n",
       "@startuml\r\n",
       "skin sysmlbw\r\n",
       "skinparam monochrome true\r\n",
       "skinparam wrapWidth 300\r\n",
       "hide circle\r\n",
       "\r\n",
       "package \"eVehicle_LogicalArchitecture\" as E1  [[psysml:6fc79267-7453-4156-bb6a-2cfa86d47568 ]]  {\r\n",
       "comp usage \"eVehicle  \" as E2  <<(T,blue) part>> [[psysml:c44e3906-a079-469f-adc0-0f6491c99251 ]] {\r\n",
       "}\r\n",
       "comp usage \"body  \" as E3  <<(T,blue) part>> [[psysml:615885d0-0418-452c-92de-601ccbc0667f ]] {\r\n",
       "}\r\n",
       "comp usage \"battery  \" as E4  <<(T,blue) part>> [[psysml:3a840929-049c-4df5-a77c-d2d4f64ad207 ]] {\r\n",
       "}\r\n",
       "comp usage \"engine  \" as E5  <<(T,blue) part>> [[psysml:7c8650f0-84c2-423f-8472-fb9f5f4ef05e ]] {\r\n",
       "}\r\n",
       "comp usage \"frontAxis  \" as E6  <<(T,blue) part>> [[psysml:e5efcdf4-8ebb-4804-9cac-762b3525e1ba ]] {\r\n",
       "}\r\n",
       "comp usage \"rearAxis  \" as E7  <<(T,blue) part>> [[psysml:55479ad7-66b3-41ec-b1b2-9147db563314 ]] {\r\n",
       "}\r\n",
       "comp usage \"frontWheel  \" as E8  <<(T,blue) part>> [[psysml:e606c03c-2e35-42f7-8700-69abe6e13de2 ]] {\r\n",
       "##//attributes//##\r\n",
       "size: Integer\r\n",
       "}\r\n",
       "comp usage \"rearWheel  \" as E9  <<(T,blue) part>> [[psysml:f0091bbc-0340-4fd6-a5b0-3fb898c93962 ]] {\r\n",
       "##//attributes//##\r\n",
       "size: Integer\r\n",
       "}\r\n",
       "}\r\n",
       "E2 *- - \"1\"E3 [[psysml:1c6fb5b2-cf91-4168-bda9-53c0ef8ebdfc ]] \r\n",
       "E2 *- - \"1\"E4 [[psysml:a3bbd52b-19fd-4794-9ce1-8ed48ec3490c ]] \r\n",
       "E2 *- - \"1\"E5 [[psysml:ef7dadfa-ac0a-4a25-b8aa-efd35b9ef836 ]] \r\n",
       "E2 *- - \"1\"E6 [[psysml:c88a776e-5ae4-4344-a694-07787d709d4f ]] \r\n",
       "E2 *- - \"1\"E7 [[psysml:c5fd01ad-2a56-405d-94c9-1ab4a9e4589b ]] \r\n",
       "E2 *- - \"2\"E8 [[psysml:f328e9a9-f563-4b0e-8d0a-e16e22348838 ]] \r\n",
       "E2 *- - \"2\"E9 [[psysml:10868d28-73d5-4abe-bbac-1c6b064d7a61 ]] \r\n",
       "@enduml\r\n",
       "\n",
       "PlantUML version 1.2022.7(Mon Aug 22 12:01:30 CDT 2022)\n",
       "(EPL source distribution)\n",
       "Java Runtime: OpenJDK Runtime Environment\n",
       "JVM: OpenJDK 64-Bit Server VM\n",
       "Default Encoding: UTF-8\n",
       "Language: en\n",
       "Country: US\n",
       "--></g></svg>"
      ]
     },
     "execution_count": 10,
     "metadata": {},
     "output_type": "execute_result"
    }
   ],
   "source": [
    "%viz --view=tree eVehicle_LogicalArchitecture"
   ]
  },
  {
   "cell_type": "markdown",
   "metadata": {
    "kernel": "SoS"
   },
   "source": [
    "As in SysML v1, a part always needs a context in SysML v2. In our example, the part *eVehicle* is the context of the parts *body*, *battery*, and so forth. No context is explicitly defined for the part *eVehicle*. Then the context is implicitly the most general part definition named *Part* from the SysML v2 model library.\n",
    "\n",
    "Although it is still very simple, the model already smells of reuse. The size attribute is currently defined twice. Now, we define a type respectively PartDefinition *Wheel* and specify that as the type of the parts. The PartDefinition can be compared to the SysML v1 Block."
   ]
  },
  {
   "cell_type": "code",
   "execution_count": 18,
   "metadata": {
    "kernel": "SoS"
   },
   "outputs": [
    {
     "data": {
      "text/plain": [
       "Package eVehicle_LogicalArchitecture (69184f7c-0357-40d2-a4b7-b37341e11d55)\n"
      ]
     },
     "execution_count": 18,
     "metadata": {},
     "output_type": "execute_result"
    }
   ],
   "source": [
    "package eVehicle_LogicalArchitecture {\n",
    "\n",
    "    import ScalarValues::*;   \n",
    "    \n",
    "    part def Wheel {\n",
    "        attribute size : Integer;\n",
    "    }\n",
    "   \n",
    "    part eVehicle {    \n",
    "        part body;\n",
    "        part battery;\n",
    "        part engine;\n",
    "        part frontAxis;\n",
    "        part rearAxis;\n",
    "        part frontWheel : Wheel[2];\n",
    "        part rearWheel : Wheel[2];\n",
    "    }\n",
    "}"
   ]
  },
  {
   "cell_type": "code",
   "execution_count": 19,
   "metadata": {
    "kernel": "SoS"
   },
   "outputs": [
    {
     "data": {
      "image/svg+xml": [
       "<?xml version=\"1.0\" encoding=\"UTF-8\" standalone=\"no\"?><svg xmlns=\"http://www.w3.org/2000/svg\" xmlns:xlink=\"http://www.w3.org/1999/xlink\" contentScriptType=\"application/ecmascript\" contentStyleType=\"text/css\" height=\"366px\" preserveAspectRatio=\"none\" style=\"width:716px;height:366px;\" version=\"1.1\" viewBox=\"0 0 716 366\" width=\"716px\" zoomAndPan=\"magnify\"><defs/><g><!--MD5=[fbc87193dbaf4d95561dea2c320d4a47]\n",
       "cluster E1--><a href=\"psysml:a65cb044-66f1-4c68-8484-5fa6aa6ff22e\" target=\"_top\" title=\"psysml:a65cb044-66f1-4c68-8484-5fa6aa6ff22e\" xlink:actuate=\"onRequest\" xlink:href=\"psysml:a65cb044-66f1-4c68-8484-5fa6aa6ff22e\" xlink:show=\"new\" xlink:title=\"psysml:a65cb044-66f1-4c68-8484-5fa6aa6ff22e\" xlink:type=\"simple\"><polygon fill=\"#FFFFFF\" points=\"16,6,228,6,235,29.6094,694,29.6094,694,354,16,354,16,6\" style=\"stroke: #000000; stroke-width: 1.5;\"/><line style=\"stroke: #000000; stroke-width: 1.5;\" x1=\"16\" x2=\"235\" y1=\"29.6094\" y2=\"29.6094\"/><text fill=\"#000000\" font-family=\"sans-serif\" font-size=\"14\" font-weight=\"bold\" lengthAdjust=\"spacingAndGlyphs\" textLength=\"206\" x=\"20\" y=\"22.5332\">eVehicle_LogicalArchitecture</text></a><!--MD5=[b4997ac47864f28c2f74865a473b2911]\n",
       "class E2--><a href=\"psysml:b6d02333-1f95-431e-a193-9d986f09def9\" target=\"_top\" title=\"psysml:b6d02333-1f95-431e-a193-9d986f09def9\" xlink:actuate=\"onRequest\" xlink:href=\"psysml:b6d02333-1f95-431e-a193-9d986f09def9\" xlink:show=\"new\" xlink:title=\"psysml:b6d02333-1f95-431e-a193-9d986f09def9\" xlink:type=\"simple\"><rect fill=\"#FFFFFF\" height=\"79.8594\" id=\"E2\" style=\"stroke: #383838; stroke-width: 1.5;\" width=\"71\" x=\"520.5\" y=\"258\"/><text fill=\"#000000\" font-family=\"sans-serif\" font-size=\"12\" font-style=\"italic\" lengthAdjust=\"spacingAndGlyphs\" textLength=\"55\" x=\"528.5\" y=\"275.457\">«part def»</text><text fill=\"#000000\" font-family=\"sans-serif\" font-size=\"12\" lengthAdjust=\"spacingAndGlyphs\" textLength=\"35\" x=\"538.5\" y=\"290.5508\">Wheel</text><line style=\"stroke: #383838; stroke-width: 1.5;\" x1=\"521.5\" x2=\"590.5\" y1=\"298.1875\" y2=\"298.1875\"/><text fill=\"#000000\" font-family=\"sans-serif\" font-size=\"11\" lengthAdjust=\"spacingAndGlyphs\" textLength=\"59\" x=\"526.5\" y=\"331.4424\">size: Integer</text><line style=\"stroke: #383838; stroke-width: 1.0;\" x1=\"521.5\" x2=\"533.5\" y1=\"313.1055\" y2=\"313.1055\"/><text fill=\"#000000\" font-family=\"sans-serif\" font-size=\"11\" lengthAdjust=\"spacingAndGlyphs\" textLength=\"45\" x=\"533.5\" y=\"317.1064\">attributes</text><line style=\"stroke: #383838; stroke-width: 1.0;\" x1=\"578.5\" x2=\"590.5\" y1=\"313.1055\" y2=\"313.1055\"/></a><!--MD5=[09b614a08d8cba4a07c9adeb5e0fee81]\n",
       "class E3--><a href=\"psysml:77fa4635-6849-42cd-a36a-b0bb06268974\" target=\"_top\" title=\"psysml:77fa4635-6849-42cd-a36a-b0bb06268974\" xlink:actuate=\"onRequest\" xlink:href=\"psysml:77fa4635-6849-42cd-a36a-b0bb06268974\" xlink:show=\"new\" xlink:title=\"psysml:77fa4635-6849-42cd-a36a-b0bb06268974\" xlink:type=\"simple\"><rect fill=\"#FFFFFF\" height=\"48.1875\" id=\"E3\" rx=\"10\" ry=\"10\" style=\"stroke: #383838; stroke-width: 1.5;\" width=\"53\" x=\"260.5\" y=\"42\"/><text fill=\"#000000\" font-family=\"sans-serif\" font-size=\"12\" font-style=\"italic\" lengthAdjust=\"spacingAndGlyphs\" textLength=\"35\" x=\"269.5\" y=\"59.457\">«part»</text><text fill=\"#000000\" font-family=\"sans-serif\" font-size=\"12\" lengthAdjust=\"spacingAndGlyphs\" textLength=\"47\" x=\"263.5\" y=\"74.5508\">eVehicle</text><line style=\"stroke: #383838; stroke-width: 1.5;\" x1=\"261.5\" x2=\"312.5\" y1=\"82.1875\" y2=\"82.1875\"/></a><!--MD5=[ebbe1d658d1005bcc118a6aa81145e00]\n",
       "class E4--><a href=\"psysml:9ec86a37-323c-410d-9288-6f1e3716e97c\" target=\"_top\" title=\"psysml:9ec86a37-323c-410d-9288-6f1e3716e97c\" xlink:actuate=\"onRequest\" xlink:href=\"psysml:9ec86a37-323c-410d-9288-6f1e3716e97c\" xlink:show=\"new\" xlink:title=\"psysml:9ec86a37-323c-410d-9288-6f1e3716e97c\" xlink:type=\"simple\"><rect fill=\"#FFFFFF\" height=\"48.1875\" id=\"E4\" rx=\"10\" ry=\"10\" style=\"stroke: #383838; stroke-width: 1.5;\" width=\"37\" x=\"32.5\" y=\"150\"/><text fill=\"#000000\" font-family=\"sans-serif\" font-size=\"12\" font-style=\"italic\" lengthAdjust=\"spacingAndGlyphs\" textLength=\"35\" x=\"33.5\" y=\"167.457\">«part»</text><text fill=\"#000000\" font-family=\"sans-serif\" font-size=\"12\" lengthAdjust=\"spacingAndGlyphs\" textLength=\"26\" x=\"38\" y=\"182.5508\">body</text><line style=\"stroke: #383838; stroke-width: 1.5;\" x1=\"33.5\" x2=\"68.5\" y1=\"190.1875\" y2=\"190.1875\"/></a><!--MD5=[270fce915f116d4de14055a7c1d9a0f3]\n",
       "class E5--><a href=\"psysml:a8f6d54c-0377-4bc6-9306-5f9860cb58d4\" target=\"_top\" title=\"psysml:a8f6d54c-0377-4bc6-9306-5f9860cb58d4\" xlink:actuate=\"onRequest\" xlink:href=\"psysml:a8f6d54c-0377-4bc6-9306-5f9860cb58d4\" xlink:show=\"new\" xlink:title=\"psysml:a8f6d54c-0377-4bc6-9306-5f9860cb58d4\" xlink:type=\"simple\"><rect fill=\"#FFFFFF\" height=\"48.1875\" id=\"E5\" rx=\"10\" ry=\"10\" style=\"stroke: #383838; stroke-width: 1.5;\" width=\"42\" x=\"105\" y=\"150\"/><text fill=\"#000000\" font-family=\"sans-serif\" font-size=\"12\" font-style=\"italic\" lengthAdjust=\"spacingAndGlyphs\" textLength=\"35\" x=\"108.5\" y=\"167.457\">«part»</text><text fill=\"#000000\" font-family=\"sans-serif\" font-size=\"12\" lengthAdjust=\"spacingAndGlyphs\" textLength=\"36\" x=\"108\" y=\"182.5508\">battery</text><line style=\"stroke: #383838; stroke-width: 1.5;\" x1=\"106\" x2=\"146\" y1=\"190.1875\" y2=\"190.1875\"/></a><!--MD5=[60a26617385b1d2d0262a64233df1f8d]\n",
       "class E6--><a href=\"psysml:ec117b24-2e40-4781-a62a-43411f83e109\" target=\"_top\" title=\"psysml:ec117b24-2e40-4781-a62a-43411f83e109\" xlink:actuate=\"onRequest\" xlink:href=\"psysml:ec117b24-2e40-4781-a62a-43411f83e109\" xlink:show=\"new\" xlink:title=\"psysml:ec117b24-2e40-4781-a62a-43411f83e109\" xlink:type=\"simple\"><rect fill=\"#FFFFFF\" height=\"48.1875\" id=\"E6\" rx=\"10\" ry=\"10\" style=\"stroke: #383838; stroke-width: 1.5;\" width=\"44\" x=\"182\" y=\"150\"/><text fill=\"#000000\" font-family=\"sans-serif\" font-size=\"12\" font-style=\"italic\" lengthAdjust=\"spacingAndGlyphs\" textLength=\"35\" x=\"186.5\" y=\"167.457\">«part»</text><text fill=\"#000000\" font-family=\"sans-serif\" font-size=\"12\" lengthAdjust=\"spacingAndGlyphs\" textLength=\"38\" x=\"185\" y=\"182.5508\">engine</text><line style=\"stroke: #383838; stroke-width: 1.5;\" x1=\"183\" x2=\"225\" y1=\"190.1875\" y2=\"190.1875\"/></a><!--MD5=[2156ba9850f5573cc1fc38a6a4b2f02b]\n",
       "class E7--><a href=\"psysml:cf0fd0d9-ed3e-40a2-8cbd-122c51a16d54\" target=\"_top\" title=\"psysml:cf0fd0d9-ed3e-40a2-8cbd-122c51a16d54\" xlink:actuate=\"onRequest\" xlink:href=\"psysml:cf0fd0d9-ed3e-40a2-8cbd-122c51a16d54\" xlink:show=\"new\" xlink:title=\"psysml:cf0fd0d9-ed3e-40a2-8cbd-122c51a16d54\" xlink:type=\"simple\"><rect fill=\"#FFFFFF\" height=\"48.1875\" id=\"E7\" rx=\"10\" ry=\"10\" style=\"stroke: #383838; stroke-width: 1.5;\" width=\"52\" x=\"261\" y=\"150\"/><text fill=\"#000000\" font-family=\"sans-serif\" font-size=\"12\" font-style=\"italic\" lengthAdjust=\"spacingAndGlyphs\" textLength=\"35\" x=\"269.5\" y=\"167.457\">«part»</text><text fill=\"#000000\" font-family=\"sans-serif\" font-size=\"12\" lengthAdjust=\"spacingAndGlyphs\" textLength=\"46\" x=\"264\" y=\"182.5508\">frontAxis</text><line style=\"stroke: #383838; stroke-width: 1.5;\" x1=\"262\" x2=\"312\" y1=\"190.1875\" y2=\"190.1875\"/></a><!--MD5=[b9389687b975829384b498ac4b7476b2]\n",
       "class E8--><a href=\"psysml:36e5b5ee-c2f0-4b8e-8a58-d4d5fa724d18\" target=\"_top\" title=\"psysml:36e5b5ee-c2f0-4b8e-8a58-d4d5fa724d18\" xlink:actuate=\"onRequest\" xlink:href=\"psysml:36e5b5ee-c2f0-4b8e-8a58-d4d5fa724d18\" xlink:show=\"new\" xlink:title=\"psysml:36e5b5ee-c2f0-4b8e-8a58-d4d5fa724d18\" xlink:type=\"simple\"><rect fill=\"#FFFFFF\" height=\"48.1875\" id=\"E8\" rx=\"10\" ry=\"10\" style=\"stroke: #383838; stroke-width: 1.5;\" width=\"50\" x=\"348\" y=\"150\"/><text fill=\"#000000\" font-family=\"sans-serif\" font-size=\"12\" font-style=\"italic\" lengthAdjust=\"spacingAndGlyphs\" textLength=\"35\" x=\"355.5\" y=\"167.457\">«part»</text><text fill=\"#000000\" font-family=\"sans-serif\" font-size=\"12\" lengthAdjust=\"spacingAndGlyphs\" textLength=\"44\" x=\"351\" y=\"182.5508\">rearAxis</text><line style=\"stroke: #383838; stroke-width: 1.5;\" x1=\"349\" x2=\"397\" y1=\"190.1875\" y2=\"190.1875\"/></a><!--MD5=[fd4143e9d270a159db93a4ea2a975926]\n",
       "class E9--><a href=\"psysml:b16aea31-9507-4c6e-8bd8-592bbcdc3957\" target=\"_top\" title=\"psysml:b16aea31-9507-4c6e-8bd8-592bbcdc3957\" xlink:actuate=\"onRequest\" xlink:href=\"psysml:b16aea31-9507-4c6e-8bd8-592bbcdc3957\" xlink:show=\"new\" xlink:title=\"psysml:b16aea31-9507-4c6e-8bd8-592bbcdc3957\" xlink:type=\"simple\"><rect fill=\"#FFFFFF\" height=\"48.1875\" id=\"E9\" rx=\"10\" ry=\"10\" style=\"stroke: #383838; stroke-width: 1.5;\" width=\"106\" x=\"433\" y=\"150\"/><text fill=\"#000000\" font-family=\"sans-serif\" font-size=\"12\" font-style=\"italic\" lengthAdjust=\"spacingAndGlyphs\" textLength=\"35\" x=\"468.5\" y=\"167.457\">«part»</text><text fill=\"#000000\" font-family=\"sans-serif\" font-size=\"12\" lengthAdjust=\"spacingAndGlyphs\" textLength=\"100\" x=\"436\" y=\"182.5508\">frontWheel: Wheel</text><line style=\"stroke: #383838; stroke-width: 1.5;\" x1=\"434\" x2=\"538\" y1=\"190.1875\" y2=\"190.1875\"/></a><!--MD5=[96f4274e9e20536e775497830990834d]\n",
       "class E10--><a href=\"psysml:bee51fc1-a3cf-4cee-b54e-7b259e83ab40\" target=\"_top\" title=\"psysml:bee51fc1-a3cf-4cee-b54e-7b259e83ab40\" xlink:actuate=\"onRequest\" xlink:href=\"psysml:bee51fc1-a3cf-4cee-b54e-7b259e83ab40\" xlink:show=\"new\" xlink:title=\"psysml:bee51fc1-a3cf-4cee-b54e-7b259e83ab40\" xlink:type=\"simple\"><rect fill=\"#FFFFFF\" height=\"48.1875\" id=\"E10\" rx=\"10\" ry=\"10\" style=\"stroke: #383838; stroke-width: 1.5;\" width=\"104\" x=\"574\" y=\"150\"/><text fill=\"#000000\" font-family=\"sans-serif\" font-size=\"12\" font-style=\"italic\" lengthAdjust=\"spacingAndGlyphs\" textLength=\"35\" x=\"608.5\" y=\"167.457\">«part»</text><text fill=\"#000000\" font-family=\"sans-serif\" font-size=\"12\" lengthAdjust=\"spacingAndGlyphs\" textLength=\"98\" x=\"577\" y=\"182.5508\">rearWheel: Wheel</text><line style=\"stroke: #383838; stroke-width: 1.5;\" x1=\"575\" x2=\"677\" y1=\"190.1875\" y2=\"190.1875\"/></a><!--MD5=[4672eba38e49728da53d11aeb285b987]\n",
       "reverse link E3 to E4--><a href=\"psysml:d0fff0c9-08cb-4736-9d36-4b994092e6be\" target=\"_top\" title=\"psysml:d0fff0c9-08cb-4736-9d36-4b994092e6be\" xlink:actuate=\"onRequest\" xlink:href=\"psysml:d0fff0c9-08cb-4736-9d36-4b994092e6be\" xlink:show=\"new\" xlink:title=\"psysml:d0fff0c9-08cb-4736-9d36-4b994092e6be\" xlink:type=\"simple\"><path d=\"M248,81.13 C207.26,96.38 141.9,122.24 88,150 C81.95,153.12 75.58,156.89 69.86,160.46 \" fill=\"none\" id=\"E3&lt;-E4\" style=\"stroke: #383838; stroke-width: 1.0;\"/><polygon fill=\"#383838\" points=\"260.31,76.56,253.2941,74.8934,249.0573,80.7286,256.0732,82.3952,260.31,76.56\" style=\"stroke: #383838; stroke-width: 1.0;\"/></a><!--MD5=[191cde3d490a3f6d7bb551fe3ddca469]\n",
       "reverse link E3 to E5--><a href=\"psysml:6e102dde-3e20-40f8-b9fb-5af8ffa40c7d\" target=\"_top\" title=\"psysml:6e102dde-3e20-40f8-b9fb-5af8ffa40c7d\" xlink:actuate=\"onRequest\" xlink:href=\"psysml:6e102dde-3e20-40f8-b9fb-5af8ffa40c7d\" xlink:show=\"new\" xlink:title=\"psysml:6e102dde-3e20-40f8-b9fb-5af8ffa40c7d\" xlink:type=\"simple\"><path d=\"M249.36,91.78 C217.66,112.65 173.45,141.76 147.47,158.87 \" fill=\"none\" id=\"E3&lt;-E5\" style=\"stroke: #383838; stroke-width: 1.0;\"/><polygon fill=\"#383838\" points=\"260.41,84.5,253.199,84.4626,250.3911,91.1046,257.6021,91.1419,260.41,84.5\" style=\"stroke: #383838; stroke-width: 1.0;\"/></a><!--MD5=[1026b4b93417a13aa8999a858998add2]\n",
       "reverse link E3 to E6--><a href=\"psysml:228ca872-90d6-4a30-a5a9-d4b9a7f6483f\" target=\"_top\" title=\"psysml:228ca872-90d6-4a30-a5a9-d4b9a7f6483f\" xlink:actuate=\"onRequest\" xlink:href=\"psysml:228ca872-90d6-4a30-a5a9-d4b9a7f6483f\" xlink:show=\"new\" xlink:title=\"psysml:228ca872-90d6-4a30-a5a9-d4b9a7f6483f\" xlink:type=\"simple\"><path d=\"M260.73,100.54 C248.21,116.53 233.55,135.27 222.26,149.68 \" fill=\"none\" id=\"E3&lt;-E6\" style=\"stroke: #383838; stroke-width: 1.0;\"/><polygon fill=\"#383838\" points=\"268.99,90,262.1424,92.2606,261.5954,99.4509,268.443,97.1903,268.99,90\" style=\"stroke: #383838; stroke-width: 1.0;\"/></a><!--MD5=[85760999379eecfd2565a9fecdca67e4]\n",
       "reverse link E3 to E7--><a href=\"psysml:59499625-5242-43fc-843e-28b286d30243\" target=\"_top\" title=\"psysml:59499625-5242-43fc-843e-28b286d30243\" xlink:actuate=\"onRequest\" xlink:href=\"psysml:59499625-5242-43fc-843e-28b286d30243\" xlink:show=\"new\" xlink:title=\"psysml:59499625-5242-43fc-843e-28b286d30243\" xlink:type=\"simple\"><path d=\"M287,103.34 C287,118.68 287,136.1 287,149.68 \" fill=\"none\" id=\"E3&lt;-E7\" style=\"stroke: #383838; stroke-width: 1.0;\"/><polygon fill=\"#383838\" points=\"287,90,283,96,287,102,291,96,287,90\" style=\"stroke: #383838; stroke-width: 1.0;\"/></a><!--MD5=[4cb75b73ec3682b8f7f8edc9cc86126a]\n",
       "reverse link E3 to E8--><a href=\"psysml:7db51c0c-719a-4627-a22d-67df10fda7fa\" target=\"_top\" title=\"psysml:7db51c0c-719a-4627-a22d-67df10fda7fa\" xlink:actuate=\"onRequest\" xlink:href=\"psysml:7db51c0c-719a-4627-a22d-67df10fda7fa\" xlink:show=\"new\" xlink:title=\"psysml:7db51c0c-719a-4627-a22d-67df10fda7fa\" xlink:type=\"simple\"><path d=\"M314.22,100.54 C327.19,116.53 342.39,135.27 354.08,149.68 \" fill=\"none\" id=\"E3&lt;-E8\" style=\"stroke: #383838; stroke-width: 1.0;\"/><polygon fill=\"#383838\" points=\"305.66,90,306.3353,97.1794,313.2221,99.3174,312.5469,92.138,305.66,90\" style=\"stroke: #383838; stroke-width: 1.0;\"/></a><!--MD5=[f7e0269b2e2fed3d07255bf4c5cf9d61]\n",
       "reverse link E3 to E9--><a href=\"psysml:3d77c72f-b200-4d48-9460-cb41bf783949\" target=\"_top\" title=\"psysml:3d77c72f-b200-4d48-9460-cb41bf783949\" xlink:actuate=\"onRequest\" xlink:href=\"psysml:3d77c72f-b200-4d48-9460-cb41bf783949\" xlink:show=\"new\" xlink:title=\"psysml:3d77c72f-b200-4d48-9460-cb41bf783949\" xlink:type=\"simple\"><path d=\"M325.45,87.48 C358.97,105.34 407.55,131.22 442.49,149.82 \" fill=\"none\" id=\"E3&lt;-E9\" style=\"stroke: #383838; stroke-width: 1.0;\"/><polygon fill=\"#383838\" points=\"313.84,81.3,317.2534,87.6521,324.4297,86.9443,321.0163,80.5923,313.84,81.3\" style=\"stroke: #383838; stroke-width: 1.0;\"/><text fill=\"#000000\" font-family=\"sans-serif\" font-size=\"13\" lengthAdjust=\"spacingAndGlyphs\" textLength=\"7\" x=\"423.4437\" y=\"139.09\">2</text></a><!--MD5=[5c3bb36fe832a92c7f0e1807dd65209d]\n",
       "link E9 to E2--><a href=\"psysml:ea50efb8-a200-46b5-ba33-1b277e4896f3\" target=\"_top\" title=\"psysml:ea50efb8-a200-46b5-ba33-1b277e4896f3\" xlink:actuate=\"onRequest\" xlink:href=\"psysml:ea50efb8-a200-46b5-ba33-1b277e4896f3\" xlink:show=\"new\" xlink:title=\"psysml:ea50efb8-a200-46b5-ba33-1b277e4896f3\" xlink:type=\"simple\"><path d=\"M499.33,198.23 C506.16,210.13 514.79,225.18 523.25,239.93 \" fill=\"none\" id=\"E9-&gt;E2\" style=\"stroke: #383838; stroke-width: 1.0;\"/><polygon fill=\"#FFFFFF\" points=\"533.35,257.53,517.8272,244.5284,529.9727,237.5652,533.35,257.53\" style=\"stroke: #383838; stroke-width: 1.0;\"/><ellipse cx=\"516.7273\" cy=\"238.5886\" fill=\"#383838\" rx=\"2\" ry=\"2\" style=\"stroke: #383838; stroke-width: 1.0;\"/><ellipse cx=\"525.4027\" cy=\"233.6149\" fill=\"#383838\" rx=\"2\" ry=\"2\" style=\"stroke: #383838; stroke-width: 1.0;\"/></a><!--MD5=[622114938c97d4dd2a5a002a72a9cb82]\n",
       "reverse link E3 to E10--><a href=\"psysml:93c02ca7-9f28-48fc-bc49-10a1034e6ff9\" target=\"_top\" title=\"psysml:93c02ca7-9f28-48fc-bc49-10a1034e6ff9\" xlink:actuate=\"onRequest\" xlink:href=\"psysml:93c02ca7-9f28-48fc-bc49-10a1034e6ff9\" xlink:show=\"new\" xlink:title=\"psysml:93c02ca7-9f28-48fc-bc49-10a1034e6ff9\" xlink:type=\"simple\"><path d=\"M326.22,78.74 C378.84,94.57 475.16,123.78 557,150 C562.41,151.73 568.05,153.57 573.67,155.41 \" fill=\"none\" id=\"E3&lt;-E10\" style=\"stroke: #383838; stroke-width: 1.0;\"/><polygon fill=\"#383838\" points=\"313.51,74.92,318.1052,80.4773,325.0025,78.373,320.4072,72.8157,313.51,74.92\" style=\"stroke: #383838; stroke-width: 1.0;\"/><text fill=\"#000000\" font-family=\"sans-serif\" font-size=\"13\" lengthAdjust=\"spacingAndGlyphs\" textLength=\"7\" x=\"559.1678\" y=\"149.3431\">2</text></a><!--MD5=[0f36bececdf0dff6e600d6f64214b0f1]\n",
       "link E10 to E2--><a href=\"psysml:aca1a6c4-e885-489d-a3d4-7d941dd75be3\" target=\"_top\" title=\"psysml:aca1a6c4-e885-489d-a3d4-7d941dd75be3\" xlink:actuate=\"onRequest\" xlink:href=\"psysml:aca1a6c4-e885-489d-a3d4-7d941dd75be3\" xlink:show=\"new\" xlink:title=\"psysml:aca1a6c4-e885-489d-a3d4-7d941dd75be3\" xlink:type=\"simple\"><path d=\"M612.67,198.23 C605.84,210.13 597.21,225.18 588.75,239.93 \" fill=\"none\" id=\"E10-&gt;E2\" style=\"stroke: #383838; stroke-width: 1.0;\"/><polygon fill=\"#FFFFFF\" points=\"578.65,257.53,582.0273,237.5652,594.1728,244.5284,578.65,257.53\" style=\"stroke: #383838; stroke-width: 1.0;\"/><ellipse cx=\"586.5973\" cy=\"233.6149\" fill=\"#383838\" rx=\"2\" ry=\"2\" style=\"stroke: #383838; stroke-width: 1.0;\"/><ellipse cx=\"595.2727\" cy=\"238.5886\" fill=\"#383838\" rx=\"2\" ry=\"2\" style=\"stroke: #383838; stroke-width: 1.0;\"/></a><!--MD5=[631f137b9c93f507892ec54eea4b2aee]\n",
       "@startuml\r\n",
       "skinparam monochrome true\r\n",
       "skinparam classbackgroundcolor white\r\n",
       "skinparam shadowing false\r\n",
       "skinparam wrapWidth 300\r\n",
       "hide circle\r\n",
       "\r\n",
       "package \"eVehicle_LogicalArchitecture\" as E1  [[psysml:a65cb044-66f1-4c68-8484-5fa6aa6ff22e ]]  {\r\n",
       "comp def \"Wheel\" as E2  <<(T,blue) part def>> [[psysml:b6d02333-1f95-431e-a193-9d986f09def9 ]] {\r\n",
       "- - attributes - -\r\n",
       "size: Integer\r\n",
       "}\r\n",
       "comp usage \"eVehicle\" as E3  <<(T,blue) part>> [[psysml:77fa4635-6849-42cd-a36a-b0bb06268974 ]] {\r\n",
       "}\r\n",
       "comp usage \"body\" as E4  <<(T,blue) part>> [[psysml:9ec86a37-323c-410d-9288-6f1e3716e97c ]] {\r\n",
       "}\r\n",
       "comp usage \"battery\" as E5  <<(T,blue) part>> [[psysml:a8f6d54c-0377-4bc6-9306-5f9860cb58d4 ]] {\r\n",
       "}\r\n",
       "comp usage \"engine\" as E6  <<(T,blue) part>> [[psysml:ec117b24-2e40-4781-a62a-43411f83e109 ]] {\r\n",
       "}\r\n",
       "comp usage \"frontAxis\" as E7  <<(T,blue) part>> [[psysml:cf0fd0d9-ed3e-40a2-8cbd-122c51a16d54 ]] {\r\n",
       "}\r\n",
       "comp usage \"rearAxis\" as E8  <<(T,blue) part>> [[psysml:36e5b5ee-c2f0-4b8e-8a58-d4d5fa724d18 ]] {\r\n",
       "}\r\n",
       "comp usage \"frontWheel: Wheel\" as E9  <<(T,blue) part>> [[psysml:b16aea31-9507-4c6e-8bd8-592bbcdc3957 ]] {\r\n",
       "}\r\n",
       "comp usage \"rearWheel: Wheel\" as E10  <<(T,blue) part>> [[psysml:bee51fc1-a3cf-4cee-b54e-7b259e83ab40 ]] {\r\n",
       "}\r\n",
       "E3 *- - E4 [[psysml:d0fff0c9-08cb-4736-9d36-4b994092e6be ]] \r\n",
       "E3 *- - E5 [[psysml:6e102dde-3e20-40f8-b9fb-5af8ffa40c7d ]] \r\n",
       "E3 *- - E6 [[psysml:228ca872-90d6-4a30-a5a9-d4b9a7f6483f ]] \r\n",
       "E3 *- - E7 [[psysml:59499625-5242-43fc-843e-28b286d30243 ]] \r\n",
       "E3 *- - E8 [[psysml:7db51c0c-719a-4627-a22d-67df10fda7fa ]] \r\n",
       "E3 *- - \"2\"E9 [[psysml:3d77c72f-b200-4d48-9460-cb41bf783949 ]] \r\n",
       "E9 - -:|> E2 [[psysml:ea50efb8-a200-46b5-ba33-1b277e4896f3 ]] \r\n",
       "E3 *- - \"2\"E10 [[psysml:93c02ca7-9f28-48fc-bc49-10a1034e6ff9 ]] \r\n",
       "E10 - -:|> E2 [[psysml:aca1a6c4-e885-489d-a3d4-7d941dd75be3 ]] \r\n",
       "}\r\n",
       "@enduml\r\n",
       "\n",
       "PlantUML version 1.2020.13(Sat Jun 13 07:26:38 CDT 2020)\n",
       "(EPL source distribution)\n",
       "Java Runtime: OpenJDK Runtime Environment\n",
       "JVM: OpenJDK 64-Bit Server VM\n",
       "Default Encoding: Cp1252\n",
       "Language: en\n",
       "Country: US\n",
       "--></g></svg>"
      ]
     },
     "execution_count": 19,
     "metadata": {},
     "output_type": "execute_result"
    }
   ],
   "source": [
    "%viz --view=tree eVehicle_LogicalArchitecture"
   ]
  },
  {
   "cell_type": "markdown",
   "metadata": {
    "kernel": "SoS"
   },
   "source": [
    "The attribute *size* itself can also be defined and reused for several attribute usages. It is a common concept in SysML v2 to separate the definition of elements and the usage of elements. SysML v1 also follows this concept, but not as consequent as SysML v2. \n",
    "\n",
    "The attribute definition is not mandatory and only partly useful in this example, because the size is only used at one place. But I added it anyhow as an example for attribute definitions. The keyword *attribute* can be omitted as, for example, in the definition of the *size* value. The AttributeDefinition can be compared to the SysML v1 ValueType."
   ]
  },
  {
   "cell_type": "code",
   "execution_count": 20,
   "metadata": {
    "kernel": "SoS"
   },
   "outputs": [
    {
     "data": {
      "text/plain": [
       "Package eVehicle_LogicalArchitecture (875584bd-45df-4570-8308-ee7a30c3e712)\n"
      ]
     },
     "execution_count": 20,
     "metadata": {},
     "output_type": "execute_result"
    }
   ],
   "source": [
    "package eVehicle_LogicalArchitecture {   \n",
    "    \n",
    "    attribute def WheelSize {\n",
    "        import ScalarValues::*;\n",
    "        size : Integer;\n",
    "        deviation : Integer;        \n",
    "    }\n",
    "    \n",
    "    part def Wheel {\n",
    "        attribute sizeOfWheel : WheelSize;\n",
    "    }\n",
    "    \n",
    "    part eVehicle {    \n",
    "        part body;\n",
    "        part battery;\n",
    "        part engine;\n",
    "        part frontAxis;\n",
    "        part rearAxis;\n",
    "        part frontWheel : Wheel[2];\n",
    "        part rearWheel : Wheel[2];\n",
    "    }\n",
    "}"
   ]
  },
  {
   "cell_type": "code",
   "execution_count": 11,
   "metadata": {
    "kernel": "SysML",
    "tags": []
   },
   "outputs": [
    {
     "data": {
      "image/svg+xml": [
       "<?xml version=\"1.0\" encoding=\"UTF-8\" standalone=\"no\"?><svg xmlns=\"http://www.w3.org/2000/svg\" xmlns:xlink=\"http://www.w3.org/1999/xlink\" contentStyleType=\"text/css\" height=\"227px\" preserveAspectRatio=\"none\" style=\"width:734px;height:227px;background:#FFFFFF;\" version=\"1.1\" viewBox=\"0 0 734 227\" width=\"734px\" zoomAndPan=\"magnify\"><defs/><g><!--MD5=[fbc87193dbaf4d95561dea2c320d4a47]\n",
       "cluster E1--><g id=\"cluster_E1\"><a href=\"psysml:6a511c5d-c53f-43af-a300-c04b465748b8\" target=\"_top\" title=\"psysml:6a511c5d-c53f-43af-a300-c04b465748b8\" xlink:actuate=\"onRequest\" xlink:href=\"psysml:6a511c5d-c53f-43af-a300-c04b465748b8\" xlink:show=\"new\" xlink:title=\"psysml:6a511c5d-c53f-43af-a300-c04b465748b8\" xlink:type=\"simple\"><polygon fill=\"none\" points=\"16,6,228,6,235,29.6094,717,29.6094,717,220,16,220,16,6\" style=\"stroke:#000000;stroke-width:1.5;\"/><line style=\"stroke:#000000;stroke-width:1.5;\" x1=\"16\" x2=\"235\" y1=\"29.6094\" y2=\"29.6094\"/><text fill=\"#000000\" font-family=\"sans-serif\" font-size=\"14\" font-weight=\"bold\" lengthAdjust=\"spacing\" textLength=\"206\" x=\"20\" y=\"22.5332\">eVehicle_LogicalArchitecture</text></a></g><!--MD5=[b4997ac47864f28c2f74865a473b2911]\n",
       "class E2--><a href=\"psysml:2a937367-9d92-4e8e-9a1e-70cbcf256163\" target=\"_top\" title=\"psysml:2a937367-9d92-4e8e-9a1e-70cbcf256163\" xlink:actuate=\"onRequest\" xlink:href=\"psysml:2a937367-9d92-4e8e-9a1e-70cbcf256163\" xlink:show=\"new\" xlink:title=\"psysml:2a937367-9d92-4e8e-9a1e-70cbcf256163\" xlink:type=\"simple\"><g id=\"elem_E2\"><rect fill=\"#FFFFFF\" height=\"50.7031\" id=\"E2\" rx=\"10\" ry=\"10\" style=\"stroke:#181818;stroke-width:0.5;\" width=\"68\" x=\"299\" y=\"42\"/><text fill=\"#000000\" font-family=\"sans-serif\" font-size=\"12\" font-style=\"italic\" lengthAdjust=\"spacing\" textLength=\"35\" x=\"315.5\" y=\"59.457\">«part»</text><text fill=\"#000000\" font-family=\"sans-serif\" font-size=\"14\" lengthAdjust=\"spacing\" textLength=\"54\" x=\"302\" y=\"76.627\">eVehicle</text><line style=\"stroke:#181818;stroke-width:0.5;\" x1=\"300\" x2=\"366\" y1=\"84.7031\" y2=\"84.7031\"/></g></a><!--MD5=[09b614a08d8cba4a07c9adeb5e0fee81]\n",
       "class E3--><a href=\"psysml:1dd2067b-a68e-4696-ab5d-c900326592f9\" target=\"_top\" title=\"psysml:1dd2067b-a68e-4696-ab5d-c900326592f9\" xlink:actuate=\"onRequest\" xlink:href=\"psysml:1dd2067b-a68e-4696-ab5d-c900326592f9\" xlink:show=\"new\" xlink:title=\"psysml:1dd2067b-a68e-4696-ab5d-c900326592f9\" xlink:type=\"simple\"><g id=\"elem_E3\"><rect fill=\"#FFFFFF\" height=\"50.7031\" id=\"E3\" rx=\"10\" ry=\"10\" style=\"stroke:#181818;stroke-width:0.5;\" width=\"45\" x=\"32.5\" y=\"153\"/><text fill=\"#000000\" font-family=\"sans-serif\" font-size=\"12\" font-style=\"italic\" lengthAdjust=\"spacing\" textLength=\"35\" x=\"37.5\" y=\"170.457\">«part»</text><text fill=\"#000000\" font-family=\"sans-serif\" font-size=\"14\" lengthAdjust=\"spacing\" textLength=\"31\" x=\"35.5\" y=\"187.627\">body</text><line style=\"stroke:#181818;stroke-width:0.5;\" x1=\"33.5\" x2=\"76.5\" y1=\"195.7031\" y2=\"195.7031\"/></g></a><!--MD5=[ebbe1d658d1005bcc118a6aa81145e00]\n",
       "class E4--><a href=\"psysml:a01c06be-892a-4f26-86ac-9fa441f999bb\" target=\"_top\" title=\"psysml:a01c06be-892a-4f26-86ac-9fa441f999bb\" xlink:actuate=\"onRequest\" xlink:href=\"psysml:a01c06be-892a-4f26-86ac-9fa441f999bb\" xlink:show=\"new\" xlink:title=\"psysml:a01c06be-892a-4f26-86ac-9fa441f999bb\" xlink:type=\"simple\"><g id=\"elem_E4\"><rect fill=\"#FFFFFF\" height=\"50.7031\" id=\"E4\" rx=\"10\" ry=\"10\" style=\"stroke:#181818;stroke-width:0.5;\" width=\"58\" x=\"113\" y=\"153\"/><text fill=\"#000000\" font-family=\"sans-serif\" font-size=\"12\" font-style=\"italic\" lengthAdjust=\"spacing\" textLength=\"35\" x=\"124.5\" y=\"170.457\">«part»</text><text fill=\"#000000\" font-family=\"sans-serif\" font-size=\"14\" lengthAdjust=\"spacing\" textLength=\"44\" x=\"116\" y=\"187.627\">battery</text><line style=\"stroke:#181818;stroke-width:0.5;\" x1=\"114\" x2=\"170\" y1=\"195.7031\" y2=\"195.7031\"/></g></a><!--MD5=[270fce915f116d4de14055a7c1d9a0f3]\n",
       "class E5--><a href=\"psysml:e53651a0-af11-4e6a-b097-d37c3c04f398\" target=\"_top\" title=\"psysml:e53651a0-af11-4e6a-b097-d37c3c04f398\" xlink:actuate=\"onRequest\" xlink:href=\"psysml:e53651a0-af11-4e6a-b097-d37c3c04f398\" xlink:show=\"new\" xlink:title=\"psysml:e53651a0-af11-4e6a-b097-d37c3c04f398\" xlink:type=\"simple\"><g id=\"elem_E5\"><rect fill=\"#FFFFFF\" height=\"50.7031\" id=\"E5\" rx=\"10\" ry=\"10\" style=\"stroke:#181818;stroke-width:0.5;\" width=\"57\" x=\"206.5\" y=\"153\"/><text fill=\"#000000\" font-family=\"sans-serif\" font-size=\"12\" font-style=\"italic\" lengthAdjust=\"spacing\" textLength=\"35\" x=\"217.5\" y=\"170.457\">«part»</text><text fill=\"#000000\" font-family=\"sans-serif\" font-size=\"14\" lengthAdjust=\"spacing\" textLength=\"43\" x=\"209.5\" y=\"187.627\">engine</text><line style=\"stroke:#181818;stroke-width:0.5;\" x1=\"207.5\" x2=\"262.5\" y1=\"195.7031\" y2=\"195.7031\"/></g></a><!--MD5=[60a26617385b1d2d0262a64233df1f8d]\n",
       "class E6--><a href=\"psysml:a298c0cd-73bc-47e4-90be-adeb87098724\" target=\"_top\" title=\"psysml:a298c0cd-73bc-47e4-90be-adeb87098724\" xlink:actuate=\"onRequest\" xlink:href=\"psysml:a298c0cd-73bc-47e4-90be-adeb87098724\" xlink:show=\"new\" xlink:title=\"psysml:a298c0cd-73bc-47e4-90be-adeb87098724\" xlink:type=\"simple\"><g id=\"elem_E6\"><rect fill=\"#FFFFFF\" height=\"50.7031\" id=\"E6\" rx=\"10\" ry=\"10\" style=\"stroke:#181818;stroke-width:0.5;\" width=\"68\" x=\"299\" y=\"153\"/><text fill=\"#000000\" font-family=\"sans-serif\" font-size=\"12\" font-style=\"italic\" lengthAdjust=\"spacing\" textLength=\"35\" x=\"315.5\" y=\"170.457\">«part»</text><text fill=\"#000000\" font-family=\"sans-serif\" font-size=\"14\" lengthAdjust=\"spacing\" textLength=\"54\" x=\"302\" y=\"187.627\">frontAxis</text><line style=\"stroke:#181818;stroke-width:0.5;\" x1=\"300\" x2=\"366\" y1=\"195.7031\" y2=\"195.7031\"/></g></a><!--MD5=[2156ba9850f5573cc1fc38a6a4b2f02b]\n",
       "class E7--><a href=\"psysml:0f8ded6f-27a6-4f18-9e2f-85deff045487\" target=\"_top\" title=\"psysml:0f8ded6f-27a6-4f18-9e2f-85deff045487\" xlink:actuate=\"onRequest\" xlink:href=\"psysml:0f8ded6f-27a6-4f18-9e2f-85deff045487\" xlink:show=\"new\" xlink:title=\"psysml:0f8ded6f-27a6-4f18-9e2f-85deff045487\" xlink:type=\"simple\"><g id=\"elem_E7\"><rect fill=\"#FFFFFF\" height=\"50.7031\" id=\"E7\" rx=\"10\" ry=\"10\" style=\"stroke:#181818;stroke-width:0.5;\" width=\"65\" x=\"402.5\" y=\"153\"/><text fill=\"#000000\" font-family=\"sans-serif\" font-size=\"12\" font-style=\"italic\" lengthAdjust=\"spacing\" textLength=\"35\" x=\"417.5\" y=\"170.457\">«part»</text><text fill=\"#000000\" font-family=\"sans-serif\" font-size=\"14\" lengthAdjust=\"spacing\" textLength=\"51\" x=\"405.5\" y=\"187.627\">rearAxis</text><line style=\"stroke:#181818;stroke-width:0.5;\" x1=\"403.5\" x2=\"466.5\" y1=\"195.7031\" y2=\"195.7031\"/></g></a><!--MD5=[b9389687b975829384b498ac4b7476b2]\n",
       "class E8--><a href=\"psysml:83c908f1-6407-4cf2-9169-2377f2196595\" target=\"_top\" title=\"psysml:83c908f1-6407-4cf2-9169-2377f2196595\" xlink:actuate=\"onRequest\" xlink:href=\"psysml:83c908f1-6407-4cf2-9169-2377f2196595\" xlink:show=\"new\" xlink:title=\"psysml:83c908f1-6407-4cf2-9169-2377f2196595\" xlink:type=\"simple\"><g id=\"elem_E8\"><rect fill=\"#FFFFFF\" height=\"50.7031\" id=\"E8\" rx=\"10\" ry=\"10\" style=\"stroke:#181818;stroke-width:0.5;\" width=\"83\" x=\"502.5\" y=\"153\"/><text fill=\"#000000\" font-family=\"sans-serif\" font-size=\"12\" font-style=\"italic\" lengthAdjust=\"spacing\" textLength=\"35\" x=\"526.5\" y=\"170.457\">«part»</text><text fill=\"#000000\" font-family=\"sans-serif\" font-size=\"14\" lengthAdjust=\"spacing\" textLength=\"69\" x=\"505.5\" y=\"187.627\">frontWheel</text><line style=\"stroke:#181818;stroke-width:0.5;\" x1=\"503.5\" x2=\"584.5\" y1=\"195.7031\" y2=\"195.7031\"/></g></a><!--MD5=[fd4143e9d270a159db93a4ea2a975926]\n",
       "class E9--><a href=\"psysml:d1bf9f1d-9378-4a43-8e29-36a060a0d394\" target=\"_top\" title=\"psysml:d1bf9f1d-9378-4a43-8e29-36a060a0d394\" xlink:actuate=\"onRequest\" xlink:href=\"psysml:d1bf9f1d-9378-4a43-8e29-36a060a0d394\" xlink:show=\"new\" xlink:title=\"psysml:d1bf9f1d-9378-4a43-8e29-36a060a0d394\" xlink:type=\"simple\"><g id=\"elem_E9\"><rect fill=\"#FFFFFF\" height=\"50.7031\" id=\"E9\" rx=\"10\" ry=\"10\" style=\"stroke:#181818;stroke-width:0.5;\" width=\"80\" x=\"621\" y=\"153\"/><text fill=\"#000000\" font-family=\"sans-serif\" font-size=\"12\" font-style=\"italic\" lengthAdjust=\"spacing\" textLength=\"35\" x=\"643.5\" y=\"170.457\">«part»</text><text fill=\"#000000\" font-family=\"sans-serif\" font-size=\"14\" lengthAdjust=\"spacing\" textLength=\"66\" x=\"624\" y=\"187.627\">rearWheel</text><line style=\"stroke:#181818;stroke-width:0.5;\" x1=\"622\" x2=\"700\" y1=\"195.7031\" y2=\"195.7031\"/></g></a><!--MD5=[209b3feb70ccb6233bfe1053d122c12c]\n",
       "reverse link E2 to E3--><g id=\"link_E2_E3\"><a href=\"psysml:44e93b82-dc96-4fa1-826e-c367c8da189a\" target=\"_top\" title=\"psysml:44e93b82-dc96-4fa1-826e-c367c8da189a\" xlink:actuate=\"onRequest\" xlink:href=\"psysml:44e93b82-dc96-4fa1-826e-c367c8da189a\" xlink:show=\"new\" xlink:title=\"psysml:44e93b82-dc96-4fa1-826e-c367c8da189a\" xlink:type=\"simple\"><path d=\"M286.2,82.19 C237.6,97.1 159.88,122.88 96,153 C89.85,155.9 83.43,159.46 77.55,162.95 \" fill=\"none\" id=\"E2-backto-E3\" style=\"stroke:#181818;stroke-width:1.0;\"/><polygon fill=\"#181818\" points=\"298.8,78.37,291.8977,76.2824,287.3159,81.8508,294.2182,83.9384,298.8,78.37\" style=\"stroke:#181818;stroke-width:1.0;\"/><text fill=\"#000000\" font-family=\"sans-serif\" font-size=\"13\" lengthAdjust=\"spacing\" textLength=\"7\" x=\"85.5278\" y=\"153.3322\">1</text></a></g><!--MD5=[9618e71518536f8baf3342ff6fdab317]\n",
       "reverse link E2 to E4--><g id=\"link_E2_E4\"><a href=\"psysml:7841f926-3e8d-495a-b3dc-83039062f3bb\" target=\"_top\" title=\"psysml:7841f926-3e8d-495a-b3dc-83039062f3bb\" xlink:actuate=\"onRequest\" xlink:href=\"psysml:7841f926-3e8d-495a-b3dc-83039062f3bb\" xlink:show=\"new\" xlink:title=\"psysml:7841f926-3e8d-495a-b3dc-83039062f3bb\" xlink:type=\"simple\"><path d=\"M287.18,94.65 C251.14,115.22 202.02,143.25 171.16,160.86 \" fill=\"none\" id=\"E2-backto-E4\" style=\"stroke:#181818;stroke-width:1.0;\"/><polygon fill=\"#181818\" points=\"298.85,87.99,291.6562,87.4909,288.4286,93.9394,295.6225,94.4385,298.85,87.99\" style=\"stroke:#181818;stroke-width:1.0;\"/><text fill=\"#000000\" font-family=\"sans-serif\" font-size=\"13\" lengthAdjust=\"spacing\" textLength=\"7\" x=\"179.1209\" y=\"152.1844\">1</text></a></g><!--MD5=[4e1a83fab71cdb913c109063314ae896]\n",
       "reverse link E2 to E5--><g id=\"link_E2_E5\"><a href=\"psysml:a3da8391-d8b5-4ede-907c-5747786a5fae\" target=\"_top\" title=\"psysml:a3da8391-d8b5-4ede-907c-5747786a5fae\" xlink:actuate=\"onRequest\" xlink:href=\"psysml:a3da8391-d8b5-4ede-907c-5747786a5fae\" xlink:show=\"new\" xlink:title=\"psysml:a3da8391-d8b5-4ede-907c-5747786a5fae\" xlink:type=\"simple\"><path d=\"M302.06,102.91 C287.48,119.13 270.41,138.11 257.15,152.86 \" fill=\"none\" id=\"E2-backto-E5\" style=\"stroke:#181818;stroke-width:1.0;\"/><polygon fill=\"#181818\" points=\"310.76,93.23,303.7736,95.0162,302.7353,102.1522,309.7217,100.366,310.76,93.23\" style=\"stroke:#181818;stroke-width:1.0;\"/><text fill=\"#000000\" font-family=\"sans-serif\" font-size=\"13\" lengthAdjust=\"spacing\" textLength=\"7\" x=\"254.6959\" y=\"142.2344\">1</text></a></g><!--MD5=[ce036f65110ae2351ccce5a81dc2e928]\n",
       "reverse link E2 to E6--><g id=\"link_E2_E6\"><a href=\"psysml:2d9809f1-2af2-41e2-b271-5b96a51269b4\" target=\"_top\" title=\"psysml:2d9809f1-2af2-41e2-b271-5b96a51269b4\" xlink:actuate=\"onRequest\" xlink:href=\"psysml:2d9809f1-2af2-41e2-b271-5b96a51269b4\" xlink:show=\"new\" xlink:title=\"psysml:2d9809f1-2af2-41e2-b271-5b96a51269b4\" xlink:type=\"simple\"><path d=\"M333,106.63 C333,121.97 333,139.22 333,152.86 \" fill=\"none\" id=\"E2-backto-E6\" style=\"stroke:#181818;stroke-width:1.0;\"/><polygon fill=\"#181818\" points=\"333,93.23,329,99.23,333,105.23,337,99.23,333,93.23\" style=\"stroke:#181818;stroke-width:1.0;\"/><text fill=\"#000000\" font-family=\"sans-serif\" font-size=\"13\" lengthAdjust=\"spacing\" textLength=\"7\" x=\"325.1469\" y=\"142.2344\">1</text></a></g><!--MD5=[1c72b32696d764168c30777981ec3f66]\n",
       "reverse link E2 to E7--><g id=\"link_E2_E7\"><a href=\"psysml:5dfd97a9-f254-43d4-b70a-4a6774411028\" target=\"_top\" title=\"psysml:5dfd97a9-f254-43d4-b70a-4a6774411028\" xlink:actuate=\"onRequest\" xlink:href=\"psysml:5dfd97a9-f254-43d4-b70a-4a6774411028\" xlink:show=\"new\" xlink:title=\"psysml:5dfd97a9-f254-43d4-b70a-4a6774411028\" xlink:type=\"simple\"><path d=\"M365.2,102.91 C380.38,119.13 398.14,138.11 411.95,152.86 \" fill=\"none\" id=\"E2-backto-E7\" style=\"stroke:#181818;stroke-width:1.0;\"/><polygon fill=\"#181818\" points=\"356.15,93.23,357.3269,100.3444,364.3468,101.9943,363.1698,94.8799,356.15,93.23\" style=\"stroke:#181818;stroke-width:1.0;\"/><text fill=\"#000000\" font-family=\"sans-serif\" font-size=\"13\" lengthAdjust=\"spacing\" textLength=\"7\" x=\"398.4784\" y=\"142.2344\">1</text></a></g><!--MD5=[65f962d72b3a6bed1ede4f3c867e43a4]\n",
       "reverse link E2 to E8--><g id=\"link_E2_E8\"><a href=\"psysml:c9ce46f8-9e4b-4af9-a46f-b93ec1b69875\" target=\"_top\" title=\"psysml:c9ce46f8-9e4b-4af9-a46f-b93ec1b69875\" xlink:actuate=\"onRequest\" xlink:href=\"psysml:c9ce46f8-9e4b-4af9-a46f-b93ec1b69875\" xlink:show=\"new\" xlink:title=\"psysml:c9ce46f8-9e4b-4af9-a46f-b93ec1b69875\" xlink:type=\"simple\"><path d=\"M379.24,92.39 C415.98,111.37 466.91,137.68 502.39,156 \" fill=\"none\" id=\"E2-backto-E8\" style=\"stroke:#181818;stroke-width:1.0;\"/><polygon fill=\"#181818\" points=\"367.37,86.26,370.8612,92.5696,378.0282,91.7738,374.5371,85.4641,367.37,86.26\" style=\"stroke:#181818;stroke-width:1.0;\"/><text fill=\"#000000\" font-family=\"sans-serif\" font-size=\"13\" lengthAdjust=\"spacing\" textLength=\"7\" x=\"487.6367\" y=\"148.3087\">2</text></a></g><!--MD5=[4a91eb351f2fb42055d99b719d3dd418]\n",
       "reverse link E2 to E9--><g id=\"link_E2_E9\"><a href=\"psysml:9c1d1db5-e4c6-42fe-bb21-b48fa3769deb\" target=\"_top\" title=\"psysml:9c1d1db5-e4c6-42fe-bb21-b48fa3769deb\" xlink:actuate=\"onRequest\" xlink:href=\"psysml:9c1d1db5-e4c6-42fe-bb21-b48fa3769deb\" xlink:show=\"new\" xlink:title=\"psysml:9c1d1db5-e4c6-42fe-bb21-b48fa3769deb\" xlink:type=\"simple\"><path d=\"M379.63,81.61 C433.82,97.18 525.68,124.64 603,153 C608.85,155.15 614.97,157.55 620.95,159.99 \" fill=\"none\" id=\"E2-backto-E9\" style=\"stroke:#181818;stroke-width:1.0;\"/><polygon fill=\"#181818\" points=\"367.03,78.01,371.6945,83.5094,378.5648,81.3188,373.9003,75.8195,367.03,78.01\" style=\"stroke:#181818;stroke-width:1.0;\"/><text fill=\"#000000\" font-family=\"sans-serif\" font-size=\"13\" lengthAdjust=\"spacing\" textLength=\"7\" x=\"605.9205\" y=\"152.6571\">2</text></a></g><!--MD5=[128d16823a68f8088ffdc637e82d7510]\n",
       "@startuml\r\n",
       "skin sysmlbw\r\n",
       "skinparam monochrome true\r\n",
       "skinparam wrapWidth 300\r\n",
       "hide circle\r\n",
       "\r\n",
       "package \"eVehicle_LogicalArchitecture\" as E1  [[psysml:6a511c5d-c53f-43af-a300-c04b465748b8 ]]  {\r\n",
       "comp usage \"eVehicle  \" as E2  <<(T,blue) part>> [[psysml:2a937367-9d92-4e8e-9a1e-70cbcf256163 ]] {\r\n",
       "}\r\n",
       "comp usage \"body  \" as E3  <<(T,blue) part>> [[psysml:1dd2067b-a68e-4696-ab5d-c900326592f9 ]] {\r\n",
       "}\r\n",
       "comp usage \"battery  \" as E4  <<(T,blue) part>> [[psysml:a01c06be-892a-4f26-86ac-9fa441f999bb ]] {\r\n",
       "}\r\n",
       "comp usage \"engine  \" as E5  <<(T,blue) part>> [[psysml:e53651a0-af11-4e6a-b097-d37c3c04f398 ]] {\r\n",
       "}\r\n",
       "comp usage \"frontAxis  \" as E6  <<(T,blue) part>> [[psysml:a298c0cd-73bc-47e4-90be-adeb87098724 ]] {\r\n",
       "}\r\n",
       "comp usage \"rearAxis  \" as E7  <<(T,blue) part>> [[psysml:0f8ded6f-27a6-4f18-9e2f-85deff045487 ]] {\r\n",
       "}\r\n",
       "comp usage \"frontWheel  \" as E8  <<(T,blue) part>> [[psysml:83c908f1-6407-4cf2-9169-2377f2196595 ]] {\r\n",
       "}\r\n",
       "comp usage \"rearWheel  \" as E9  <<(T,blue) part>> [[psysml:d1bf9f1d-9378-4a43-8e29-36a060a0d394 ]] {\r\n",
       "}\r\n",
       "}\r\n",
       "E2 *- - \"1\"E3 [[psysml:44e93b82-dc96-4fa1-826e-c367c8da189a ]] \r\n",
       "E2 *- - \"1\"E4 [[psysml:7841f926-3e8d-495a-b3dc-83039062f3bb ]] \r\n",
       "E2 *- - \"1\"E5 [[psysml:a3da8391-d8b5-4ede-907c-5747786a5fae ]] \r\n",
       "E2 *- - \"1\"E6 [[psysml:2d9809f1-2af2-41e2-b271-5b96a51269b4 ]] \r\n",
       "E2 *- - \"1\"E7 [[psysml:5dfd97a9-f254-43d4-b70a-4a6774411028 ]] \r\n",
       "E2 *- - \"2\"E8 [[psysml:c9ce46f8-9e4b-4af9-a46f-b93ec1b69875 ]] \r\n",
       "E2 *- - \"2\"E9 [[psysml:9c1d1db5-e4c6-42fe-bb21-b48fa3769deb ]] \r\n",
       "@enduml\r\n",
       "\n",
       "PlantUML version 1.2022.7(Mon Aug 22 12:01:30 CDT 2022)\n",
       "(EPL source distribution)\n",
       "Java Runtime: OpenJDK Runtime Environment\n",
       "JVM: OpenJDK 64-Bit Server VM\n",
       "Default Encoding: UTF-8\n",
       "Language: en\n",
       "Country: US\n",
       "--></g></svg>"
      ]
     },
     "execution_count": 11,
     "metadata": {},
     "output_type": "execute_result"
    }
   ],
   "source": [
    "%viz --view=tree eVehicle_LogicalArchitecture"
   ]
  },
  {
   "cell_type": "markdown",
   "metadata": {
    "kernel": "SoS"
   },
   "source": [
    "SysML v2 provides an extensive model library that also includes geometric figures. We can specialize the PartDefinition \"Wheel\" from a cylinder. As an example, in the following model, a radius is set. The imported SI library contains the unit \"mm\". The \":=\" symbol is an assignment for the initial value of the attribute."
   ]
  },
  {
   "cell_type": "code",
   "execution_count": 2,
   "metadata": {
    "kernel": "SysML",
    "tags": []
   },
   "outputs": [
    {
     "data": {
      "text/plain": [
       "Package eVehicle_LogicalArchitecture2 (2343eff3-ad0a-489a-bd0f-0a3466821bd5)\n"
      ]
     },
     "execution_count": 2,
     "metadata": {},
     "output_type": "execute_result"
    }
   ],
   "source": [
    "package eVehicle_LogicalArchitecture2 {   \n",
    "\n",
    "    import SI::*;  \n",
    "    import ScalarValues::String;\n",
    "    import ShapeItems::CircularCylinder;\n",
    "    part def MyPoint :> ShapeItems::CircularCylinder {\n",
    "        attribute name : String := \"The Architecture\";\n",
    "        \n",
    "    }\n",
    "}"
   ]
  },
  {
   "cell_type": "code",
   "execution_count": 4,
   "metadata": {
    "kernel": "SysML",
    "tags": []
   },
   "outputs": [
    {
     "data": {
      "image/svg+xml": [
       "<?xml version=\"1.0\" encoding=\"UTF-8\" standalone=\"no\"?><svg xmlns=\"http://www.w3.org/2000/svg\" xmlns:xlink=\"http://www.w3.org/1999/xlink\" contentStyleType=\"text/css\" height=\"100px\" preserveAspectRatio=\"none\" style=\"width:248px;height:100px;background:#FFFFFF;\" version=\"1.1\" viewBox=\"0 0 248 100\" width=\"248px\" zoomAndPan=\"magnify\"><defs/><g><!--MD5=[43c9051892ef23e1a46a86907403d788]\n",
       "class E1--><a href=\"psysml:2e2754f1-692f-4a65-8bd3-b291f7fef0b7\" target=\"_top\" title=\"psysml:2e2754f1-692f-4a65-8bd3-b291f7fef0b7\" xlink:actuate=\"onRequest\" xlink:href=\"psysml:2e2754f1-692f-4a65-8bd3-b291f7fef0b7\" xlink:show=\"new\" xlink:title=\"psysml:2e2754f1-692f-4a65-8bd3-b291f7fef0b7\" xlink:type=\"simple\"><g id=\"elem_E1\"><rect fill=\"#FFFFFF\" height=\"79.3563\" id=\"E1\" style=\"stroke:#181818;stroke-width:0.5;\" width=\"227\" x=\"7\" y=\"7\"/><text fill=\"#000000\" font-family=\"sans-serif\" font-size=\"12\" font-style=\"italic\" lengthAdjust=\"spacing\" textLength=\"58\" x=\"91.5\" y=\"24.457\">«part  def»</text><text fill=\"#000000\" font-family=\"sans-serif\" font-size=\"14\" lengthAdjust=\"spacing\" textLength=\"50\" x=\"95.5\" y=\"41.627\">MyPoint</text><line style=\"stroke:#181818;stroke-width:0.5;\" x1=\"8\" x2=\"233\" y1=\"49.7031\" y2=\"49.7031\"/><text fill=\"#000000\" font-family=\"sans-serif\" font-size=\"14\" lengthAdjust=\"spacing\" textLength=\"215\" x=\"13\" y=\"79.2801\">name: String := \"The Architecture\"</text><text fill=\"#000000\" font-family=\"sans-serif\" font-size=\"14\" font-style=\"italic\" lengthAdjust=\"spacing\" textLength=\"59\" x=\"91\" y=\"62.9316\">attributes</text></g></a><!--MD5=[164d1bb75a0cfdf47213e2aa3fb0e218]\n",
       "@startuml\r\n",
       "skin sysmlbw\r\n",
       "skinparam monochrome true\r\n",
       "skinparam wrapWidth 300\r\n",
       "hide circle\r\n",
       "\r\n",
       "comp def \"MyPoint\" as E1  <<(T,blue) part  def>> [[psysml:2e2754f1-692f-4a65-8bd3-b291f7fef0b7 ]] {\r\n",
       "##//attributes//##\r\n",
       "name: String :<U+003D> \"The Architecture\"\r\n",
       "}\r\n",
       "@enduml\r\n",
       "\n",
       "PlantUML version 1.2022.7(Mon Aug 22 12:01:30 CDT 2022)\n",
       "(EPL source distribution)\n",
       "Java Runtime: OpenJDK Runtime Environment\n",
       "JVM: OpenJDK 64-Bit Server VM\n",
       "Default Encoding: UTF-8\n",
       "Language: en\n",
       "Country: US\n",
       "--></g></svg>"
      ]
     },
     "execution_count": 4,
     "metadata": {},
     "output_type": "execute_result"
    }
   ],
   "source": [
    "%viz --view=tree eVehicle_LogicalArchitecture2::MyPoint"
   ]
  },
  {
   "cell_type": "code",
   "execution_count": 34,
   "metadata": {
    "kernel": "SoS",
    "tags": []
   },
   "outputs": [
    {
     "data": {
      "text/plain": [
       "Package eVehicle_LogicalArchitecture (df28a423-25cd-46fa-910a-af8f3e07b4b8)\n"
      ]
     },
     "execution_count": 34,
     "metadata": {},
     "output_type": "execute_result"
    }
   ],
   "source": [
    "package eVehicle_LogicalArchitecture {   \n",
    "\n",
    "    import SI::*;    \n",
    "    private import ScalarValues::*;\n",
    "    \n",
    "    attribute def WheelSize {\n",
    "        size : LengthValue;\n",
    "        deviation : LengthValue;    \n",
    "\n",
    "    }\n",
    "        \n",
    "    part def Wheel :> ShapeItems::CircularCylinder {\n",
    "        :>> radius = sizeOfWheel.size;\n",
    "        attribute sizeOfWheel : WheelSize {\n",
    "            :>> size = 325 [mm];\n",
    "            :>> deviation =- 1 [mm];\n",
    "        }\n",
    "        attribute name : String :=\"BigWheel\";\n",
    "    }\n",
    "    \n",
    "    part eVehicle {    \n",
    "        part body;\n",
    "        part battery;\n",
    "        part engine;\n",
    "        part frontAxis;\n",
    "        part rearAxis;\n",
    "        part frontWheel : Wheel[2];\n",
    "        part rearWheel : Wheel[2];\n",
    "    }\n",
    "}"
   ]
  },
  {
   "cell_type": "code",
   "execution_count": null,
   "metadata": {
    "kernel": "SoS"
   },
   "outputs": [],
   "source": []
  },
  {
   "cell_type": "code",
   "execution_count": 35,
   "metadata": {
    "kernel": "SoS"
   },
   "outputs": [
    {
     "data": {
      "image/svg+xml": [
       "<?xml version=\"1.0\" encoding=\"UTF-8\" standalone=\"no\"?><svg xmlns=\"http://www.w3.org/2000/svg\" xmlns:xlink=\"http://www.w3.org/1999/xlink\" contentStyleType=\"text/css\" height=\"438px\" preserveAspectRatio=\"none\" style=\"width:830px;height:438px;background:#FFFFFF;\" version=\"1.1\" viewBox=\"0 0 830 438\" width=\"830px\" zoomAndPan=\"magnify\"><defs/><g><!--MD5=[fbc87193dbaf4d95561dea2c320d4a47]\n",
       "cluster E1--><g id=\"cluster_E1\"><a href=\"psysml:df28a423-25cd-46fa-910a-af8f3e07b4b8\" target=\"_top\" title=\"psysml:df28a423-25cd-46fa-910a-af8f3e07b4b8\" xlink:actuate=\"onRequest\" xlink:href=\"psysml:df28a423-25cd-46fa-910a-af8f3e07b4b8\" xlink:show=\"new\" xlink:title=\"psysml:df28a423-25cd-46fa-910a-af8f3e07b4b8\" xlink:type=\"simple\"><polygon fill=\"none\" points=\"16,6,228,6,235,29.6094,813,29.6094,813,431,16,431,16,6\" style=\"stroke:#000000;stroke-width:1.5;\"/><line style=\"stroke:#000000;stroke-width:1.5;\" x1=\"16\" x2=\"235\" y1=\"29.6094\" y2=\"29.6094\"/><text fill=\"#000000\" font-family=\"sans-serif\" font-size=\"14\" font-weight=\"bold\" lengthAdjust=\"spacing\" textLength=\"206\" x=\"20\" y=\"22.5332\">eVehicle_LogicalArchitecture</text></a></g><!--MD5=[b4997ac47864f28c2f74865a473b2911]\n",
       "class E2--><a href=\"psysml:0d0e7c9b-98b1-4aa9-b33b-f27e17d73546\" target=\"_top\" title=\"psysml:0d0e7c9b-98b1-4aa9-b33b-f27e17d73546\" xlink:actuate=\"onRequest\" xlink:href=\"psysml:0d0e7c9b-98b1-4aa9-b33b-f27e17d73546\" xlink:show=\"new\" xlink:title=\"psysml:0d0e7c9b-98b1-4aa9-b33b-f27e17d73546\" xlink:type=\"simple\"><g id=\"elem_E2\"><rect fill=\"#FFFFFF\" height=\"50.7031\" id=\"E2\" style=\"stroke:#181818;stroke-width:0.5;\" width=\"84\" x=\"557\" y=\"42\"/><text fill=\"#000000\" font-family=\"sans-serif\" font-size=\"12\" font-style=\"italic\" lengthAdjust=\"spacing\" textLength=\"82\" x=\"558\" y=\"59.457\">«attribute  def»</text><text fill=\"#000000\" font-family=\"sans-serif\" font-size=\"14\" lengthAdjust=\"spacing\" textLength=\"66\" x=\"566\" y=\"76.627\">WheelSize</text><line style=\"stroke:#181818;stroke-width:0.5;\" x1=\"558\" x2=\"640\" y1=\"84.7031\" y2=\"84.7031\"/></g></a><!--MD5=[09b614a08d8cba4a07c9adeb5e0fee81]\n",
       "class E3--><a href=\"psysml:664bfdc6-af4c-4db6-ba7e-8548a444b04d\" target=\"_top\" title=\"psysml:664bfdc6-af4c-4db6-ba7e-8548a444b04d\" xlink:actuate=\"onRequest\" xlink:href=\"psysml:664bfdc6-af4c-4db6-ba7e-8548a444b04d\" xlink:show=\"new\" xlink:title=\"psysml:664bfdc6-af4c-4db6-ba7e-8548a444b04d\" xlink:type=\"simple\"><g id=\"elem_E3\"><rect fill=\"#FFFFFF\" height=\"151.2281\" id=\"E3\" style=\"stroke:#181818;stroke-width:0.5;\" width=\"180\" x=\"547\" y=\"264\"/><text fill=\"#000000\" font-family=\"sans-serif\" font-size=\"12\" font-style=\"italic\" lengthAdjust=\"spacing\" textLength=\"58\" x=\"608\" y=\"281.457\">«part  def»</text><text fill=\"#000000\" font-family=\"sans-serif\" font-size=\"14\" lengthAdjust=\"spacing\" textLength=\"40\" x=\"617\" y=\"298.627\">Wheel</text><line style=\"stroke:#181818;stroke-width:0.5;\" x1=\"548\" x2=\"726\" y1=\"306.7031\" y2=\"306.7031\"/><text fill=\"#000000\" font-family=\"sans-serif\" font-size=\"14\" lengthAdjust=\"spacing\" textLength=\"166\" x=\"553\" y=\"336.2801\">name: String :=\"BigWheel\"</text><text fill=\"#000000\" font-family=\"sans-serif\" font-size=\"14\" lengthAdjust=\"spacing\" textLength=\"153\" x=\"553\" y=\"353.8895\">sizeOfWheel: WheelSize</text><text fill=\"#000000\" font-family=\"sans-serif\" font-size=\"14\" font-style=\"italic\" lengthAdjust=\"spacing\" textLength=\"59\" x=\"607.5\" y=\"319.9316\">attributes</text><line style=\"stroke:#181818;stroke-width:1.0;\" x1=\"548\" x2=\"726\" y1=\"360.9656\" y2=\"360.9656\"/><text fill=\"#000000\" font-family=\"sans-serif\" font-size=\"14\" lengthAdjust=\"spacing\" textLength=\"162\" x=\"553\" y=\"390.5426\">radius = sizeOfWheel.size</text><text fill=\"#000000\" font-family=\"sans-serif\" font-size=\"14\" font-style=\"italic\" lengthAdjust=\"spacing\" textLength=\"168\" x=\"553\" y=\"408.152\">:&gt;&gt;CircularCylinder::radius</text><text fill=\"#000000\" font-family=\"sans-serif\" font-size=\"14\" font-style=\"italic\" lengthAdjust=\"spacing\" textLength=\"68\" x=\"603\" y=\"374.1941\">references</text></g></a><!--MD5=[ebbe1d658d1005bcc118a6aa81145e00]\n",
       "class E4--><a href=\"psysml:2d7bcd2f-a4e7-42fd-a2ca-a4ee4671c952\" target=\"_top\" title=\"psysml:2d7bcd2f-a4e7-42fd-a2ca-a4ee4671c952\" xlink:actuate=\"onRequest\" xlink:href=\"psysml:2d7bcd2f-a4e7-42fd-a2ca-a4ee4671c952\" xlink:show=\"new\" xlink:title=\"psysml:2d7bcd2f-a4e7-42fd-a2ca-a4ee4671c952\" xlink:type=\"simple\"><g id=\"elem_E4\"><rect fill=\"#FFFFFF\" height=\"50.7031\" id=\"E4\" rx=\"10\" ry=\"10\" style=\"stroke:#181818;stroke-width:0.5;\" width=\"68\" x=\"299\" y=\"42\"/><text fill=\"#000000\" font-family=\"sans-serif\" font-size=\"12\" font-style=\"italic\" lengthAdjust=\"spacing\" textLength=\"35\" x=\"315.5\" y=\"59.457\">«part»</text><text fill=\"#000000\" font-family=\"sans-serif\" font-size=\"14\" lengthAdjust=\"spacing\" textLength=\"54\" x=\"302\" y=\"76.627\">eVehicle</text><line style=\"stroke:#181818;stroke-width:0.5;\" x1=\"300\" x2=\"366\" y1=\"84.7031\" y2=\"84.7031\"/></g></a><!--MD5=[270fce915f116d4de14055a7c1d9a0f3]\n",
       "class E5--><a href=\"psysml:44a01409-a7a8-4ac8-9435-9dae2193c6f7\" target=\"_top\" title=\"psysml:44a01409-a7a8-4ac8-9435-9dae2193c6f7\" xlink:actuate=\"onRequest\" xlink:href=\"psysml:44a01409-a7a8-4ac8-9435-9dae2193c6f7\" xlink:show=\"new\" xlink:title=\"psysml:44a01409-a7a8-4ac8-9435-9dae2193c6f7\" xlink:type=\"simple\"><g id=\"elem_E5\"><rect fill=\"#FFFFFF\" height=\"50.7031\" id=\"E5\" rx=\"10\" ry=\"10\" style=\"stroke:#181818;stroke-width:0.5;\" width=\"45\" x=\"32.5\" y=\"153\"/><text fill=\"#000000\" font-family=\"sans-serif\" font-size=\"12\" font-style=\"italic\" lengthAdjust=\"spacing\" textLength=\"35\" x=\"37.5\" y=\"170.457\">«part»</text><text fill=\"#000000\" font-family=\"sans-serif\" font-size=\"14\" lengthAdjust=\"spacing\" textLength=\"31\" x=\"35.5\" y=\"187.627\">body</text><line style=\"stroke:#181818;stroke-width:0.5;\" x1=\"33.5\" x2=\"76.5\" y1=\"195.7031\" y2=\"195.7031\"/></g></a><!--MD5=[60a26617385b1d2d0262a64233df1f8d]\n",
       "class E6--><a href=\"psysml:86dce7a1-aab6-40b9-b0d3-a1a02274327b\" target=\"_top\" title=\"psysml:86dce7a1-aab6-40b9-b0d3-a1a02274327b\" xlink:actuate=\"onRequest\" xlink:href=\"psysml:86dce7a1-aab6-40b9-b0d3-a1a02274327b\" xlink:show=\"new\" xlink:title=\"psysml:86dce7a1-aab6-40b9-b0d3-a1a02274327b\" xlink:type=\"simple\"><g id=\"elem_E6\"><rect fill=\"#FFFFFF\" height=\"50.7031\" id=\"E6\" rx=\"10\" ry=\"10\" style=\"stroke:#181818;stroke-width:0.5;\" width=\"58\" x=\"113\" y=\"153\"/><text fill=\"#000000\" font-family=\"sans-serif\" font-size=\"12\" font-style=\"italic\" lengthAdjust=\"spacing\" textLength=\"35\" x=\"124.5\" y=\"170.457\">«part»</text><text fill=\"#000000\" font-family=\"sans-serif\" font-size=\"14\" lengthAdjust=\"spacing\" textLength=\"44\" x=\"116\" y=\"187.627\">battery</text><line style=\"stroke:#181818;stroke-width:0.5;\" x1=\"114\" x2=\"170\" y1=\"195.7031\" y2=\"195.7031\"/></g></a><!--MD5=[2156ba9850f5573cc1fc38a6a4b2f02b]\n",
       "class E7--><a href=\"psysml:a840c61b-7eb2-421b-a980-3fe60ea995a5\" target=\"_top\" title=\"psysml:a840c61b-7eb2-421b-a980-3fe60ea995a5\" xlink:actuate=\"onRequest\" xlink:href=\"psysml:a840c61b-7eb2-421b-a980-3fe60ea995a5\" xlink:show=\"new\" xlink:title=\"psysml:a840c61b-7eb2-421b-a980-3fe60ea995a5\" xlink:type=\"simple\"><g id=\"elem_E7\"><rect fill=\"#FFFFFF\" height=\"50.7031\" id=\"E7\" rx=\"10\" ry=\"10\" style=\"stroke:#181818;stroke-width:0.5;\" width=\"57\" x=\"206.5\" y=\"153\"/><text fill=\"#000000\" font-family=\"sans-serif\" font-size=\"12\" font-style=\"italic\" lengthAdjust=\"spacing\" textLength=\"35\" x=\"217.5\" y=\"170.457\">«part»</text><text fill=\"#000000\" font-family=\"sans-serif\" font-size=\"14\" lengthAdjust=\"spacing\" textLength=\"43\" x=\"209.5\" y=\"187.627\">engine</text><line style=\"stroke:#181818;stroke-width:0.5;\" x1=\"207.5\" x2=\"262.5\" y1=\"195.7031\" y2=\"195.7031\"/></g></a><!--MD5=[b9389687b975829384b498ac4b7476b2]\n",
       "class E8--><a href=\"psysml:b82c3ae6-9137-44af-a7b9-859eca59f268\" target=\"_top\" title=\"psysml:b82c3ae6-9137-44af-a7b9-859eca59f268\" xlink:actuate=\"onRequest\" xlink:href=\"psysml:b82c3ae6-9137-44af-a7b9-859eca59f268\" xlink:show=\"new\" xlink:title=\"psysml:b82c3ae6-9137-44af-a7b9-859eca59f268\" xlink:type=\"simple\"><g id=\"elem_E8\"><rect fill=\"#FFFFFF\" height=\"50.7031\" id=\"E8\" rx=\"10\" ry=\"10\" style=\"stroke:#181818;stroke-width:0.5;\" width=\"68\" x=\"299\" y=\"153\"/><text fill=\"#000000\" font-family=\"sans-serif\" font-size=\"12\" font-style=\"italic\" lengthAdjust=\"spacing\" textLength=\"35\" x=\"315.5\" y=\"170.457\">«part»</text><text fill=\"#000000\" font-family=\"sans-serif\" font-size=\"14\" lengthAdjust=\"spacing\" textLength=\"54\" x=\"302\" y=\"187.627\">frontAxis</text><line style=\"stroke:#181818;stroke-width:0.5;\" x1=\"300\" x2=\"366\" y1=\"195.7031\" y2=\"195.7031\"/></g></a><!--MD5=[fd4143e9d270a159db93a4ea2a975926]\n",
       "class E9--><a href=\"psysml:1c453237-88d0-4b14-82d2-0f9db6e07308\" target=\"_top\" title=\"psysml:1c453237-88d0-4b14-82d2-0f9db6e07308\" xlink:actuate=\"onRequest\" xlink:href=\"psysml:1c453237-88d0-4b14-82d2-0f9db6e07308\" xlink:show=\"new\" xlink:title=\"psysml:1c453237-88d0-4b14-82d2-0f9db6e07308\" xlink:type=\"simple\"><g id=\"elem_E9\"><rect fill=\"#FFFFFF\" height=\"50.7031\" id=\"E9\" rx=\"10\" ry=\"10\" style=\"stroke:#181818;stroke-width:0.5;\" width=\"65\" x=\"402.5\" y=\"153\"/><text fill=\"#000000\" font-family=\"sans-serif\" font-size=\"12\" font-style=\"italic\" lengthAdjust=\"spacing\" textLength=\"35\" x=\"417.5\" y=\"170.457\">«part»</text><text fill=\"#000000\" font-family=\"sans-serif\" font-size=\"14\" lengthAdjust=\"spacing\" textLength=\"51\" x=\"405.5\" y=\"187.627\">rearAxis</text><line style=\"stroke:#181818;stroke-width:0.5;\" x1=\"403.5\" x2=\"466.5\" y1=\"195.7031\" y2=\"195.7031\"/></g></a><!--MD5=[96f4274e9e20536e775497830990834d]\n",
       "class E10--><a href=\"psysml:7ce811af-3798-459d-98e6-ab162622c589\" target=\"_top\" title=\"psysml:7ce811af-3798-459d-98e6-ab162622c589\" xlink:actuate=\"onRequest\" xlink:href=\"psysml:7ce811af-3798-459d-98e6-ab162622c589\" xlink:show=\"new\" xlink:title=\"psysml:7ce811af-3798-459d-98e6-ab162622c589\" xlink:type=\"simple\"><g id=\"elem_E10\"><rect fill=\"#FFFFFF\" height=\"50.7031\" id=\"E10\" rx=\"10\" ry=\"10\" style=\"stroke:#181818;stroke-width:0.5;\" width=\"131\" x=\"502.5\" y=\"153\"/><text fill=\"#000000\" font-family=\"sans-serif\" font-size=\"12\" font-style=\"italic\" lengthAdjust=\"spacing\" textLength=\"35\" x=\"550.5\" y=\"170.457\">«part»</text><text fill=\"#000000\" font-family=\"sans-serif\" font-size=\"14\" lengthAdjust=\"spacing\" textLength=\"117\" x=\"505.5\" y=\"187.627\">frontWheel: Wheel</text><line style=\"stroke:#181818;stroke-width:0.5;\" x1=\"503.5\" x2=\"632.5\" y1=\"195.7031\" y2=\"195.7031\"/></g></a><!--MD5=[1dd1bfd58a279cf63c5f349dbc8fc6a1]\n",
       "class E11--><a href=\"psysml:423080d0-d9d7-4f11-82c0-1923383911dc\" target=\"_top\" title=\"psysml:423080d0-d9d7-4f11-82c0-1923383911dc\" xlink:actuate=\"onRequest\" xlink:href=\"psysml:423080d0-d9d7-4f11-82c0-1923383911dc\" xlink:show=\"new\" xlink:title=\"psysml:423080d0-d9d7-4f11-82c0-1923383911dc\" xlink:type=\"simple\"><g id=\"elem_E11\"><rect fill=\"#FFFFFF\" height=\"50.7031\" id=\"E11\" rx=\"10\" ry=\"10\" style=\"stroke:#181818;stroke-width:0.5;\" width=\"128\" x=\"669\" y=\"153\"/><text fill=\"#000000\" font-family=\"sans-serif\" font-size=\"12\" font-style=\"italic\" lengthAdjust=\"spacing\" textLength=\"35\" x=\"715.5\" y=\"170.457\">«part»</text><text fill=\"#000000\" font-family=\"sans-serif\" font-size=\"14\" lengthAdjust=\"spacing\" textLength=\"114\" x=\"672\" y=\"187.627\">rearWheel: Wheel</text><line style=\"stroke:#181818;stroke-width:0.5;\" x1=\"670\" x2=\"796\" y1=\"195.7031\" y2=\"195.7031\"/></g></a><!--MD5=[62aa6af11e70f752912c1cb0466f24f7]\n",
       "reverse link E4 to E5--><g id=\"link_E4_E5\"><a href=\"psysml:1e0a6f58-4d78-456f-b24c-5192769e990d\" target=\"_top\" title=\"psysml:1e0a6f58-4d78-456f-b24c-5192769e990d\" xlink:actuate=\"onRequest\" xlink:href=\"psysml:1e0a6f58-4d78-456f-b24c-5192769e990d\" xlink:show=\"new\" xlink:title=\"psysml:1e0a6f58-4d78-456f-b24c-5192769e990d\" xlink:type=\"simple\"><path d=\"M286.2,82.19 C237.6,97.1 159.88,122.88 96,153 C89.85,155.9 83.43,159.46 77.55,162.95 \" fill=\"none\" id=\"E4-backto-E5\" style=\"stroke:#181818;stroke-width:1.0;\"/><polygon fill=\"#181818\" points=\"298.8,78.37,291.8977,76.2824,287.3159,81.8508,294.2182,83.9384,298.8,78.37\" style=\"stroke:#181818;stroke-width:1.0;\"/><text fill=\"#000000\" font-family=\"sans-serif\" font-size=\"13\" lengthAdjust=\"spacing\" textLength=\"7\" x=\"85.5278\" y=\"153.3322\">1</text></a></g><!--MD5=[6db378b65e1aef66a01cb3103812b399]\n",
       "reverse link E4 to E6--><g id=\"link_E4_E6\"><a href=\"psysml:89798c5a-4688-4268-bb38-8f2b5509223f\" target=\"_top\" title=\"psysml:89798c5a-4688-4268-bb38-8f2b5509223f\" xlink:actuate=\"onRequest\" xlink:href=\"psysml:89798c5a-4688-4268-bb38-8f2b5509223f\" xlink:show=\"new\" xlink:title=\"psysml:89798c5a-4688-4268-bb38-8f2b5509223f\" xlink:type=\"simple\"><path d=\"M287.18,94.65 C251.14,115.22 202.02,143.25 171.16,160.86 \" fill=\"none\" id=\"E4-backto-E6\" style=\"stroke:#181818;stroke-width:1.0;\"/><polygon fill=\"#181818\" points=\"298.85,87.99,291.6562,87.4909,288.4286,93.9394,295.6225,94.4385,298.85,87.99\" style=\"stroke:#181818;stroke-width:1.0;\"/><text fill=\"#000000\" font-family=\"sans-serif\" font-size=\"13\" lengthAdjust=\"spacing\" textLength=\"7\" x=\"179.1209\" y=\"152.1844\">1</text></a></g><!--MD5=[722ff4eef345aa10242dad44df0e98c7]\n",
       "reverse link E4 to E7--><g id=\"link_E4_E7\"><a href=\"psysml:3f24605c-036d-46be-b070-766f1be39bb3\" target=\"_top\" title=\"psysml:3f24605c-036d-46be-b070-766f1be39bb3\" xlink:actuate=\"onRequest\" xlink:href=\"psysml:3f24605c-036d-46be-b070-766f1be39bb3\" xlink:show=\"new\" xlink:title=\"psysml:3f24605c-036d-46be-b070-766f1be39bb3\" xlink:type=\"simple\"><path d=\"M302.06,102.91 C287.48,119.13 270.41,138.11 257.15,152.86 \" fill=\"none\" id=\"E4-backto-E7\" style=\"stroke:#181818;stroke-width:1.0;\"/><polygon fill=\"#181818\" points=\"310.76,93.23,303.7736,95.0162,302.7353,102.1522,309.7217,100.366,310.76,93.23\" style=\"stroke:#181818;stroke-width:1.0;\"/><text fill=\"#000000\" font-family=\"sans-serif\" font-size=\"13\" lengthAdjust=\"spacing\" textLength=\"7\" x=\"254.6959\" y=\"142.2344\">1</text></a></g><!--MD5=[c6fc7cdb0cabde04948078cf183fa696]\n",
       "reverse link E4 to E8--><g id=\"link_E4_E8\"><a href=\"psysml:61f5ae98-52f8-494a-8a30-0f794cbc5af2\" target=\"_top\" title=\"psysml:61f5ae98-52f8-494a-8a30-0f794cbc5af2\" xlink:actuate=\"onRequest\" xlink:href=\"psysml:61f5ae98-52f8-494a-8a30-0f794cbc5af2\" xlink:show=\"new\" xlink:title=\"psysml:61f5ae98-52f8-494a-8a30-0f794cbc5af2\" xlink:type=\"simple\"><path d=\"M333,106.63 C333,121.97 333,139.22 333,152.86 \" fill=\"none\" id=\"E4-backto-E8\" style=\"stroke:#181818;stroke-width:1.0;\"/><polygon fill=\"#181818\" points=\"333,93.23,329,99.23,333,105.23,337,99.23,333,93.23\" style=\"stroke:#181818;stroke-width:1.0;\"/><text fill=\"#000000\" font-family=\"sans-serif\" font-size=\"13\" lengthAdjust=\"spacing\" textLength=\"7\" x=\"325.1469\" y=\"142.2344\">1</text></a></g><!--MD5=[e7ea4bd30698dc91ca0c06b9d8e4f891]\n",
       "reverse link E4 to E9--><g id=\"link_E4_E9\"><a href=\"psysml:bf398922-2a56-4e85-87b8-dca684d72daf\" target=\"_top\" title=\"psysml:bf398922-2a56-4e85-87b8-dca684d72daf\" xlink:actuate=\"onRequest\" xlink:href=\"psysml:bf398922-2a56-4e85-87b8-dca684d72daf\" xlink:show=\"new\" xlink:title=\"psysml:bf398922-2a56-4e85-87b8-dca684d72daf\" xlink:type=\"simple\"><path d=\"M365.2,102.91 C380.38,119.13 398.14,138.11 411.95,152.86 \" fill=\"none\" id=\"E4-backto-E9\" style=\"stroke:#181818;stroke-width:1.0;\"/><polygon fill=\"#181818\" points=\"356.15,93.23,357.3269,100.3444,364.3468,101.9943,363.1698,94.8799,356.15,93.23\" style=\"stroke:#181818;stroke-width:1.0;\"/><text fill=\"#000000\" font-family=\"sans-serif\" font-size=\"13\" lengthAdjust=\"spacing\" textLength=\"7\" x=\"398.4784\" y=\"142.2344\">1</text></a></g><!--MD5=[f119e7f268ff8fee167b0c2c9936af30]\n",
       "reverse link E4 to E10--><g id=\"link_E4_E10\"><a href=\"psysml:89f1d072-420a-4fb5-b096-2f47932c2407\" target=\"_top\" title=\"psysml:89f1d072-420a-4fb5-b096-2f47932c2407\" xlink:actuate=\"onRequest\" xlink:href=\"psysml:89f1d072-420a-4fb5-b096-2f47932c2407\" xlink:show=\"new\" xlink:title=\"psysml:89f1d072-420a-4fb5-b096-2f47932c2407\" xlink:type=\"simple\"><path d=\"M378.97,89.82 C418.05,107.95 474.16,133.98 515.1,152.96 \" fill=\"none\" id=\"E4-backto-E10\" style=\"stroke:#181818;stroke-width:1.0;\"/><polygon fill=\"#181818\" points=\"367.17,84.35,370.9307,90.5028,378.0566,89.3979,374.2959,83.2451,367.17,84.35\" style=\"stroke:#181818;stroke-width:1.0;\"/><text fill=\"#000000\" font-family=\"sans-serif\" font-size=\"13\" lengthAdjust=\"spacing\" textLength=\"7\" x=\"493.6475\" y=\"141.9436\">2</text></a></g><!--MD5=[feeac5eb423634930294aa81f2d25a4c]\n",
       "link E10 to E3--><g id=\"link_E10_E3\"><a href=\"psysml:f576691c-251d-4dd6-b84a-fb4909c39f51\" target=\"_top\" title=\"psysml:f576691c-251d-4dd6-b84a-fb4909c39f51\" xlink:actuate=\"onRequest\" xlink:href=\"psysml:f576691c-251d-4dd6-b84a-fb4909c39f51\" xlink:show=\"new\" xlink:title=\"psysml:f576691c-251d-4dd6-b84a-fb4909c39f51\" xlink:type=\"simple\"><path d=\"M578.78,204.34 C583.74,215.77 589.96,230.11 596.49,245.14 \" fill=\"none\" id=\"E10-to-E3\" style=\"stroke:#181818;stroke-width:1.0;\"/><polygon fill=\"#FFFFFF\" points=\"604.52,263.66,590.5272,249.0244,603.3671,243.4444,604.52,263.66\" style=\"stroke:#181818;stroke-width:1.0;\"/><ellipse cx=\"590.0896\" cy=\"242.9995\" fill=\"#181818\" rx=\"2\" ry=\"2\" style=\"stroke:#181818;stroke-width:1.0;\"/><ellipse cx=\"599.261\" cy=\"239.0138\" fill=\"#181818\" rx=\"2\" ry=\"2\" style=\"stroke:#181818;stroke-width:1.0;\"/></a></g><!--MD5=[593b807a8aafaab39af1c25ada4edf41]\n",
       "reverse link E4 to E11--><g id=\"link_E4_E11\"><a href=\"psysml:91a174df-c9ea-4b11-9a92-d5fa378ea239\" target=\"_top\" title=\"psysml:91a174df-c9ea-4b11-9a92-d5fa378ea239\" xlink:actuate=\"onRequest\" xlink:href=\"psysml:91a174df-c9ea-4b11-9a92-d5fa378ea239\" xlink:show=\"new\" xlink:title=\"psysml:91a174df-c9ea-4b11-9a92-d5fa378ea239\" xlink:type=\"simple\"><path d=\"M380.3,80.59 C442.53,96.6 555.22,125.97 651,153 C656.72,154.61 662.65,156.32 668.6,158.05 \" fill=\"none\" id=\"E4-backto-E11\" style=\"stroke:#181818;stroke-width:1.0;\"/><polygon fill=\"#181818\" points=\"367.45,77.28,372.2694,82.6441,379.0745,80.2586,374.2551,74.8945,367.45,77.28\" style=\"stroke:#181818;stroke-width:1.0;\"/><text fill=\"#000000\" font-family=\"sans-serif\" font-size=\"13\" lengthAdjust=\"spacing\" textLength=\"7\" x=\"654.1734\" y=\"152.4689\">2</text></a></g><!--MD5=[0517f1ce58c4d5483948f93845c45e26]\n",
       "link E11 to E3--><g id=\"link_E11_E3\"><a href=\"psysml:721a4747-10bb-48bf-83e7-fb3ae246e272\" target=\"_top\" title=\"psysml:721a4747-10bb-48bf-83e7-fb3ae246e272\" xlink:actuate=\"onRequest\" xlink:href=\"psysml:721a4747-10bb-48bf-83e7-fb3ae246e272\" xlink:show=\"new\" xlink:title=\"psysml:721a4747-10bb-48bf-83e7-fb3ae246e272\" xlink:type=\"simple\"><path d=\"M718,204.34 C710.95,216.02 702.06,230.75 692.77,246.13 \" fill=\"none\" id=\"E11-to-E3\" style=\"stroke:#181818;stroke-width:1.0;\"/><polygon fill=\"#FFFFFF\" points=\"682.19,263.66,686.0068,243.7745,697.9958,251.0039,682.19,263.66\" style=\"stroke:#181818;stroke-width:1.0;\"/><ellipse cx=\"690.6629\" cy=\"239.9261\" fill=\"#181818\" rx=\"2\" ry=\"2\" style=\"stroke:#181818;stroke-width:1.0;\"/><ellipse cx=\"699.2265\" cy=\"245.0899\" fill=\"#181818\" rx=\"2\" ry=\"2\" style=\"stroke:#181818;stroke-width:1.0;\"/></a></g><!--MD5=[623af539106294f4e551d9b56675db76]\n",
       "@startuml\r\n",
       "skin sysmlbw\r\n",
       "skinparam monochrome true\r\n",
       "skinparam wrapWidth 300\r\n",
       "hide circle\r\n",
       "\r\n",
       "package \"eVehicle_LogicalArchitecture\" as E1  [[psysml:df28a423-25cd-46fa-910a-af8f3e07b4b8 ]]  {\r\n",
       "comp def \"WheelSize\" as E2  <<(T,blue) attribute  def>> [[psysml:0d0e7c9b-98b1-4aa9-b33b-f27e17d73546 ]] {\r\n",
       "}\r\n",
       "comp def \"Wheel\" as E3  <<(T,blue) part  def>> [[psysml:664bfdc6-af4c-4db6-ba7e-8548a444b04d ]] {\r\n",
       "##//attributes//##\r\n",
       "name: String :<U+003D>\"BigWheel\"\r\n",
       "sizeOfWheel: WheelSize\r\n",
       "- -\r\n",
       "##//references//##\r\n",
       "radius <U+003D> sizeOfWheel.size\\n//:>>CircularCylinder::radius// \r\n",
       "}\r\n",
       "comp usage \"eVehicle  \" as E4  <<(T,blue) part>> [[psysml:2d7bcd2f-a4e7-42fd-a2ca-a4ee4671c952 ]] {\r\n",
       "}\r\n",
       "comp usage \"body  \" as E5  <<(T,blue) part>> [[psysml:44a01409-a7a8-4ac8-9435-9dae2193c6f7 ]] {\r\n",
       "}\r\n",
       "comp usage \"battery  \" as E6  <<(T,blue) part>> [[psysml:86dce7a1-aab6-40b9-b0d3-a1a02274327b ]] {\r\n",
       "}\r\n",
       "comp usage \"engine  \" as E7  <<(T,blue) part>> [[psysml:a840c61b-7eb2-421b-a980-3fe60ea995a5 ]] {\r\n",
       "}\r\n",
       "comp usage \"frontAxis  \" as E8  <<(T,blue) part>> [[psysml:b82c3ae6-9137-44af-a7b9-859eca59f268 ]] {\r\n",
       "}\r\n",
       "comp usage \"rearAxis  \" as E9  <<(T,blue) part>> [[psysml:1c453237-88d0-4b14-82d2-0f9db6e07308 ]] {\r\n",
       "}\r\n",
       "comp usage \"frontWheel: Wheel  \" as E10  <<(T,blue) part>> [[psysml:7ce811af-3798-459d-98e6-ab162622c589 ]] {\r\n",
       "}\r\n",
       "comp usage \"rearWheel: Wheel  \" as E11  <<(T,blue) part>> [[psysml:423080d0-d9d7-4f11-82c0-1923383911dc ]] {\r\n",
       "}\r\n",
       "}\r\n",
       "E4 *- - \"1\"E5 [[psysml:1e0a6f58-4d78-456f-b24c-5192769e990d ]] \r\n",
       "E4 *- - \"1\"E6 [[psysml:89798c5a-4688-4268-bb38-8f2b5509223f ]] \r\n",
       "E4 *- - \"1\"E7 [[psysml:3f24605c-036d-46be-b070-766f1be39bb3 ]] \r\n",
       "E4 *- - \"1\"E8 [[psysml:61f5ae98-52f8-494a-8a30-0f794cbc5af2 ]] \r\n",
       "E4 *- - \"1\"E9 [[psysml:bf398922-2a56-4e85-87b8-dca684d72daf ]] \r\n",
       "E4 *- - \"2\"E10 [[psysml:89f1d072-420a-4fb5-b096-2f47932c2407 ]] \r\n",
       "E10 - -:|> E3 [[psysml:f576691c-251d-4dd6-b84a-fb4909c39f51 ]] \r\n",
       "E4 *- - \"2\"E11 [[psysml:91a174df-c9ea-4b11-9a92-d5fa378ea239 ]] \r\n",
       "E11 - -:|> E3 [[psysml:721a4747-10bb-48bf-83e7-fb3ae246e272 ]] \r\n",
       "@enduml\r\n",
       "\n",
       "PlantUML version 1.2022.7(Mon Aug 22 12:01:30 CDT 2022)\n",
       "(EPL source distribution)\n",
       "Java Runtime: OpenJDK Runtime Environment\n",
       "JVM: OpenJDK 64-Bit Server VM\n",
       "Default Encoding: UTF-8\n",
       "Language: en\n",
       "Country: US\n",
       "--></g></svg>"
      ]
     },
     "execution_count": 35,
     "metadata": {},
     "output_type": "execute_result"
    }
   ],
   "source": [
    "%viz eVehicle_LogicalArchitecture"
   ]
  },
  {
   "cell_type": "markdown",
   "metadata": {
    "kernel": "SoS"
   },
   "source": [
    "### When to use Parts and when to use PartDefinitions\n",
    "\n",
    "A simple rule of thumb could be: if you use a thing only once, model it as a part. If it is used multiple times or specializations of it, then model it as a part definition.\n",
    "\n",
    "Part definition is a classification of things, and parts are usages of part definitions. If you have only one engine in the model, then you can model it directly as a part. As described above, the part still has a part definition, which in this case is implicitly the general part definition *Part* from the system library."
   ]
  },
  {
   "cell_type": "markdown",
   "metadata": {
    "kernel": "SoS"
   },
   "source": [
    "## Specialization and Subsetting<a name=\"sysmlv2modspecialization\"></a>\n",
    "\n",
    "Specialization between definition elements is a subclassification relationship. For example, the FrontWheel part definition is a special kind of a Wheel part definition. Specialization between usage elements is a subsetting relationship. For example, the part frontLeftWheel is a subset of the part frontWheel.\n",
    "\n"
   ]
  },
  {
   "cell_type": "code",
   "execution_count": null,
   "metadata": {
    "kernel": "SoS"
   },
   "outputs": [],
   "source": [
    "package eVehicle_LogicalArchitecture {   \n",
    "\n",
    "    import SI::*;        \n",
    "    \n",
    "    attribute def WheelSize {\n",
    "        size : LengthValue;\n",
    "        deviation : LengthValue;        \n",
    "    }\n",
    "        \n",
    "    part def Wheel :> ShapeItems::CircularCylinder {\n",
    "        :>> radius = sizeOfWheel.size;\n",
    "        attribute sizeOfWheel : WheelSize {\n",
    "            :>> size := 325 [mm];\n",
    "            :>> deviation := 1 [mm];\n",
    "        }\n",
    "        \n",
    "        constraint pressureConstraint : WheelPressureConstraint {\n",
    "            in currentPressure = pressure;\n",
    "            in limitPressure = maxPressure;\n",
    "        }\n",
    "\n",
    "        attribute pressure : PressureValue;\n",
    "        attribute maxPressure : PressureValue;\n",
    "    }\n",
    "    \n",
    "    part def FrontWheel :> Wheel {\n",
    "        attribute redefines maxPressure = 200000 [Pa];\n",
    "    }\n",
    "    part def RearWheel :> Wheel {\n",
    "        attribute redefines maxPressure = 200000 [Pa];\n",
    "    }\n",
    "    \n",
    "    constraint def WheelPressureConstraint {\n",
    "        in currentPressure : PressureValue;\n",
    "        in limitPressure : PressureValue;\n",
    "        currentPressure <= limitPressure\n",
    "    }\n",
    "    \n",
    "    part eVehicle {\n",
    "        part body;\n",
    "        part battery;\n",
    "        part engine;\n",
    "        part frontAxis;\n",
    "        part rearAxis;\n",
    "        part frontWheel : FrontWheel[2];\n",
    "        part frontLeftWheel :> frontWheel {\n",
    "            redefines pressure = 100000 [Pa];\n",
    "        }\n",
    "        part frontRightWheel :> frontWheel {\n",
    "            redefines pressure = 100000 [Pa];\n",
    "        }\n",
    "\n",
    "        part rearWheel : RearWheel[2];\n",
    "        part rearLeftWheel :> rearWheel {\n",
    "            redefines pressure = 200000 [Pa];\n",
    "        }\n",
    "        part rearRightWheel :> rearWheel {\n",
    "            redefines pressure = 200000 [Pa];\n",
    "        }\n",
    "        \n",
    "    }\n",
    "}"
   ]
  },
  {
   "cell_type": "code",
   "execution_count": null,
   "metadata": {
    "kernel": "SoS"
   },
   "outputs": [],
   "source": [
    "%viz --view=tree eVehicle_LogicalArchitecture"
   ]
  },
  {
   "cell_type": "markdown",
   "metadata": {
    "kernel": "SoS"
   },
   "source": [
    "## Putting the parts together<a name=\"sysmlv2modconnect\"></a>\n",
    "\n",
    "By now the model only defines the breakdown structure of the vehicle. There is no definition yet of how the parts are connected. The next example model *eVehicle_LogicalArchitecture* connects the parts in a meaningful way.\n"
   ]
  },
  {
   "cell_type": "code",
   "execution_count": null,
   "metadata": {
    "kernel": "SoS"
   },
   "outputs": [],
   "source": [
    "package eVehicle_LogicalArchitecture {   \n",
    "\n",
    "    import SI::*;        \n",
    "    \n",
    "    attribute def WheelSize {\n",
    "        size : LengthValue;\n",
    "        deviation : LengthValue;        \n",
    "    }\n",
    "        \n",
    "    part def Wheel :> ShapeItems::CircularCylinder {\n",
    "        :>> radius = sizeOfWheel.size;\n",
    "        attribute sizeOfWheel : WheelSize {\n",
    "            :>> size := 325 [mm];\n",
    "            :>> deviation := 1 [mm];\n",
    "        }\n",
    "        \n",
    "        constraint pressureConstraint : WheelPressureConstraint {\n",
    "            in currentPressure = pressure;\n",
    "            in limitPressure = maxPressure;\n",
    "        }\n",
    "\n",
    "        attribute pressure : PressureValue;\n",
    "        attribute maxPressure : PressureValue;\n",
    "    }\n",
    "    \n",
    "    part def FrontWheel :> Wheel {\n",
    "        attribute redefines maxPressure = 200000 [Pa];\n",
    "    }\n",
    "    part def RearWheel :> Wheel {\n",
    "        attribute redefines maxPressure = 200000 [Pa];\n",
    "    }\n",
    "    \n",
    "    constraint def WheelPressureConstraint {\n",
    "        in currentPressure : PressureValue;\n",
    "        in limitPressure : PressureValue;\n",
    "        currentPressure <= limitPressure\n",
    "    }\n",
    "    \n",
    "    part eVehicle {\n",
    "        part body;\n",
    "        part battery;\n",
    "        part engine;\n",
    "        part frontAxis;\n",
    "        part rearAxis;\n",
    "        part frontWheel : FrontWheel[2];\n",
    "        part frontLeftWheel :> frontWheel {\n",
    "            redefines pressure = 100000 [Pa];\n",
    "        }\n",
    "        part frontRightWheel :> frontWheel {\n",
    "            redefines pressure = 100000 [Pa];\n",
    "        }\n",
    "\n",
    "        part rearWheel : RearWheel[2];\n",
    "        part rearLeftWheel :> rearWheel {\n",
    "            redefines pressure = 200000 [Pa];\n",
    "        }\n",
    "        part rearRightWheel :> rearWheel {\n",
    "            redefines pressure = 200000 [Pa];\n",
    "        }\n",
    "              \n",
    "        connect battery to engine;\n",
    "        connect engine to frontAxis;\n",
    "        connect frontAxis to frontWheel;\n",
    "        connect rearAxis to rearWheel;\n",
    "        connect body to battery;\n",
    "        connect body to engine;\n",
    "        connect body to frontAxis;\n",
    "        connect body to rearAxis;\n",
    "    }\n",
    "}"
   ]
  },
  {
   "cell_type": "code",
   "execution_count": null,
   "metadata": {
    "kernel": "SoS"
   },
   "outputs": [],
   "source": [
    "%viz --view=interconnection eVehicle_LogicalArchitecture::eVehicle"
   ]
  },
  {
   "cell_type": "markdown",
   "metadata": {
    "kernel": "SoS"
   },
   "source": [
    "## Modeling interfaces<a name=\"sysmlv2modinterfaces\"></a>\n",
    "\n",
    "The interaction points are defined by ports in SysML v2, similar to SysML v1. The following extended example defines the interaction points between the engine and the battery. The connection is changed to connect the ports instead of the parts."
   ]
  },
  {
   "cell_type": "code",
   "execution_count": 5,
   "metadata": {
    "kernel": "SoS"
   },
   "outputs": [
    {
     "data": {
      "text/plain": [
       "Package eVehicle_LogicalArchitecture (1ce29116-d0d5-4b70-84e1-55caebaef457)\n"
      ]
     },
     "execution_count": 5,
     "metadata": {},
     "output_type": "execute_result"
    }
   ],
   "source": [
    "package eVehicle_LogicalArchitecture {   \n",
    "\n",
    "    import SI::*;        \n",
    "    \n",
    "    attribute def WheelSize {\n",
    "        size : LengthValue;\n",
    "        deviation : LengthValue;        \n",
    "    }\n",
    "        \n",
    "    part def Wheel :> ShapeItems::CircularCylinder {\n",
    "        :>> radius = sizeOfWheel.size;\n",
    "        attribute sizeOfWheel : WheelSize {\n",
    "            :>> size := 325 [mm];\n",
    "            :>> deviation := 1 [mm];\n",
    "        }\n",
    "        \n",
    "        constraint pressureConstraint : WheelPressureConstraint {\n",
    "            in currentPressure = pressure;\n",
    "            in limitPressure = maxPressure;\n",
    "        }\n",
    "\n",
    "        attribute pressure : PressureValue;\n",
    "        attribute maxPressure : PressureValue;\n",
    "    }\n",
    "    \n",
    "    part def FrontWheel :> Wheel {\n",
    "        attribute redefines maxPressure = 200000 [Pa];\n",
    "    }\n",
    "    part def RearWheel :> Wheel {\n",
    "        attribute redefines maxPressure = 200000 [Pa];\n",
    "    }\n",
    "    \n",
    "    constraint def WheelPressureConstraint {\n",
    "        in currentPressure : PressureValue;\n",
    "        in limitPressure : PressureValue;\n",
    "        currentPressure <= limitPressure\n",
    "    }\n",
    "    \n",
    "    part eVehicle {\n",
    "        part body;\n",
    "        part battery {\n",
    "            port powerOut;\n",
    "        }\n",
    "        part engine {\n",
    "            port powerIn;\n",
    "        }\n",
    "        part frontAxis;\n",
    "        part rearAxis;\n",
    "        part frontWheel : FrontWheel[2];\n",
    "        part frontLeftWheel :> frontWheel {\n",
    "            redefines pressure = 100000 [Pa];\n",
    "        }\n",
    "        part frontRightWheel :> frontWheel {\n",
    "            redefines pressure = 100000 [Pa];\n",
    "        }\n",
    "\n",
    "        part rearWheel : RearWheel[2];\n",
    "        part rearLeftWheel :> rearWheel {\n",
    "            redefines pressure = 200000 [Pa];\n",
    "        }\n",
    "        part rearRightWheel :> rearWheel {\n",
    "            redefines pressure = 200000 [Pa];\n",
    "        }\n",
    "              \n",
    "        connect battery.powerOut to engine.powerIn;\n",
    "        connect engine to frontAxis;\n",
    "        connect frontAxis to frontWheel;\n",
    "        connect rearAxis to rearWheel;\n",
    "        connect body to battery;\n",
    "        connect body to engine;\n",
    "        connect body to frontAxis;\n",
    "        connect body to rearAxis;\n",
    "    }\n",
    "}"
   ]
  },
  {
   "cell_type": "code",
   "execution_count": 2,
   "metadata": {
    "kernel": "SoS"
   },
   "outputs": [
    {
     "data": {
      "image/svg+xml": [
       "<?xml version=\"1.0\" encoding=\"UTF-8\" standalone=\"no\"?><svg xmlns=\"http://www.w3.org/2000/svg\" xmlns:xlink=\"http://www.w3.org/1999/xlink\" contentStyleType=\"text/css\" height=\"685px\" preserveAspectRatio=\"none\" style=\"width:950px;height:685px;background:#FFFFFF;\" version=\"1.1\" viewBox=\"0 0 950 685\" width=\"950px\" zoomAndPan=\"magnify\"><defs/><g><!--MD5=[fbc87193dbaf4d95561dea2c320d4a47]\n",
       "cluster E1--><g id=\"cluster_E1\"><a href=\"psysml:01bdbbde-89e3-47df-8809-5ee419d60daf\" target=\"_top\" title=\"psysml:01bdbbde-89e3-47df-8809-5ee419d60daf\" xlink:actuate=\"onRequest\" xlink:href=\"psysml:01bdbbde-89e3-47df-8809-5ee419d60daf\" xlink:show=\"new\" xlink:title=\"psysml:01bdbbde-89e3-47df-8809-5ee419d60daf\" xlink:type=\"simple\"><rect fill=\"#FFFFFF\" height=\"672\" id=\"E1\" rx=\"10\" ry=\"10\" style=\"stroke:#383838;stroke-width:1.5;\" width=\"936\" x=\"7\" y=\"7\"/><text fill=\"#000000\" font-family=\"sans-serif\" font-size=\"14\" lengthAdjust=\"spacing\" textLength=\"54\" x=\"448\" y=\"26.5332\">eVehicle</text><line style=\"stroke:#383838;stroke-width:1.0;\" x1=\"7\" x2=\"943\" y1=\"34.6094\" y2=\"34.6094\"/></a></g><!--MD5=[d5e69f78d87373223dbae638b30a9c99]\n",
       "cluster E3--><g id=\"cluster_E3\"><a href=\"psysml:6276ae36-131d-4969-889f-50338a4bd033\" target=\"_top\" title=\"psysml:6276ae36-131d-4969-889f-50338a4bd033\" xlink:actuate=\"onRequest\" xlink:href=\"psysml:6276ae36-131d-4969-889f-50338a4bd033\" xlink:show=\"new\" xlink:title=\"psysml:6276ae36-131d-4969-889f-50338a4bd033\" xlink:type=\"simple\"><rect fill=\"#FFFFFF\" height=\"167.5\" id=\"E3\" rx=\"10\" ry=\"10\" style=\"stroke:#383838;stroke-width:1.5;\" width=\"107\" x=\"31\" y=\"146.5\"/><text fill=\"#000000\" font-family=\"sans-serif\" font-size=\"14\" lengthAdjust=\"spacing\" textLength=\"44\" x=\"62.5\" y=\"166.0332\">battery</text><line style=\"stroke:#383838;stroke-width:1.0;\" x1=\"31\" x2=\"138\" y1=\"174.1094\" y2=\"174.1094\"/></a></g><!--MD5=[de5ec2e2e8f62f467e546659f5068c88]\n",
       "cluster E5--><g id=\"cluster_E5\"><a href=\"psysml:52da6019-23f9-4135-9438-e52c276449d0\" target=\"_top\" title=\"psysml:52da6019-23f9-4135-9438-e52c276449d0\" xlink:actuate=\"onRequest\" xlink:href=\"psysml:52da6019-23f9-4135-9438-e52c276449d0\" xlink:show=\"new\" xlink:title=\"psysml:52da6019-23f9-4135-9438-e52c276449d0\" xlink:type=\"simple\"><rect fill=\"#FFFFFF\" height=\"74\" id=\"E5\" rx=\"10\" ry=\"10\" style=\"stroke:#383838;stroke-width:1.5;\" width=\"80\" x=\"102\" y=\"366\"/><text fill=\"#000000\" font-family=\"sans-serif\" font-size=\"14\" lengthAdjust=\"spacing\" textLength=\"43\" x=\"120.5\" y=\"385.5332\">engine</text><line style=\"stroke:#383838;stroke-width:1.0;\" x1=\"102\" x2=\"182\" y1=\"393.6094\" y2=\"393.6094\"/></a></g><!--MD5=[a84b4591f868c1fa4a211716a82f2f0d]\n",
       "cluster E10--><g id=\"cluster_E10\"><a href=\"psysml:55446519-5358-4a06-84c9-9e7f47721ab6\" target=\"_top\" title=\"psysml:55446519-5358-4a06-84c9-9e7f47721ab6\" xlink:actuate=\"onRequest\" xlink:href=\"psysml:55446519-5358-4a06-84c9-9e7f47721ab6\" xlink:show=\"new\" xlink:title=\"psysml:55446519-5358-4a06-84c9-9e7f47721ab6\" xlink:type=\"simple\"><rect fill=\"#FFFFFF\" height=\"127\" id=\"E10\" rx=\"10\" ry=\"10\" style=\"stroke:#383838;stroke-width:1.5;\" width=\"280\" x=\"549\" y=\"472\"/><text fill=\"#000000\" font-family=\"sans-serif\" font-size=\"14\" lengthAdjust=\"spacing\" textLength=\"236\" x=\"571\" y=\"491.5332\">frontLeftWheel:&gt;eVehicle::frontWheel</text><line style=\"stroke:#383838;stroke-width:1.0;\" x1=\"549\" x2=\"829\" y1=\"499.6094\" y2=\"499.6094\"/></a></g><!--MD5=[47bea60c1a0ac6c1143df232041969c0]\n",
       "cluster E12--><g id=\"cluster_E12\"><a href=\"psysml:873d5a75-2278-46e8-a8bc-cfe67a584417\" target=\"_top\" title=\"psysml:873d5a75-2278-46e8-a8bc-cfe67a584417\" xlink:actuate=\"onRequest\" xlink:href=\"psysml:873d5a75-2278-46e8-a8bc-cfe67a584417\" xlink:show=\"new\" xlink:title=\"psysml:873d5a75-2278-46e8-a8bc-cfe67a584417\" xlink:type=\"simple\"><rect fill=\"#FFFFFF\" height=\"127\" id=\"E12\" rx=\"10\" ry=\"10\" style=\"stroke:#383838;stroke-width:1.5;\" width=\"290\" x=\"219\" y=\"472\"/><text fill=\"#000000\" font-family=\"sans-serif\" font-size=\"14\" lengthAdjust=\"spacing\" textLength=\"245\" x=\"241.5\" y=\"491.5332\">frontRightWheel:&gt;eVehicle::frontWheel</text><line style=\"stroke:#383838;stroke-width:1.0;\" x1=\"219\" x2=\"509\" y1=\"499.6094\" y2=\"499.6094\"/></a></g><!--MD5=[ab3548ab6224ff035c4047a4d30b7567]\n",
       "cluster E15--><g id=\"cluster_E15\"><a href=\"psysml:adebbda7-e295-4ce6-8bd9-52af9235419d\" target=\"_top\" title=\"psysml:adebbda7-e295-4ce6-8bd9-52af9235419d\" xlink:actuate=\"onRequest\" xlink:href=\"psysml:adebbda7-e295-4ce6-8bd9-52af9235419d\" xlink:show=\"new\" xlink:title=\"psysml:adebbda7-e295-4ce6-8bd9-52af9235419d\" xlink:type=\"simple\"><rect fill=\"#FFFFFF\" height=\"127\" id=\"E15\" rx=\"10\" ry=\"10\" style=\"stroke:#383838;stroke-width:1.5;\" width=\"270\" x=\"641\" y=\"107\"/><text fill=\"#000000\" font-family=\"sans-serif\" font-size=\"14\" lengthAdjust=\"spacing\" textLength=\"230\" x=\"661\" y=\"126.5332\">rearLeftWheel:&gt;eVehicle::rearWheel</text><line style=\"stroke:#383838;stroke-width:1.0;\" x1=\"641\" x2=\"911\" y1=\"134.6094\" y2=\"134.6094\"/></a></g><!--MD5=[3e4be939245ddbd2da6080b60acb37a8]\n",
       "cluster E17--><g id=\"cluster_E17\"><a href=\"psysml:245fcf05-a255-440a-afa0-ab348bdc3332\" target=\"_top\" title=\"psysml:245fcf05-a255-440a-afa0-ab348bdc3332\" xlink:actuate=\"onRequest\" xlink:href=\"psysml:245fcf05-a255-440a-afa0-ab348bdc3332\" xlink:show=\"new\" xlink:title=\"psysml:245fcf05-a255-440a-afa0-ab348bdc3332\" xlink:type=\"simple\"><rect fill=\"#FFFFFF\" height=\"127\" id=\"E17\" rx=\"10\" ry=\"10\" style=\"stroke:#383838;stroke-width:1.5;\" width=\"280\" x=\"321\" y=\"107\"/><text fill=\"#000000\" font-family=\"sans-serif\" font-size=\"14\" lengthAdjust=\"spacing\" textLength=\"239\" x=\"341.5\" y=\"126.5332\">rearRightWheel:&gt;eVehicle::rearWheel</text><line style=\"stroke:#383838;stroke-width:1.0;\" x1=\"321\" x2=\"601\" y1=\"134.6094\" y2=\"134.6094\"/></a></g><g><a href=\"psysml:1bca761f-4b85-4abd-89f0-e774abd979d6\" target=\"_top\" title=\"psysml:1bca761f-4b85-4abd-89f0-e774abd979d6\" xlink:actuate=\"onRequest\" xlink:href=\"psysml:1bca761f-4b85-4abd-89f0-e774abd979d6\" xlink:show=\"new\" xlink:title=\"psysml:1bca761f-4b85-4abd-89f0-e774abd979d6\" xlink:type=\"simple\"><rect fill=\"#FFFFFF\" height=\"40\" id=\"E2\" rx=\"10\" ry=\"10\" style=\"stroke:#383838;stroke-width:1.5;\" width=\"50\" x=\"155\" y=\"43\"/><text fill=\"#000000\" font-family=\"sans-serif\" font-size=\"14\" lengthAdjust=\"spacing\" textLength=\"31\" x=\"164.5\" y=\"62.5332\">body</text></a></g><text fill=\"#000000\" font-family=\"sans-serif\" font-size=\"14\" lengthAdjust=\"spacing\" textLength=\"61\" x=\"85.5\" y=\"334.5332\">powerOut</text><rect fill=\"#FFFFFF\" height=\"12\" style=\"stroke:#181818;stroke-width:1.5;\" width=\"12\" x=\"114\" y=\"308\"/><text fill=\"#000000\" font-family=\"sans-serif\" font-size=\"14\" lengthAdjust=\"spacing\" textLength=\"49\" x=\"91.5\" y=\"344.9238\">powerIn</text><rect fill=\"#FFFFFF\" height=\"12\" style=\"stroke:#181818;stroke-width:1.5;\" width=\"12\" x=\"114\" y=\"360\"/><g><a href=\"psysml:e37fef59-9d21-4052-a30d-49ef8723b649\" target=\"_top\" title=\"psysml:e37fef59-9d21-4052-a30d-49ef8723b649\" xlink:actuate=\"onRequest\" xlink:href=\"psysml:e37fef59-9d21-4052-a30d-49ef8723b649\" xlink:show=\"new\" xlink:title=\"psysml:e37fef59-9d21-4052-a30d-49ef8723b649\" xlink:type=\"simple\"><rect fill=\"#FFFFFF\" height=\"40\" id=\"E7\" rx=\"10\" ry=\"10\" style=\"stroke:#383838;stroke-width:1.5;\" width=\"65\" x=\"129.5\" y=\"525.5\"/><text fill=\"#000000\" font-family=\"sans-serif\" font-size=\"14\" lengthAdjust=\"spacing\" textLength=\"54\" x=\"135\" y=\"545.0332\">frontAxis</text></a></g><g><a href=\"psysml:66876509-5758-44f1-96ed-51fe54b6f246\" target=\"_top\" title=\"psysml:66876509-5758-44f1-96ed-51fe54b6f246\" xlink:actuate=\"onRequest\" xlink:href=\"psysml:66876509-5758-44f1-96ed-51fe54b6f246\" xlink:show=\"new\" xlink:title=\"psysml:66876509-5758-44f1-96ed-51fe54b6f246\" xlink:type=\"simple\"><rect fill=\"#FFFFFF\" height=\"40\" id=\"E8\" rx=\"10\" ry=\"10\" style=\"stroke:#383838;stroke-width:1.5;\" width=\"62\" x=\"235\" y=\"160.5\"/><text fill=\"#000000\" font-family=\"sans-serif\" font-size=\"14\" lengthAdjust=\"spacing\" textLength=\"51\" x=\"240.5\" y=\"180.0332\">rearAxis</text></a></g><g><a href=\"psysml:311f8436-0aa0-4dcd-a7af-aba05aec6d7f\" target=\"_top\" title=\"psysml:311f8436-0aa0-4dcd-a7af-aba05aec6d7f\" xlink:actuate=\"onRequest\" xlink:href=\"psysml:311f8436-0aa0-4dcd-a7af-aba05aec6d7f\" xlink:show=\"new\" xlink:title=\"psysml:311f8436-0aa0-4dcd-a7af-aba05aec6d7f\" xlink:type=\"simple\"><rect fill=\"#FFFFFF\" height=\"40\" id=\"E9\" rx=\"10\" ry=\"10\" style=\"stroke:#383838;stroke-width:1.5;\" width=\"162\" x=\"224\" y=\"623\"/><text fill=\"#000000\" font-family=\"sans-serif\" font-size=\"14\" lengthAdjust=\"spacing\" textLength=\"151\" x=\"229.5\" y=\"642.5332\">frontWheel: FrontWheel</text></a></g><!--MD5=[1dd1bfd58a279cf63c5f349dbc8fc6a1]\n",
       "class E11--><a href=\"psysml:ed6607f6-910a-4518-9382-5baafd4ba17c\" target=\"_top\" title=\"psysml:ed6607f6-910a-4518-9382-5baafd4ba17c\" xlink:actuate=\"onRequest\" xlink:href=\"psysml:ed6607f6-910a-4518-9382-5baafd4ba17c\" xlink:show=\"new\" xlink:title=\"psysml:ed6607f6-910a-4518-9382-5baafd4ba17c\" xlink:type=\"simple\"><g id=\"elem_E11\"><rect fill=\"#FFFFFF\" height=\"58.7031\" id=\"E11\" rx=\"10\" ry=\"10\" style=\"stroke:#181818;stroke-width:0.5;\" width=\"70\" x=\"663\" y=\"516\"/><text fill=\"#000000\" font-family=\"sans-serif\" font-size=\"12\" font-style=\"italic\" lengthAdjust=\"spacing\" textLength=\"66\" x=\"665\" y=\"533.457\">«reference»</text><text fill=\"#000000\" font-family=\"sans-serif\" font-size=\"14\" lengthAdjust=\"spacing\" textLength=\"56\" x=\"666\" y=\"550.627\">pressure</text><line style=\"stroke:#181818;stroke-width:0.5;\" x1=\"664\" x2=\"732\" y1=\"558.7031\" y2=\"558.7031\"/><line style=\"stroke:#181818;stroke-width:0.5;\" x1=\"664\" x2=\"732\" y1=\"566.7031\" y2=\"566.7031\"/></g></a><!--MD5=[ee3c913d1a06f366521f9ef512b67efe]\n",
       "class E13--><a href=\"psysml:873cab4e-d568-4c81-bde8-87d864f0cd6b\" target=\"_top\" title=\"psysml:873cab4e-d568-4c81-bde8-87d864f0cd6b\" xlink:actuate=\"onRequest\" xlink:href=\"psysml:873cab4e-d568-4c81-bde8-87d864f0cd6b\" xlink:show=\"new\" xlink:title=\"psysml:873cab4e-d568-4c81-bde8-87d864f0cd6b\" xlink:type=\"simple\"><g id=\"elem_E13\"><rect fill=\"#FFFFFF\" height=\"58.7031\" id=\"E13\" rx=\"10\" ry=\"10\" style=\"stroke:#181818;stroke-width:0.5;\" width=\"70\" x=\"377\" y=\"516\"/><text fill=\"#000000\" font-family=\"sans-serif\" font-size=\"12\" font-style=\"italic\" lengthAdjust=\"spacing\" textLength=\"66\" x=\"379\" y=\"533.457\">«reference»</text><text fill=\"#000000\" font-family=\"sans-serif\" font-size=\"14\" lengthAdjust=\"spacing\" textLength=\"56\" x=\"380\" y=\"550.627\">pressure</text><line style=\"stroke:#181818;stroke-width:0.5;\" x1=\"378\" x2=\"446\" y1=\"558.7031\" y2=\"558.7031\"/><line style=\"stroke:#181818;stroke-width:0.5;\" x1=\"378\" x2=\"446\" y1=\"566.7031\" y2=\"566.7031\"/></g></a><g><a href=\"psysml:83fef4c8-c172-4a2c-9ba5-f8cfe55b6ec9\" target=\"_top\" title=\"psysml:83fef4c8-c172-4a2c-9ba5-f8cfe55b6ec9\" xlink:actuate=\"onRequest\" xlink:href=\"psysml:83fef4c8-c172-4a2c-9ba5-f8cfe55b6ec9\" xlink:show=\"new\" xlink:title=\"psysml:83fef4c8-c172-4a2c-9ba5-f8cfe55b6ec9\" xlink:type=\"simple\"><rect fill=\"#FFFFFF\" height=\"40\" id=\"E14\" rx=\"10\" ry=\"10\" style=\"stroke:#383838;stroke-width:1.5;\" width=\"156\" x=\"324\" y=\"258\"/><text fill=\"#000000\" font-family=\"sans-serif\" font-size=\"14\" lengthAdjust=\"spacing\" textLength=\"145\" x=\"329.5\" y=\"277.5332\">rearWheel: RearWheel</text></a></g><!--MD5=[35f0587eaee8d5bb9a02e25b63afc23b]\n",
       "class E16--><a href=\"psysml:7e65433a-70eb-4866-b78a-6719a9c44094\" target=\"_top\" title=\"psysml:7e65433a-70eb-4866-b78a-6719a9c44094\" xlink:actuate=\"onRequest\" xlink:href=\"psysml:7e65433a-70eb-4866-b78a-6719a9c44094\" xlink:show=\"new\" xlink:title=\"psysml:7e65433a-70eb-4866-b78a-6719a9c44094\" xlink:type=\"simple\"><g id=\"elem_E16\"><rect fill=\"#FFFFFF\" height=\"58.7031\" id=\"E16\" rx=\"10\" ry=\"10\" style=\"stroke:#181818;stroke-width:0.5;\" width=\"70\" x=\"750\" y=\"151\"/><text fill=\"#000000\" font-family=\"sans-serif\" font-size=\"12\" font-style=\"italic\" lengthAdjust=\"spacing\" textLength=\"66\" x=\"752\" y=\"168.457\">«reference»</text><text fill=\"#000000\" font-family=\"sans-serif\" font-size=\"14\" lengthAdjust=\"spacing\" textLength=\"56\" x=\"753\" y=\"185.627\">pressure</text><line style=\"stroke:#181818;stroke-width:0.5;\" x1=\"751\" x2=\"819\" y1=\"193.7031\" y2=\"193.7031\"/><line style=\"stroke:#181818;stroke-width:0.5;\" x1=\"751\" x2=\"819\" y1=\"201.7031\" y2=\"201.7031\"/></g></a><!--MD5=[e3af68e2095dcd46cf4beab32f25c64b]\n",
       "class E18--><a href=\"psysml:df1b0e4e-e68a-4ccf-8bbb-455e224f3d72\" target=\"_top\" title=\"psysml:df1b0e4e-e68a-4ccf-8bbb-455e224f3d72\" xlink:actuate=\"onRequest\" xlink:href=\"psysml:df1b0e4e-e68a-4ccf-8bbb-455e224f3d72\" xlink:show=\"new\" xlink:title=\"psysml:df1b0e4e-e68a-4ccf-8bbb-455e224f3d72\" xlink:type=\"simple\"><g id=\"elem_E18\"><rect fill=\"#FFFFFF\" height=\"58.7031\" id=\"E18\" rx=\"10\" ry=\"10\" style=\"stroke:#181818;stroke-width:0.5;\" width=\"70\" x=\"472\" y=\"151\"/><text fill=\"#000000\" font-family=\"sans-serif\" font-size=\"12\" font-style=\"italic\" lengthAdjust=\"spacing\" textLength=\"66\" x=\"474\" y=\"168.457\">«reference»</text><text fill=\"#000000\" font-family=\"sans-serif\" font-size=\"14\" lengthAdjust=\"spacing\" textLength=\"56\" x=\"475\" y=\"185.627\">pressure</text><line style=\"stroke:#181818;stroke-width:0.5;\" x1=\"473\" x2=\"541\" y1=\"193.7031\" y2=\"193.7031\"/><line style=\"stroke:#181818;stroke-width:0.5;\" x1=\"473\" x2=\"541\" y1=\"201.7031\" y2=\"201.7031\"/></g></a><!--MD5=[8ec49671253aadf7ca733db3c87e82a8]\n",
       "link E10 to E9--><g id=\"link_E10_E9\"><a href=\"psysml:635a933b-4c10-4f25-aaa8-eb4ad3487fbf\" target=\"_top\" title=\"psysml:635a933b-4c10-4f25-aaa8-eb4ad3487fbf\" xlink:actuate=\"onRequest\" xlink:href=\"psysml:635a933b-4c10-4f25-aaa8-eb4ad3487fbf\" xlink:show=\"new\" xlink:title=\"psysml:635a933b-4c10-4f25-aaa8-eb4ad3487fbf\" xlink:type=\"simple\"><path d=\"M548.9673,554.4196 C548.8127,554.5668 548.6562,554.7156 548.4976,554.8661 C548.1805,555.1671 547.8555,555.4746 547.5227,555.7884 C542.1972,560.8094 534.8756,567.4388 526.1988,574.5875 C508.845,588.885 486.07,605.26 463,615 C445.21,622.51 425.45,627.93 406.11,631.85 \" fill=\"none\" id=\"E10-to-E9\" style=\"stroke:#181818;stroke-width:1.0;\"/><polygon fill=\"none\" points=\"407.11,638.78,386.19,635.41,404.65,625,407.11,638.78\" style=\"stroke:#181818;stroke-width:1.0;\"/></a></g><!--MD5=[f2753cb1bd7aa79f0ce96d07caab051d]\n",
       "link E12 to E9--><g id=\"link_E12_E9\"><a href=\"psysml:0c04494a-d858-4809-b43f-f0038d333324\" target=\"_top\" title=\"psysml:0c04494a-d858-4809-b43f-f0038d333324\" xlink:actuate=\"onRequest\" xlink:href=\"psysml:0c04494a-d858-4809-b43f-f0038d333324\" xlink:show=\"new\" xlink:title=\"psysml:0c04494a-d858-4809-b43f-f0038d333324\" xlink:type=\"simple\"><path d=\"M305,599.0924 C305,599.4961 305,599.8994 305,600.302 C305,601.1073 305,601.9103 305,602.71 \" fill=\"none\" id=\"E12-to-E9\" style=\"stroke:#181818;stroke-width:1.0;\"/><polygon fill=\"none\" points=\"312,602.75,305,622.75,298,602.75,312,602.75\" style=\"stroke:#181818;stroke-width:1.0;\"/></a></g><!--MD5=[4ce51ac6fa4cf5202df3859e2718f033]\n",
       "link E15 to E14--><g id=\"link_E15_E14\"><a href=\"psysml:4edc8e16-4297-43ca-bb2d-33ddc16d8b1f\" target=\"_top\" title=\"psysml:4edc8e16-4297-43ca-bb2d-33ddc16d8b1f\" xlink:actuate=\"onRequest\" xlink:href=\"psysml:4edc8e16-4297-43ca-bb2d-33ddc16d8b1f\" xlink:show=\"new\" xlink:title=\"psysml:4edc8e16-4297-43ca-bb2d-33ddc16d8b1f\" xlink:type=\"simple\"><path d=\"M640.8175,189.8674 C640.5123,190.1684 640.1994,190.476 639.8789,190.7898 C634.7516,195.8116 627.6956,202.4419 619.3163,209.5913 C602.5575,223.89 580.505,240.265 558,250 C539.93,257.82 519.76,263.37 500.08,267.32 \" fill=\"none\" id=\"E15-to-E14\" style=\"stroke:#181818;stroke-width:1.0;\"/><polygon fill=\"none\" points=\"501.17,274.24,480.26,270.82,498.74,260.45,501.17,274.24\" style=\"stroke:#181818;stroke-width:1.0;\"/></a></g><!--MD5=[4e45b01da529ce8f8f3d1849f2a5d2b9]\n",
       "link E17 to E14--><g id=\"link_E17_E14\"><a href=\"psysml:9d7e718f-c121-47c2-abf0-23f857509eb8\" target=\"_top\" title=\"psysml:9d7e718f-c121-47c2-abf0-23f857509eb8\" xlink:actuate=\"onRequest\" xlink:href=\"psysml:9d7e718f-c121-47c2-abf0-23f857509eb8\" xlink:show=\"new\" xlink:title=\"psysml:9d7e718f-c121-47c2-abf0-23f857509eb8\" xlink:type=\"simple\"><path d=\"M402,234.0924 C402,234.4961 402,234.8994 402,235.302 C402,236.1073 402,236.9103 402,237.71 \" fill=\"none\" id=\"E17-to-E14\" style=\"stroke:#181818;stroke-width:1.0;\"/><polygon fill=\"none\" points=\"409,237.75,402,257.75,395,237.75,409,237.75\" style=\"stroke:#181818;stroke-width:1.0;\"/></a></g><!--MD5=[79568f1e445c3877b6a54524624ccc7d]\n",
       "link E4 to E6--><g id=\"link_E4_E6\"><a href=\"psysml:b993fa3f-2fb2-47f7-8347-6e6da8bcf1f0\" target=\"_top\" title=\"psysml:b993fa3f-2fb2-47f7-8347-6e6da8bcf1f0\" xlink:actuate=\"onRequest\" xlink:href=\"psysml:b993fa3f-2fb2-47f7-8347-6e6da8bcf1f0\" xlink:show=\"new\" xlink:title=\"psysml:b993fa3f-2fb2-47f7-8347-6e6da8bcf1f0\" xlink:type=\"simple\"><path d=\"M120,320.35 C120,330.02 120,350.3 120,359.84 \" fill=\"none\" id=\"E4-E6\" style=\"stroke:#181818;stroke-width:3.0;\"/><text fill=\"#000000\" font-family=\"sans-serif\" font-size=\"13\" lengthAdjust=\"spacing\" textLength=\"5\" x=\"113.5313\" y=\"349.1194\">*</text></a></g><!--MD5=[3a9b96bfbf6b6ad89c494e81751bda47]\n",
       "link E5 to E7--><g id=\"link_E5_E7\"><a href=\"psysml:639077ad-18c1-4e9f-b342-2a252abf1104\" target=\"_top\" title=\"psysml:639077ad-18c1-4e9f-b342-2a252abf1104\" xlink:actuate=\"onRequest\" xlink:href=\"psysml:639077ad-18c1-4e9f-b342-2a252abf1104\" xlink:show=\"new\" xlink:title=\"psysml:639077ad-18c1-4e9f-b342-2a252abf1104\" xlink:type=\"simple\"><path d=\"M133.9725,440.336 C134.0109,440.4787 134.0494,440.6216 134.0879,440.7649 C134.165,441.0513 134.2423,441.3389 134.32,441.6275 C134.6306,442.7821 134.9458,443.9538 135.2652,445.1409 C135.9039,447.515 136.5591,449.9503 137.2266,452.4315 C138.5617,457.394 139.9463,462.5403 141.3475,467.7488 C146.9525,488.5825 152.825,510.41 156.87,525.44 \" fill=\"none\" id=\"E5-E7\" style=\"stroke:#181818;stroke-width:3.0;\"/><text fill=\"#000000\" font-family=\"sans-serif\" font-size=\"13\" lengthAdjust=\"spacing\" textLength=\"5\" x=\"149.6287\" y=\"514.7441\">*</text></a></g><!--MD5=[1c0b9414cc86e0744215edee6abd8926]\n",
       "link E7 to E9--><g id=\"link_E7_E9\"><a href=\"psysml:7a161d25-e1a5-4497-b609-be5d82e182ba\" target=\"_top\" title=\"psysml:7a161d25-e1a5-4497-b609-be5d82e182ba\" xlink:actuate=\"onRequest\" xlink:href=\"psysml:7a161d25-e1a5-4497-b609-be5d82e182ba\" xlink:show=\"new\" xlink:title=\"psysml:7a161d25-e1a5-4497-b609-be5d82e182ba\" xlink:type=\"simple\"><path d=\"M171.03,565.5 C179.34,581.01 193.08,602.35 211,615 C215.16,617.94 219.64,620.56 224.3,622.89 \" fill=\"none\" id=\"E7-E9\" style=\"stroke:#181818;stroke-width:3.0;\"/><text fill=\"#000000\" font-family=\"sans-serif\" font-size=\"13\" lengthAdjust=\"spacing\" textLength=\"5\" x=\"211.11\" y=\"617.6353\">*</text></a></g><!--MD5=[cb4c4caca70bc1425fa55f86eb092bec]\n",
       "link E8 to E14--><g id=\"link_E8_E14\"><a href=\"psysml:9d25987c-75ab-4e2f-8d21-7d4455f854ab\" target=\"_top\" title=\"psysml:9d25987c-75ab-4e2f-8d21-7d4455f854ab\" xlink:actuate=\"onRequest\" xlink:href=\"psysml:9d25987c-75ab-4e2f-8d21-7d4455f854ab\" xlink:show=\"new\" xlink:title=\"psysml:9d25987c-75ab-4e2f-8d21-7d4455f854ab\" xlink:type=\"simple\"><path d=\"M274.68,200.74 C282.58,216.18 295.66,237.3 313,250 C317.04,252.96 321.4,255.59 325.96,257.94 \" fill=\"none\" id=\"E8-E14\" style=\"stroke:#181818;stroke-width:3.0;\"/><text fill=\"#000000\" font-family=\"sans-serif\" font-size=\"13\" lengthAdjust=\"spacing\" textLength=\"5\" x=\"310.8971\" y=\"251.8625\">*</text></a></g><!--MD5=[2720a5a1f2c3fca2055b230370638851]\n",
       "link E2 to E3--><g id=\"link_E2_E3\"><a href=\"psysml:5bd62010-7b98-4065-816f-2d6c26ad11b8\" target=\"_top\" title=\"psysml:5bd62010-7b98-4065-816f-2d6c26ad11b8\" xlink:actuate=\"onRequest\" xlink:href=\"psysml:5bd62010-7b98-4065-816f-2d6c26ad11b8\" xlink:show=\"new\" xlink:title=\"psysml:5bd62010-7b98-4065-816f-2d6c26ad11b8\" xlink:type=\"simple\"><path d=\"M154.84,71.9 C144.51,76.19 133.09,82.4 125,91 C113.985,102.7 106.0175,118.155 100.365,132.8713 C98.9519,136.5503 97.6834,140.1832 96.5482,143.6997 C96.2644,144.5788 95.989,145.4507 95.7216,146.3142 \" fill=\"none\" id=\"E2-E3\" style=\"stroke:#181818;stroke-width:3.0;\"/><text fill=\"#000000\" font-family=\"sans-serif\" font-size=\"13\" lengthAdjust=\"spacing\" textLength=\"5\" x=\"84.62\" y=\"167.8051\">*</text></a></g><!--MD5=[dcad52bbbca2fe8adc741ce38b45dc12]\n",
       "link E2 to E5--><g id=\"link_E2_E5\"><a href=\"psysml:ca059b16-d2a2-4ea6-a7f2-8455ea367427\" target=\"_top\" title=\"psysml:ca059b16-d2a2-4ea6-a7f2-8455ea367427\" xlink:actuate=\"onRequest\" xlink:href=\"psysml:ca059b16-d2a2-4ea6-a7f2-8455ea367427\" xlink:show=\"new\" xlink:title=\"psysml:ca059b16-d2a2-4ea6-a7f2-8455ea367427\" xlink:type=\"simple\"><path d=\"M177.31,83.05 C172.28,120.24 162,205.19 162,277 C162,277 162,277 162,315 C162,327.715 163.3925,336.1825 163.4638,344.3625 C163.4994,348.4525 163.2047,352.4706 162.2405,356.9119 C161.7584,359.1325 161.1089,361.4589 160.2496,363.953 C160.0348,364.5765 159.8068,365.2105 159.5651,365.8559 \" fill=\"none\" id=\"E2-E5\" style=\"stroke:#181818;stroke-width:3.0;\"/><text fill=\"#000000\" font-family=\"sans-serif\" font-size=\"13\" lengthAdjust=\"spacing\" textLength=\"5\" x=\"132.654\" y=\"393.4748\">*</text></a></g><!--MD5=[e3d2a08a9c9236652057e8ed0cbc9b62]\n",
       "link E2 to E7--><g id=\"link_E2_E7\"><a href=\"psysml:c92f04f6-f93c-40f0-9a95-8252073b1de2\" target=\"_top\" title=\"psysml:c92f04f6-f93c-40f0-9a95-8252073b1de2\" xlink:actuate=\"onRequest\" xlink:href=\"psysml:c92f04f6-f93c-40f0-9a95-8252073b1de2\" xlink:show=\"new\" xlink:title=\"psysml:c92f04f6-f93c-40f0-9a95-8252073b1de2\" xlink:type=\"simple\"><path d=\"M182.84,83.04 C188.14,120.23 199,205.16 199,277 C199,277 199,277 199,367 C199,425.71 179.36,493.08 168.7,525.34 \" fill=\"none\" id=\"E2-E7\" style=\"stroke:#181818;stroke-width:3.0;\"/><text fill=\"#000000\" font-family=\"sans-serif\" font-size=\"13\" lengthAdjust=\"spacing\" textLength=\"5\" x=\"164.9337\" y=\"514.6148\">*</text></a></g><!--MD5=[b0060bfdb0500b904584095522b4da3c]\n",
       "link E2 to E8--><g id=\"link_E2_E8\"><a href=\"psysml:cb4119be-d784-48ef-9e76-10b4b0ebf106\" target=\"_top\" title=\"psysml:cb4119be-d784-48ef-9e76-10b4b0ebf106\" xlink:actuate=\"onRequest\" xlink:href=\"psysml:cb4119be-d784-48ef-9e76-10b4b0ebf106\" xlink:show=\"new\" xlink:title=\"psysml:cb4119be-d784-48ef-9e76-10b4b0ebf106\" xlink:type=\"simple\"><path d=\"M201.03,83.26 C203.47,85.79 205.85,88.4 208,91 C226.52,113.35 244.27,141.82 255.15,160.35 \" fill=\"none\" id=\"E2-E8\" style=\"stroke:#181818;stroke-width:3.0;\"/><text fill=\"#000000\" font-family=\"sans-serif\" font-size=\"13\" lengthAdjust=\"spacing\" textLength=\"5\" x=\"246.2284\" y=\"149.6277\">*</text></a></g><!--MD5=[80c594033e7142a58b9a9595d253d25d]\n",
       "@startuml\r\n",
       "skin sysmlbw\r\n",
       "skinparam monochrome true\r\n",
       "skinparam wrapWidth 300\r\n",
       "hide circle\r\n",
       "skinparam ranksep 10\r\n",
       "skinparam rectangle {\r\n",
       " backgroundColor<<block>> LightGreen\r\n",
       "}\r\n",
       "\r\n",
       "rec usage \"eVehicle\" as E1 [[psysml:01bdbbde-89e3-47df-8809-5ee419d60daf ]] {\r\n",
       "rec usage \"body\" as E2 [[psysml:1bca761f-4b85-4abd-89f0-e774abd979d6 ]] {\r\n",
       "}\r\n",
       "rec usage \"battery\" as E3 [[psysml:6276ae36-131d-4969-889f-50338a4bd033 ]] {\r\n",
       "portout \"powerOut  \" as E4  <<(T,blue) port>> [[psysml:286a6676-f3dd-45c4-b764-e62ee44cf3d2 ]] \r\n",
       "}\r\n",
       "rec usage \"engine\" as E5 [[psysml:52da6019-23f9-4135-9438-e52c276449d0 ]] {\r\n",
       "portin \"powerIn  \" as E6  <<(T,blue) port>> [[psysml:f68e153b-fc57-4f0d-8b67-396cca7e86fb ]] \r\n",
       "}\r\n",
       "rec usage \"frontAxis\" as E7 [[psysml:e37fef59-9d21-4052-a30d-49ef8723b649 ]] {\r\n",
       "}\r\n",
       "rec usage \"rearAxis\" as E8 [[psysml:66876509-5758-44f1-96ed-51fe54b6f246 ]] {\r\n",
       "}\r\n",
       "rec usage \"frontWheel: FrontWheel\" as E9 [[psysml:311f8436-0aa0-4dcd-a7af-aba05aec6d7f ]] {\r\n",
       "}\r\n",
       "rec usage \"frontLeftWheel:>eVehicle::frontWheel\" as E10 [[psysml:55446519-5358-4a06-84c9-9e7f47721ab6 ]] {\r\n",
       "usage \"pressure  \" as E11  <<(T,blue) reference>> [[psysml:ed6607f6-910a-4518-9382-5baafd4ba17c ]] \r\n",
       "}\r\n",
       "rec usage \"frontRightWheel:>eVehicle::frontWheel\" as E12 [[psysml:873d5a75-2278-46e8-a8bc-cfe67a584417 ]] {\r\n",
       "usage \"pressure  \" as E13  <<(T,blue) reference>> [[psysml:873cab4e-d568-4c81-bde8-87d864f0cd6b ]] \r\n",
       "}\r\n",
       "rec usage \"rearWheel: RearWheel\" as E14 [[psysml:83fef4c8-c172-4a2c-9ba5-f8cfe55b6ec9 ]] {\r\n",
       "}\r\n",
       "rec usage \"rearLeftWheel:>eVehicle::rearWheel\" as E15 [[psysml:adebbda7-e295-4ce6-8bd9-52af9235419d ]] {\r\n",
       "usage \"pressure  \" as E16  <<(T,blue) reference>> [[psysml:7e65433a-70eb-4866-b78a-6719a9c44094 ]] \r\n",
       "}\r\n",
       "rec usage \"rearRightWheel:>eVehicle::rearWheel\" as E17 [[psysml:245fcf05-a255-440a-afa0-ab348bdc3332 ]] {\r\n",
       "usage \"pressure  \" as E18  <<(T,blue) reference>> [[psysml:df1b0e4e-e68a-4ccf-8bbb-455e224f3d72 ]] \r\n",
       "}\r\n",
       "}\r\n",
       "E10 - -|> E9 [[psysml:635a933b-4c10-4f25-aaa8-eb4ad3487fbf ]] \r\n",
       "E12 - -|> E9 [[psysml:0c04494a-d858-4809-b43f-f0038d333324 ]] \r\n",
       "E15 - -|> E14 [[psysml:4edc8e16-4297-43ca-bb2d-33ddc16d8b1f ]] \r\n",
       "E17 - -|> E14 [[psysml:9d7e718f-c121-47c2-abf0-23f857509eb8 ]] \r\n",
       "E4 -[thickness=3]- \"*\"E6 [[psysml:b993fa3f-2fb2-47f7-8347-6e6da8bcf1f0 ]] \r\n",
       "E5 -[thickness=3]- \"*\"E7 [[psysml:639077ad-18c1-4e9f-b342-2a252abf1104 ]] \r\n",
       "E7 -[thickness=3]- \"*\"E9 [[psysml:7a161d25-e1a5-4497-b609-be5d82e182ba ]] \r\n",
       "E8 -[thickness=3]- \"*\"E14 [[psysml:9d25987c-75ab-4e2f-8d21-7d4455f854ab ]] \r\n",
       "E2 -[thickness=3]- \"*\"E3 [[psysml:5bd62010-7b98-4065-816f-2d6c26ad11b8 ]] \r\n",
       "E2 -[thickness=3]- \"*\"E5 [[psysml:ca059b16-d2a2-4ea6-a7f2-8455ea367427 ]] \r\n",
       "E2 -[thickness=3]- \"*\"E7 [[psysml:c92f04f6-f93c-40f0-9a95-8252073b1de2 ]] \r\n",
       "E2 -[thickness=3]- \"*\"E8 [[psysml:cb4119be-d784-48ef-9e76-10b4b0ebf106 ]] \r\n",
       "@enduml\r\n",
       "\n",
       "PlantUML version 1.2022.7(Mon Aug 22 12:01:30 CDT 2022)\n",
       "(EPL source distribution)\n",
       "Java Runtime: OpenJDK Runtime Environment\n",
       "JVM: OpenJDK 64-Bit Server VM\n",
       "Default Encoding: UTF-8\n",
       "Language: en\n",
       "Country: US\n",
       "--></g></svg>"
      ]
     },
     "execution_count": 2,
     "metadata": {},
     "output_type": "execute_result"
    }
   ],
   "source": [
    "%viz --view=interconnection eVehicle_LogicalArchitecture::eVehicle"
   ]
  },
  {
   "cell_type": "markdown",
   "metadata": {
    "kernel": "SoS"
   },
   "source": [
    "The ports *powerIn* and *powerOut* have no types respectively the SysML v2 library element *Port* as default type. The consistent usage/definition pattern applies here as well. The port is a usage. With a PortDef the interaction point can be defined. In this example it is a good candidate for a model library.\n",
    "\n",
    "The port only specifies the interaction point. The interface defines the connection between interaction points. The *PowerOutPort* is conjugated for the *consumerPort* port."
   ]
  },
  {
   "cell_type": "code",
   "execution_count": null,
   "metadata": {
    "kernel": "SoS"
   },
   "outputs": [],
   "source": [
    "package eVehicleLibrary {\n",
    "    \n",
    "    import ScalarValues::Integer;\n",
    "    \n",
    "    item def ElectricEnergy;\n",
    "    attribute def BatteryCapacity :> ScalarValues::Integer;\n",
    "    attribute def Speed :> ScalarValues::Integer;\n",
    "    \n",
    "    port def PowerOutPort {\n",
    "        out energy : ElectricEnergy;\n",
    "    }\n",
    "    \n",
    "    interface def PowerInterface {\n",
    "        end supplierPort : PowerOutPort;\n",
    "        end consumerPort : ~PowerOutPort;\n",
    "    }\n",
    "}"
   ]
  },
  {
   "cell_type": "code",
   "execution_count": null,
   "metadata": {
    "kernel": "SoS"
   },
   "outputs": [],
   "source": [
    "%viz --view=tree eVehicleLibrary"
   ]
  },
  {
   "cell_type": "markdown",
   "metadata": {
    "kernel": "SoS"
   },
   "source": [
    "Next, the definitions of the port and the interface are applied to the model. **Do not forget to run the eVehicleLibrary cell above.**"
   ]
  },
  {
   "cell_type": "code",
   "execution_count": null,
   "metadata": {
    "kernel": "SoS"
   },
   "outputs": [],
   "source": [
    "package eVehicle_LogicalArchitecture {   \n",
    "\n",
    "    import SI::*;        \n",
    "    import eVehicleLibrary::*;\n",
    "    \n",
    "    attribute def WheelSize {\n",
    "        size : LengthValue;\n",
    "        deviation : LengthValue;        \n",
    "    }\n",
    "        \n",
    "    part def Wheel :> ShapeItems::CircularCylinder {\n",
    "        :>> radius = sizeOfWheel.size;\n",
    "        attribute sizeOfWheel : WheelSize {\n",
    "            :>> size := 325 [mm];\n",
    "            :>> deviation := 1 [mm];\n",
    "        }\n",
    "        \n",
    "        constraint pressureConstraint : WheelPressureConstraint {\n",
    "            in currentPressure = pressure;\n",
    "            in limitPressure = maxPressure;\n",
    "        }\n",
    "\n",
    "        attribute pressure : PressureValue;\n",
    "        attribute maxPressure : PressureValue;\n",
    "    }\n",
    "    \n",
    "    part def FrontWheel :> Wheel {\n",
    "        attribute redefines maxPressure = 200000 [Pa];\n",
    "    }\n",
    "    part def RearWheel :> Wheel {\n",
    "        attribute redefines maxPressure = 200000 [Pa];\n",
    "    }\n",
    "\n",
    "    constraint def WheelPressureConstraint {\n",
    "        in currentPressure : PressureValue;\n",
    "        in limitPressure : PressureValue;\n",
    "        currentPressure <= limitPressure\n",
    "    }\n",
    "\n",
    "    part def Battery {\n",
    "        attribute capacity : BatteryCapacity;\n",
    "        port powerOut : PowerOutPort;\n",
    "    }\n",
    "\n",
    "    part def Engine {\n",
    "        port powerIn : ~PowerOutPort;\n",
    "    }\n",
    "    \n",
    "    part eVehicle {\n",
    "        part body;\n",
    "        part battery : Battery;\n",
    "        part engine : Engine;\n",
    "        part frontAxis;\n",
    "        part rearAxis;\n",
    "        part frontWheel : FrontWheel[2];\n",
    "        part frontLeftWheel :> frontWheel {\n",
    "            redefines pressure = 100000 [Pa];\n",
    "        }\n",
    "        part frontRightWheel :> frontWheel {\n",
    "            redefines pressure = 100000 [Pa];\n",
    "        }\n",
    "\n",
    "        part rearWheel : RearWheel[2];\n",
    "        part rearLeftWheel :> rearWheel {\n",
    "            redefines pressure = 200000 [Pa];\n",
    "        }\n",
    "        part rearRightWheel :> rearWheel {\n",
    "            redefines pressure = 200000 [Pa];\n",
    "        }\n",
    "              \n",
    "        interface : PowerInterface connect \n",
    "            supplierPort ::> battery.powerOut to \n",
    "            consumerPort ::> engine.powerIn;\n",
    "\n",
    "        connect engine to frontAxis;\n",
    "        connect frontAxis to frontWheel;\n",
    "        connect rearAxis to rearWheel;\n",
    "        connect body to battery;\n",
    "        connect body to engine;\n",
    "        connect body to frontAxis;\n",
    "        connect body to rearAxis;\n",
    "    }\n",
    "}"
   ]
  },
  {
   "cell_type": "code",
   "execution_count": null,
   "metadata": {
    "kernel": "SoS"
   },
   "outputs": [],
   "source": [
    "%viz --view=interconnection eVehicle_LogicalArchitecture::eVehicle"
   ]
  },
  {
   "cell_type": "markdown",
   "metadata": {
    "kernel": "SoS"
   },
   "source": [
    "## Modeling Activities<a name=\"sysmlv2usecasesactivities\"></a>"
   ]
  },
  {
   "cell_type": "code",
   "execution_count": 6,
   "metadata": {
    "kernel": "SoS"
   },
   "outputs": [
    {
     "data": {
      "text/plain": [
       "Package eVehicle_Behavior (328894bc-689b-4505-88da-cfd06655ff2f)\n"
      ]
     },
     "execution_count": 6,
     "metadata": {},
     "output_type": "execute_result"
    }
   ],
   "source": [
    "package eVehicle_Behavior {\n",
    "      \n",
    "    action chargeBattery {\n",
    "        in item power : ElectricalEnergy;\n",
    "        \n",
    "        succession flow chargeBattery.power to charge.power;\n",
    "        \n",
    "        first start;\n",
    "        then action 'insert charging plug';\n",
    "        then action 'secure charging plug';\n",
    "        then action charge {\n",
    "            in item power : ElectricalEnergy;\n",
    "        }\n",
    "        then action 'unsecure charging plug';\n",
    "        then action removePlug : 'Remove charging plug';\n",
    "        then done;\n",
    "    }\n",
    "    action def 'Remove charging plug';\n",
    "    item def ElectricalEnergy;\n",
    "}"
   ]
  },
  {
   "cell_type": "code",
   "execution_count": 7,
   "metadata": {
    "kernel": "SoS"
   },
   "outputs": [
    {
     "data": {
      "image/svg+xml": [
       "<?xml version=\"1.0\" encoding=\"UTF-8\" standalone=\"no\"?><svg xmlns=\"http://www.w3.org/2000/svg\" xmlns:xlink=\"http://www.w3.org/1999/xlink\" contentStyleType=\"text/css\" height=\"551px\" preserveAspectRatio=\"none\" style=\"width:667px;height:551px;background:#FFFFFF;\" version=\"1.1\" viewBox=\"0 0 667 551\" width=\"667px\" zoomAndPan=\"magnify\"><defs/><g><!--MD5=[fbc87193dbaf4d95561dea2c320d4a47]\n",
       "cluster E1--><g id=\"cluster_E1\"><a href=\"psysml:328894bc-689b-4505-88da-cfd06655ff2f\" target=\"_top\" title=\"psysml:328894bc-689b-4505-88da-cfd06655ff2f\" xlink:actuate=\"onRequest\" xlink:href=\"psysml:328894bc-689b-4505-88da-cfd06655ff2f\" xlink:show=\"new\" xlink:title=\"psysml:328894bc-689b-4505-88da-cfd06655ff2f\" xlink:type=\"simple\"><polygon fill=\"none\" points=\"16,6,155,6,162,29.6094,650,29.6094,650,544,16,544,16,6\" style=\"stroke:#000000;stroke-width:1.5;\"/><line style=\"stroke:#000000;stroke-width:1.5;\" x1=\"16\" x2=\"162\" y1=\"29.6094\" y2=\"29.6094\"/><text fill=\"#000000\" font-family=\"sans-serif\" font-size=\"14\" font-weight=\"bold\" lengthAdjust=\"spacing\" textLength=\"133\" x=\"20\" y=\"22.5332\">eVehicle_Behavior</text></a></g><!--MD5=[e4f7fae6ed58524ba242bb0b0d3be6b7]\n",
       "cluster E2--><g id=\"cluster_E2\"><a href=\"psysml:2e71347b-4d15-4283-a9a5-42e17b5112f5\" target=\"_top\" title=\"psysml:2e71347b-4d15-4283-a9a5-42e17b5112f5\" xlink:actuate=\"onRequest\" xlink:href=\"psysml:2e71347b-4d15-4283-a9a5-42e17b5112f5\" xlink:show=\"new\" xlink:title=\"psysml:2e71347b-4d15-4283-a9a5-42e17b5112f5\" xlink:type=\"simple\"><rect fill=\"#FFFFFF\" height=\"462\" id=\"E2\" rx=\"10\" ry=\"10\" style=\"stroke:#383838;stroke-width:1.5;\" width=\"318\" x=\"154\" y=\"66\"/><text fill=\"#000000\" font-family=\"sans-serif\" font-size=\"12\" font-style=\"italic\" lengthAdjust=\"spacing\" textLength=\"47\" x=\"289.5\" y=\"83.457\">«action»</text><text fill=\"#000000\" font-family=\"sans-serif\" font-size=\"14\" lengthAdjust=\"spacing\" textLength=\"89\" x=\"268.5\" y=\"100.627\">chargeBattery</text><line style=\"stroke:#383838;stroke-width:1.0;\" x1=\"154\" x2=\"472\" y1=\"108.7031\" y2=\"108.7031\"/></a></g><!--MD5=[14e3b0961a2654348d326746436168a1]\n",
       "cluster E6--><g id=\"cluster_E6\"><a href=\"psysml:55432845-bf1d-42a2-a9c4-f3d70558abef\" target=\"_top\" title=\"psysml:55432845-bf1d-42a2-a9c4-f3d70558abef\" xlink:actuate=\"onRequest\" xlink:href=\"psysml:55432845-bf1d-42a2-a9c4-f3d70558abef\" xlink:show=\"new\" xlink:title=\"psysml:55432845-bf1d-42a2-a9c4-f3d70558abef\" xlink:type=\"simple\"><rect fill=\"#FFFFFF\" height=\"110\" id=\"E6\" rx=\"10\" ry=\"10\" style=\"stroke:#383838;stroke-width:1.5;\" width=\"118\" x=\"330\" y=\"236\"/><text fill=\"#000000\" font-family=\"sans-serif\" font-size=\"12\" font-style=\"italic\" lengthAdjust=\"spacing\" textLength=\"47\" x=\"365.5\" y=\"253.457\">«action»</text><text fill=\"#000000\" font-family=\"sans-serif\" font-size=\"14\" lengthAdjust=\"spacing\" textLength=\"44\" x=\"367\" y=\"270.627\">charge</text><line style=\"stroke:#383838;stroke-width:1.0;\" x1=\"330\" x2=\"448\" y1=\"278.7031\" y2=\"278.7031\"/></a></g><g><a href=\"psysml:ce7ec8b7-fe28-45c0-a100-0af8668d54c6\" target=\"_top\" title=\"psysml:ce7ec8b7-fe28-45c0-a100-0af8668d54c6\" xlink:actuate=\"onRequest\" xlink:href=\"psysml:ce7ec8b7-fe28-45c0-a100-0af8668d54c6\" xlink:show=\"new\" xlink:title=\"psysml:ce7ec8b7-fe28-45c0-a100-0af8668d54c6\" xlink:type=\"simple\"><rect fill=\"#FFFFFF\" height=\"47.7031\" id=\"E12\" style=\"stroke:#383838;stroke-width:1.5;\" width=\"113\" x=\"32.5\" y=\"42\"/><text fill=\"#000000\" font-family=\"sans-serif\" font-size=\"12\" font-style=\"italic\" lengthAdjust=\"spacing\" textLength=\"61\" x=\"58.5\" y=\"59.457\">«item  def»</text><text fill=\"#000000\" font-family=\"sans-serif\" font-size=\"14\" lengthAdjust=\"spacing\" textLength=\"102\" x=\"38\" y=\"76.627\">ElectricalEnergy</text></a></g><text fill=\"#000000\" font-family=\"sans-serif\" font-size=\"14\" lengthAdjust=\"spacing\" textLength=\"38\" x=\"379\" y=\"44.9238\">power</text><rect fill=\"#FFFFFF\" height=\"12\" style=\"stroke:#181818;stroke-width:1.5;\" width=\"12\" x=\"392\" y=\"60\"/><ellipse cx=\"242\" cy=\"125\" fill=\"#222222\" rx=\"10\" ry=\"10\" style=\"stroke:none;stroke-width:1.0;\"/><ellipse cx=\"394\" cy=\"502\" fill=\"none\" rx=\"10\" ry=\"10\" style=\"stroke:#222222;stroke-width:1.0;\"/><ellipse cx=\"394.5\" cy=\"502.5\" fill=\"#222222\" rx=\"6\" ry=\"6\" style=\"stroke:none;stroke-width:1.0;\"/><g><a href=\"psysml:ae708574-3655-4890-a612-772a18196184\" target=\"_top\" title=\"psysml:ae708574-3655-4890-a612-772a18196184\" xlink:actuate=\"onRequest\" xlink:href=\"psysml:ae708574-3655-4890-a612-772a18196184\" xlink:show=\"new\" xlink:title=\"psysml:ae708574-3655-4890-a612-772a18196184\" xlink:type=\"simple\"><rect fill=\"#FFFFFF\" height=\"47.7031\" id=\"E4\" rx=\"10\" ry=\"10\" style=\"stroke:#383838;stroke-width:1.5;\" width=\"136\" x=\"174\" y=\"154\"/><text fill=\"#000000\" font-family=\"sans-serif\" font-size=\"12\" font-style=\"italic\" lengthAdjust=\"spacing\" textLength=\"47\" x=\"218.5\" y=\"171.457\">«action»</text><text fill=\"#000000\" font-family=\"sans-serif\" font-size=\"14\" lengthAdjust=\"spacing\" textLength=\"125\" x=\"179.5\" y=\"188.627\">insert charging plug</text></a></g><g><a href=\"psysml:e3a2f648-eb41-4d94-9e6e-fe9bb046d11c\" target=\"_top\" title=\"psysml:e3a2f648-eb41-4d94-9e6e-fe9bb046d11c\" xlink:actuate=\"onRequest\" xlink:href=\"psysml:e3a2f648-eb41-4d94-9e6e-fe9bb046d11c\" xlink:show=\"new\" xlink:title=\"psysml:e3a2f648-eb41-4d94-9e6e-fe9bb046d11c\" xlink:type=\"simple\"><rect fill=\"#FFFFFF\" height=\"47.7031\" id=\"E5\" rx=\"10\" ry=\"10\" style=\"stroke:#383838;stroke-width:1.5;\" width=\"144\" x=\"170\" y=\"212\"/><text fill=\"#000000\" font-family=\"sans-serif\" font-size=\"12\" font-style=\"italic\" lengthAdjust=\"spacing\" textLength=\"47\" x=\"218.5\" y=\"229.457\">«action»</text><text fill=\"#000000\" font-family=\"sans-serif\" font-size=\"14\" lengthAdjust=\"spacing\" textLength=\"133\" x=\"175.5\" y=\"246.627\">secure charging plug</text></a></g><text fill=\"#000000\" font-family=\"sans-serif\" font-size=\"14\" lengthAdjust=\"spacing\" textLength=\"38\" x=\"370\" y=\"214.9238\">power</text><rect fill=\"#FFFFFF\" height=\"12\" style=\"stroke:#181818;stroke-width:1.5;\" width=\"12\" x=\"383\" y=\"230\"/><g><a href=\"psysml:e19df1af-fc8d-44f8-a8fe-5d2f8d18df4b\" target=\"_top\" title=\"psysml:e19df1af-fc8d-44f8-a8fe-5d2f8d18df4b\" xlink:actuate=\"onRequest\" xlink:href=\"psysml:e19df1af-fc8d-44f8-a8fe-5d2f8d18df4b\" xlink:show=\"new\" xlink:title=\"psysml:e19df1af-fc8d-44f8-a8fe-5d2f8d18df4b\" xlink:type=\"simple\"><rect fill=\"#FFFFFF\" height=\"47.7031\" id=\"E8\" rx=\"10\" ry=\"10\" style=\"stroke:#383838;stroke-width:1.5;\" width=\"160\" x=\"296\" y=\"362\"/><text fill=\"#000000\" font-family=\"sans-serif\" font-size=\"12\" font-style=\"italic\" lengthAdjust=\"spacing\" textLength=\"47\" x=\"352.5\" y=\"379.457\">«action»</text><text fill=\"#000000\" font-family=\"sans-serif\" font-size=\"14\" lengthAdjust=\"spacing\" textLength=\"149\" x=\"301.5\" y=\"396.627\">unsecure charging plug</text></a></g><g><a href=\"psysml:aebca3ef-cfe9-44d8-a8b7-aa3cfbfe3ff6\" target=\"_top\" title=\"psysml:aebca3ef-cfe9-44d8-a8b7-aa3cfbfe3ff6\" xlink:actuate=\"onRequest\" xlink:href=\"psysml:aebca3ef-cfe9-44d8-a8b7-aa3cfbfe3ff6\" xlink:show=\"new\" xlink:title=\"psysml:aebca3ef-cfe9-44d8-a8b7-aa3cfbfe3ff6\" xlink:type=\"simple\"><rect fill=\"#FFFFFF\" height=\"47.7031\" id=\"E9\" rx=\"10\" ry=\"10\" style=\"stroke:#383838;stroke-width:1.5;\" width=\"86\" x=\"351\" y=\"420\"/><text fill=\"#000000\" font-family=\"sans-serif\" font-size=\"12\" font-style=\"italic\" lengthAdjust=\"spacing\" textLength=\"47\" x=\"370.5\" y=\"437.457\">«action»</text><text fill=\"#000000\" font-family=\"sans-serif\" font-size=\"14\" lengthAdjust=\"spacing\" textLength=\"75\" x=\"356.5\" y=\"454.627\">removePlug</text></a></g><g><a href=\"psysml:2e71347b-4d15-4283-a9a5-42e17b5112f5\" target=\"_top\" title=\"psysml:2e71347b-4d15-4283-a9a5-42e17b5112f5\" xlink:actuate=\"onRequest\" xlink:href=\"psysml:2e71347b-4d15-4283-a9a5-42e17b5112f5\" xlink:show=\"new\" xlink:title=\"psysml:2e71347b-4d15-4283-a9a5-42e17b5112f5\" xlink:type=\"simple\"><rect fill=\"#FFFFFF\" height=\"47.7031\" id=\"E10\" rx=\"10\" ry=\"10\" style=\"stroke:#383838;stroke-width:1.5;\" width=\"105\" x=\"345.5\" y=\"154\"/><text fill=\"#000000\" font-family=\"sans-serif\" font-size=\"12\" font-style=\"italic\" lengthAdjust=\"spacing\" textLength=\"47\" x=\"374.5\" y=\"171.457\">«action»</text><text fill=\"#000000\" font-family=\"sans-serif\" font-size=\"14\" lengthAdjust=\"spacing\" textLength=\"94\" x=\"351\" y=\"188.627\">^chargeBattery</text></a></g><g><a href=\"psysml:8601cde0-ce4d-4d6f-9156-9e2988ad3ab8\" target=\"_top\" title=\"psysml:8601cde0-ce4d-4d6f-9156-9e2988ad3ab8\" xlink:actuate=\"onRequest\" xlink:href=\"psysml:8601cde0-ce4d-4d6f-9156-9e2988ad3ab8\" xlink:show=\"new\" xlink:title=\"psysml:8601cde0-ce4d-4d6f-9156-9e2988ad3ab8\" xlink:type=\"simple\"><rect fill=\"#FFFFFF\" height=\"47.7031\" id=\"E11\" style=\"stroke:#383838;stroke-width:1.5;\" width=\"153\" x=\"480.5\" y=\"478\"/><text fill=\"#000000\" font-family=\"sans-serif\" font-size=\"12\" font-style=\"italic\" lengthAdjust=\"spacing\" textLength=\"70\" x=\"522\" y=\"495.457\">«action  def»</text><text fill=\"#000000\" font-family=\"sans-serif\" font-size=\"14\" lengthAdjust=\"spacing\" textLength=\"142\" x=\"486\" y=\"512.627\">Remove charging plug</text></a></g><!--MD5=[13c02371686d0d9a3e24c456767252e0]\n",
       "link *start*E2 to E4--><g id=\"link_*start*E2_E4\"><a href=\"psysml:83af3176-89ef-4cab-ba56-7f1c7c62f788\" target=\"_top\" title=\"psysml:83af3176-89ef-4cab-ba56-7f1c7c62f788\" xlink:actuate=\"onRequest\" xlink:href=\"psysml:83af3176-89ef-4cab-ba56-7f1c7c62f788\" xlink:show=\"new\" xlink:title=\"psysml:83af3176-89ef-4cab-ba56-7f1c7c62f788\" xlink:type=\"simple\"><path d=\"M242,135.35 C242,139.16 242,143.77 242,148.52 \" fill=\"none\" id=\"*start*E2-to-E4\" style=\"stroke:#181818;stroke-width:1.0;\"/><polygon fill=\"#181818\" points=\"242,153.71,246,144.71,242,148.71,238,144.71,242,153.71\" style=\"stroke:#181818;stroke-width:1.0;\"/></a></g><!--MD5=[ff7fc44c14c9f6914217e7c1ee93fe2d]\n",
       "link E9 to *end*E2--><g id=\"link_E9_*end*E2\"><a href=\"psysml:728feadb-05e5-48ca-a894-17eb2020eb08\" target=\"_top\" title=\"psysml:728feadb-05e5-48ca-a894-17eb2020eb08\" xlink:actuate=\"onRequest\" xlink:href=\"psysml:728feadb-05e5-48ca-a894-17eb2020eb08\" xlink:show=\"new\" xlink:title=\"psysml:728feadb-05e5-48ca-a894-17eb2020eb08\" xlink:type=\"simple\"><path d=\"M394,468.1 C394,474.34 394,480.91 394,486.52 \" fill=\"none\" id=\"E9-to-*end*E2\" style=\"stroke:#181818;stroke-width:1.0;\"/><polygon fill=\"#181818\" points=\"394,491.77,398,482.77,394,486.77,390,482.77,394,491.77\" style=\"stroke:#181818;stroke-width:1.0;\"/></a></g><!--MD5=[1b7591eae5389033d8d09a9d6721a717]\n",
       "link E4 to E5--><g id=\"link_E4_E5\"><a href=\"psysml:09938c37-8987-4156-bc95-a2fc9d7355b4\" target=\"_top\" title=\"psysml:09938c37-8987-4156-bc95-a2fc9d7355b4\" xlink:actuate=\"onRequest\" xlink:href=\"psysml:09938c37-8987-4156-bc95-a2fc9d7355b4\" xlink:show=\"new\" xlink:title=\"psysml:09938c37-8987-4156-bc95-a2fc9d7355b4\" xlink:type=\"simple\"><path d=\"M242,202.1 C242,203.63 242,205.17 242,206.72 \" fill=\"none\" id=\"E4-to-E5\" style=\"stroke:#181818;stroke-width:1.0;\"/><polygon fill=\"#181818\" points=\"242,211.95,246,202.95,242,206.95,238,202.95,242,211.95\" style=\"stroke:#181818;stroke-width:1.0;\"/><text fill=\"#000000\" font-family=\"sans-serif\" font-size=\"13\" lengthAdjust=\"spacing\" textLength=\"5\" x=\"231.2758\" y=\"201.4549\">*</text></a></g><!--MD5=[9120cf2e5df3bff93db8f754bbbc09b4]\n",
       "link E5 to E6--><g id=\"link_E5_E6\"><a href=\"psysml:cbb0bf5b-d6f2-4de7-8591-f1cb39d4b031\" target=\"_top\" title=\"psysml:cbb0bf5b-d6f2-4de7-8591-f1cb39d4b031\" xlink:actuate=\"onRequest\" xlink:href=\"psysml:cbb0bf5b-d6f2-4de7-8591-f1cb39d4b031\" xlink:show=\"new\" xlink:title=\"psysml:cbb0bf5b-d6f2-4de7-8591-f1cb39d4b031\" xlink:type=\"simple\"><path d=\"M294.24,260.1 C304.145,264.48 314.6125,269.1075 324.8338,273.6263 C326.1114,274.1911 327.3852,274.7542 328.6536,275.315 C328.9707,275.4552 329.2874,275.5952 329.6038,275.7351 C329.6829,275.7701 329.762,275.805 329.8411,275.84 \" fill=\"none\" id=\"E5-to-E6\" style=\"stroke:#181818;stroke-width:1.0;\"/><polygon fill=\"#181818\" points=\"329.8411,275.84,323.227,268.5424,325.268,273.8182,319.9922,275.8593,329.8411,275.84\" style=\"stroke:#181818;stroke-width:1.0;\"/><text fill=\"#000000\" font-family=\"sans-serif\" font-size=\"13\" lengthAdjust=\"spacing\" textLength=\"5\" x=\"348.95\" y=\"283.9951\">*</text></a></g><!--MD5=[0a839d0f80c2d72d4b9b307f046d0de8]\n",
       "link E6 to E8--><g id=\"link_E6_E8\"><a href=\"psysml:8d033c5e-f82d-47ba-880d-360543c893c2\" target=\"_top\" title=\"psysml:8d033c5e-f82d-47ba-880d-360543c893c2\" xlink:actuate=\"onRequest\" xlink:href=\"psysml:8d033c5e-f82d-47ba-880d-360543c893c2\" xlink:show=\"new\" xlink:title=\"psysml:8d033c5e-f82d-47ba-880d-360543c893c2\" xlink:type=\"simple\"><path d=\"M382.2433,346.1184 C382.2359,346.1647 382.2284,346.211 382.221,346.2573 C382.1913,346.4424 382.1615,346.6275 382.1318,346.8125 C382.0724,347.1825 382.0129,347.5523 381.9536,347.9217 C381.4788,350.8769 381.0075,353.8075 380.55,356.65 \" fill=\"none\" id=\"E6-to-E8\" style=\"stroke:#181818;stroke-width:1.0;\"/><polygon fill=\"#181818\" points=\"379.73,361.76,385.1166,353.5147,380.5289,356.8242,377.2193,352.2365,379.73,361.76\" style=\"stroke:#181818;stroke-width:1.0;\"/><text fill=\"#000000\" font-family=\"sans-serif\" font-size=\"13\" lengthAdjust=\"spacing\" textLength=\"5\" x=\"375.0452\" y=\"351.0767\">*</text></a></g><!--MD5=[ed10624c06dd9a4fa49ccf290e8b16a8]\n",
       "link E8 to E9--><g id=\"link_E8_E9\"><a href=\"psysml:eac0efc7-8f92-4c51-ba28-9c619b3ffd84\" target=\"_top\" title=\"psysml:eac0efc7-8f92-4c51-ba28-9c619b3ffd84\" xlink:actuate=\"onRequest\" xlink:href=\"psysml:eac0efc7-8f92-4c51-ba28-9c619b3ffd84\" xlink:show=\"new\" xlink:title=\"psysml:eac0efc7-8f92-4c51-ba28-9c619b3ffd84\" xlink:type=\"simple\"><path d=\"M383.43,410.1 C383.95,411.73 384.48,413.38 385.01,415.03 \" fill=\"none\" id=\"E8-to-E9\" style=\"stroke:#181818;stroke-width:1.0;\"/><polygon fill=\"#181818\" points=\"386.59,419.95,387.645,410.1578,385.0604,415.1897,380.0285,412.6051,386.59,419.95\" style=\"stroke:#181818;stroke-width:1.0;\"/><text fill=\"#000000\" font-family=\"sans-serif\" font-size=\"13\" lengthAdjust=\"spacing\" textLength=\"5\" x=\"378.9636\" y=\"409.4549\">*</text></a></g><!--MD5=[526783dfcde15884571727dc3bbf2987]\n",
       "link E9 to E11--><g id=\"link_E9_E11\"><a href=\"psysml:309095fd-1dd9-4f80-b2eb-d23ac8243f6e\" target=\"_top\" title=\"psysml:309095fd-1dd9-4f80-b2eb-d23ac8243f6e\" xlink:actuate=\"onRequest\" xlink:href=\"psysml:309095fd-1dd9-4f80-b2eb-d23ac8243f6e\" xlink:show=\"new\" xlink:title=\"psysml:309095fd-1dd9-4f80-b2eb-d23ac8243f6e\" xlink:type=\"simple\"><path d=\"M437.25,459.86 C447.71,463.45 459.26,467.42 470.93,471.43 \" fill=\"none\" id=\"E9-to-E11\" style=\"stroke:#181818;stroke-width:1.0;\"/><polygon fill=\"#FFFFFF\" points=\"489.86,477.94,469.6167,478.3987,474.1578,465.1556,489.86,477.94\" style=\"stroke:#181818;stroke-width:1.0;\"/><ellipse cx=\"464.8736\" cy=\"474.658\" fill=\"#181818\" rx=\"2\" ry=\"2\" style=\"stroke:#181818;stroke-width:1.0;\"/><ellipse cx=\"468.1172\" cy=\"465.1986\" fill=\"#181818\" rx=\"2\" ry=\"2\" style=\"stroke:#181818;stroke-width:1.0;\"/></a></g><!--MD5=[bfef66b00124cdc781ad29aae3a97127]\n",
       "@startuml\r\n",
       "skin sysmlbw\r\n",
       "skinparam monochrome true\r\n",
       "skinparam wrapWidth 300\r\n",
       "hide circle\r\n",
       "skinparam ranksep 10\r\n",
       "skinparam rectangle {\r\n",
       " backgroundColor<<block>> LightGreen\r\n",
       "}\r\n",
       "\r\n",
       "package \"eVehicle_Behavior\" as E1  [[psysml:328894bc-689b-4505-88da-cfd06655ff2f ]]  {\r\n",
       "rec usage \"chargeBattery\" as E2  <<(T,blue) action>> [[psysml:2e71347b-4d15-4283-a9a5-42e17b5112f5 ]] {\r\n",
       "portin \"power\" as E3  [[psysml:336edb6a-26ce-4577-a19b-d3459f9668df ]] \r\n",
       "rec usage \"insert charging plug\" as E4  <<(T,blue) action>> [[psysml:ae708574-3655-4890-a612-772a18196184 ]] {\r\n",
       "}\r\n",
       "\r\n",
       "rec usage \"secure charging plug\" as E5  <<(T,blue) action>> [[psysml:e3a2f648-eb41-4d94-9e6e-fe9bb046d11c ]] {\r\n",
       "}\r\n",
       "\r\n",
       "rec usage \"charge\" as E6  <<(T,blue) action>> [[psysml:55432845-bf1d-42a2-a9c4-f3d70558abef ]] {\r\n",
       "portin \"power\" as E7  [[psysml:34a625ab-de5d-48a3-9e80-7e656973c8fb ]] \r\n",
       "}\r\n",
       "\r\n",
       "rec usage \"unsecure charging plug\" as E8  <<(T,blue) action>> [[psysml:e19df1af-fc8d-44f8-a8fe-5d2f8d18df4b ]] {\r\n",
       "}\r\n",
       "\r\n",
       "rec usage \"removePlug\" as E9  <<(T,blue) action>> [[psysml:aebca3ef-cfe9-44d8-a8b7-aa3cfbfe3ff6 ]] {\r\n",
       "}\r\n",
       "\r\n",
       "rec usage \"^chargeBattery\" as E10  <<(T,blue) action>> [[psysml:2e71347b-4d15-4283-a9a5-42e17b5112f5 ]] {\r\n",
       "}\r\n",
       "\r\n",
       "[*] - -> E4 [[psysml:83af3176-89ef-4cab-ba56-7f1c7c62f788 ]] \r\n",
       "E9 - -> [*] [[psysml:728feadb-05e5-48ca-a894-17eb2020eb08 ]] \r\n",
       "}\r\n",
       "\r\n",
       "rec def \"Remove charging plug\" as E11  <<(T,blue) action  def>> [[psysml:8601cde0-ce4d-4d6f-9156-9e2988ad3ab8 ]] {\r\n",
       "}\r\n",
       "\r\n",
       "def \"ElectricalEnergy\" as E12  <<(T,blue) item  def>> [[psysml:ce7ec8b7-fe28-45c0-a100-0af8668d54c6 ]] \r\n",
       "}\r\n",
       "E4 - -> \"*\"E5 [[psysml:09938c37-8987-4156-bc95-a2fc9d7355b4 ]] \r\n",
       "E5 - -> \"*\"E6 [[psysml:cbb0bf5b-d6f2-4de7-8591-f1cb39d4b031 ]] \r\n",
       "E6 - -> \"*\"E8 [[psysml:8d033c5e-f82d-47ba-880d-360543c893c2 ]] \r\n",
       "E8 - -> \"*\"E9 [[psysml:eac0efc7-8f92-4c51-ba28-9c619b3ffd84 ]] \r\n",
       "E9 - -:|> E11 [[psysml:309095fd-1dd9-4f80-b2eb-d23ac8243f6e ]] \r\n",
       "@enduml\r\n",
       "\n",
       "PlantUML version 1.2022.7(Mon Aug 22 12:01:30 CDT 2022)\n",
       "(EPL source distribution)\n",
       "Java Runtime: OpenJDK Runtime Environment\n",
       "JVM: OpenJDK 64-Bit Server VM\n",
       "Default Encoding: UTF-8\n",
       "Language: en\n",
       "Country: US\n",
       "--></g></svg>"
      ]
     },
     "execution_count": 7,
     "metadata": {},
     "output_type": "execute_result"
    }
   ],
   "source": [
    "%viz eVehicle_Behavior"
   ]
  },
  {
   "cell_type": "markdown",
   "metadata": {
    "kernel": "SoS"
   },
   "source": [
    "## Connection item flows with parameters<a name=\"sysmlv2itempara\"></a>\n",
    "\n",
    "Connecting an structural item flow to an input parameter of an action. For simplicity, only the relevant elements are modeled below:"
   ]
  },
  {
   "cell_type": "code",
   "execution_count": 25,
   "metadata": {
    "kernel": "SoS"
   },
   "outputs": [
    {
     "data": {
      "text/plain": [
       "Package eVehicleSystem (a254d839-b99b-4096-9dfa-e3c62ac4e2a3)\n"
      ]
     },
     "execution_count": 25,
     "metadata": {},
     "output_type": "execute_result"
    }
   ],
   "source": [
    "package eVehicleSystem {\n",
    "    \n",
    "    part eVehicle {\n",
    "        port powerPort : PowerInPort;\n",
    "        \n",
    "        flow of ElectricalEnergy from eVehicle.powerPort to chargeBattery.power;\n",
    "    \n",
    "        action chargeBattery {\n",
    "            in item power : ElectricalEnergy;\n",
    "        }\n",
    "    }\n",
    "    \n",
    "    port def PowerInPort {\n",
    "        in energy : ElectricalEnergy;\n",
    "    }\n",
    "    item def ElectricalEnergy;\n",
    "}"
   ]
  },
  {
   "cell_type": "code",
   "execution_count": 27,
   "metadata": {
    "kernel": "SoS"
   },
   "outputs": [
    {
     "data": {
      "text/plain": [
       "ERROR:Couldn't resolve reference to Element 'powerPort'\n"
      ]
     },
     "execution_count": 27,
     "metadata": {},
     "output_type": "execute_result"
    }
   ],
   "source": [
    "%viz --view=interconnection powerPort"
   ]
  },
  {
   "cell_type": "markdown",
   "metadata": {
    "kernel": "SoS"
   },
   "source": [
    "## Modeling variants<a name=\"sysmlv2modvariants\"></a>\n",
    "\n",
    "SysML v2 provides model elements for variants. This is a new feature compared to SysML v2. Following the typical approach of SysML, these are only generic concepts, but they form the foundation for tools to provide functions for them and for language extensions to be defined.\n",
    "\n",
    "Run the cells eVehicleLibrary and eVehicle_LogicalArchitecture above before continuing with the variability model."
   ]
  },
  {
   "cell_type": "code",
   "execution_count": null,
   "metadata": {
    "kernel": "SoS"
   },
   "outputs": [],
   "source": [
    "%viz eVehicle_LogicalArchitecture"
   ]
  },
  {
   "cell_type": "markdown",
   "metadata": {
    "kernel": "SoS"
   },
   "source": [
    "Now, the model is prepared to add variability. We define two battery kinds with different capacities, and two engine kinds."
   ]
  },
  {
   "cell_type": "code",
   "execution_count": 3,
   "metadata": {
    "kernel": "SoS"
   },
   "outputs": [
    {
     "name": "stderr",
     "output_type": "stream",
     "text": [
      "ERROR:Couldn't resolve reference to Type 'Engine'. (3.sysml line : 33 column : 47)\n",
      "ERROR:Couldn't resolve reference to Type 'Engine'. (3.sysml line : 52 column : 31)\n",
      "ERROR:Couldn't resolve reference to Type 'Battery'. (3.sysml line : 29 column : 48)\n",
      "ERROR:Couldn't resolve reference to Type 'Battery'. (3.sysml line : 44 column : 27)\n",
      "ERROR:Couldn't resolve reference to Type 'Engine'. (3.sysml line : 51 column : 28)\n",
      "ERROR:Couldn't resolve reference to Type 'Battery'. (3.sysml line : 47 column : 28)\n",
      "ERROR:Couldn't resolve reference to Feature 'capacity'. (3.sysml line : 45 column : 33)\n",
      "ERROR:Couldn't resolve reference to Feature 'capacity'. (3.sysml line : 48 column : 33)\n",
      "ERROR:A part must be typed by item definitions. (3.sysml line : 10 column : 13)\n",
      "ERROR:A part must be typed by item definitions. (3.sysml line : 11 column : 13)\n",
      "ERROR:A part must be typed by item definitions. (3.sysml line : 14 column : 13)\n",
      "ERROR:A part must be typed by item definitions. (3.sysml line : 15 column : 13)\n",
      "ERROR:A part must be typed by item definitions. (3.sysml line : 18 column : 13)\n",
      "ERROR:A part must be typed by item definitions. (3.sysml line : 19 column : 13)\n",
      "ERROR:A part must be typed by item definitions. (3.sysml line : 29 column : 13)\n",
      "ERROR:A part must be typed by item definitions. (3.sysml line : 30 column : 25)\n",
      "ERROR:A part must be typed by item definitions. (3.sysml line : 31 column : 25)\n",
      "ERROR:A part must be typed by item definitions. (3.sysml line : 33 column : 13)\n",
      "ERROR:A part must be typed by item definitions. (3.sysml line : 34 column : 25)\n",
      "ERROR:A part must be typed by item definitions. (3.sysml line : 35 column : 25)\n",
      "ERROR:A part must be typed by item definitions. (3.sysml line : 44 column : 9)\n",
      "ERROR:A part must be typed by item definitions. (3.sysml line : 47 column : 9)\n",
      "ERROR:A part must be typed by item definitions. (3.sysml line : 51 column : 9)\n",
      "ERROR:A part must be typed by item definitions. (3.sysml line : 52 column : 9)\n"
     ]
    },
    {
     "data": {
      "text/plain": []
     },
     "execution_count": 3,
     "metadata": {},
     "output_type": "execute_result"
    }
   ],
   "source": [
    "package eVehicle_VariantModel {\n",
    "    \n",
    "    import eVehicle_LogicalArchitecture::*;\n",
    "    \n",
    "    package eVehicle_Configurations {\n",
    "\n",
    "        import eVehicle_Variations::*;\n",
    "        \n",
    "        part eVehicleStandard :> eVehicleVariations {\n",
    "            part redefines engine = standardEngine;\n",
    "            part redefines battery = batteryLow;\n",
    "        }\n",
    "        part eVehiclePremium :> eVehicleVariations {\n",
    "            part redefines engine = powerEngine;\n",
    "            part redefines battery = batteryHigh;\n",
    "        }\n",
    "        part INVALIDeVehicle :> eVehicleVariations {\n",
    "            part redefines engine = powerEngine;\n",
    "            part redefines battery = batteryLow;\n",
    "        }\n",
    "    }\n",
    "    \n",
    "    package eVehicle_Variations {\n",
    "        \n",
    "        import eVehicle_Variants::*;\n",
    "        \n",
    "        abstract part eVehicleVariations :> eVehicle {\n",
    "        \n",
    "            variation part redefines battery : Battery {\n",
    "                variant part batterLow;\n",
    "                variant part batteryHigh;  \n",
    "            }\n",
    "            variation part redefines engine : Engine {\n",
    "                variant part standardEngine;\n",
    "                variant part powerEngine;\n",
    "            }\n",
    "        \n",
    "            abstract constraint { (battery == batteryLow & engine == standardEngine) ^ (battery == batteryHigh) }\n",
    "        }\n",
    "    }   \n",
    "    \n",
    "    package eVehicle_Variants {\n",
    "        \n",
    "        part batteryLow : Battery {\n",
    "            attribute redefines capacity = 40;\n",
    "        }\n",
    "        part batteryHigh : Battery {\n",
    "            attribute redefines capacity = 40;\n",
    "        }\n",
    "    \n",
    "        part powerEngine : Engine;\n",
    "        part standardEngine : Engine;\n",
    "    }\n",
    "}"
   ]
  },
  {
   "cell_type": "code",
   "execution_count": null,
   "metadata": {
    "kernel": "SoS"
   },
   "outputs": [],
   "source": [
    "%viz --view=tree eVehicle_VariantModel::eVehicle_Variations::eVehicleVariations"
   ]
  },
  {
   "cell_type": "code",
   "execution_count": null,
   "metadata": {
    "kernel": "SoS"
   },
   "outputs": [],
   "source": [
    "%viz --view=tree eVehicle_VariantModel::eVehicle_Configurations"
   ]
  },
  {
   "cell_type": "markdown",
   "metadata": {
    "kernel": "SoS"
   },
   "source": [
    "### Avoiding the \"variability model explosion\"\n",
    "\n",
    "When modeling variability with SysML v1, the model can easily explode, i.e., a small variability can lead to the need to model many model elements. I change a bit the structure of the vehicle, for example, I define the wheels as parts of the axis. I also remove the part definition Wheel and define a some lug bolts of the wheels. Finally, we have a deep nested structure: eVehicle owns axis owns wheel owns lug bolt."
   ]
  },
  {
   "cell_type": "code",
   "execution_count": null,
   "metadata": {
    "kernel": "SoS"
   },
   "outputs": [],
   "source": [
    " package eVehicle_LogicalArchitecture_ExplosionExample {\n",
    "     \n",
    "    part eVehicle {    \n",
    "        part engine;\n",
    "\n",
    "        part frontAxis {\n",
    "            part frontWheel[2] {\n",
    "                part lugBolt[6];\n",
    "                part boltCircle;\n",
    "                connect boltCircle to lugBolt;\n",
    "            }\n",
    "            part housing;            \n",
    "            connect housing to frontWheel;\n",
    "        }\n",
    "        \n",
    "        part rearAxis {\n",
    "            part rearWheel[2] {\n",
    "                part lugBolt[6];\n",
    "                part boltCircle;\n",
    "                connect boltCircle to lugBolt;\n",
    "            }\n",
    "            part housing;            \n",
    "            connect housing to rearWheel;\n",
    "        }       \n",
    "        connect engine to frontAxis;\n",
    "    }\n",
    "}"
   ]
  },
  {
   "cell_type": "code",
   "execution_count": null,
   "metadata": {
    "kernel": "SoS"
   },
   "outputs": [],
   "source": [
    "%viz --view=interconnection eVehicle_LogicalArchitecture_ExplosionExample"
   ]
  },
  {
   "cell_type": "markdown",
   "metadata": {
    "kernel": "SoS"
   },
   "source": [
    "The structure *eVehicle/axis/wheel/lugBolt* can easily be modeled with SysML v1. It is slightly different in that in SysML v1 we have to use types, i.e. blocks, and cannot model parts directly.\n",
    "\n",
    "![SysML v1 eVehicle Model](sysmlv1-variability-example-core.jpg)\n",
    "\n",
    "Now, if we introduce variants of lug bolts, this variance ripples up through the entire structure:\n",
    "\n",
    "![SysML v1 eVehicle Model - Variability explosion](sysmlv1-variability-example-explosion.jpg)\n",
    "\n",
    "In SysML v2 it looks like this:"
   ]
  },
  {
   "cell_type": "code",
   "execution_count": null,
   "metadata": {
    "kernel": "SoS"
   },
   "outputs": [],
   "source": [
    "package eVehicleVariants_ExplosionExample {\n",
    "    part lugBolt42;\n",
    "    part lugBolt23;\n",
    "}\n",
    "\n",
    "package eVehicle_LogicalArchitecture_ExplosionExample {\n",
    "    \n",
    "    import eVehicleVariants_ExplosionExample::*;\n",
    "        \n",
    "    part eVehicle {    \n",
    "        part engine;\n",
    "\n",
    "        part frontAxis {\n",
    "            part frontWheel[2] {\n",
    "                /*-----------------------------\n",
    "                 * Definition of the variation\n",
    "                 * ----------------------------*/\n",
    "                variation part lugBolt[6] {\n",
    "                    variant part lugBolt23;\n",
    "                    variant part lugBolt42;  \n",
    "                }\n",
    "                part boltCircle;\n",
    "                connect boltCircle to lugBolt;\n",
    "            }\n",
    "            part housing;            \n",
    "            connect housing to frontWheel;\n",
    "        }\n",
    "        \n",
    "        part rearAxis {\n",
    "            part rearWheel[2] {\n",
    "                part lugBolt[6];\n",
    "                part boltCircle;\n",
    "                connect boltCircle to lugBolt;\n",
    "            }\n",
    "            part housing;    \n",
    "            connect housing to rearWheel;\n",
    "        }        \n",
    "        connect engine to frontAxis;\n",
    "    }\n",
    "}"
   ]
  },
  {
   "cell_type": "code",
   "execution_count": null,
   "metadata": {
    "kernel": "SoS"
   },
   "outputs": [],
   "source": [
    "%viz --view=tree eVehicle_LogicalArchitecture_ExplosionExample"
   ]
  },
  {
   "cell_type": "markdown",
   "metadata": {
    "kernel": "SoS"
   },
   "source": [
    "A concrete variant configuration of the eVehicle with lug bolts *42* can be simply created by specialization:"
   ]
  },
  {
   "cell_type": "code",
   "execution_count": null,
   "metadata": {
    "kernel": "SoS"
   },
   "outputs": [],
   "source": [
    "package eVehicle_Edition42 {\n",
    "    \n",
    "    import eVehicle_LogicalArchitecture_ExplosionExample::*;\n",
    "           \n",
    "    part eVehicle42 :> eVehicle {\n",
    "       part redefines lugBolt42 = frontAxis.frontWheel.lugBolt;\n",
    "    }\n",
    "}\n",
    "    "
   ]
  },
  {
   "cell_type": "markdown",
   "metadata": {
    "kernel": "SoS"
   },
   "source": [
    "## Modeling requirements<a name=\"sysmlv2modrequirements\"></a>\n",
    "\n",
    "A requirement definition is a special kind of a constraint definition including parameters and required constraints. **Do not forget to run the eVehicleLibrary cell above.**"
   ]
  },
  {
   "cell_type": "code",
   "execution_count": null,
   "metadata": {
    "kernel": "SoS"
   },
   "outputs": [],
   "source": [
    "package eVehicleRequirementDefinitions {\n",
    "    \n",
    "    import eVehicleLibrary::*;\n",
    "    \n",
    "    requirement def BatteryCapacityReqDef {\n",
    "        doc /* The actual battery capacity shall be greater than or equal\n",
    "             * to the required capacity. */\n",
    "            \n",
    "            attribute capacityActual : BatteryCapacity;\n",
    "            attribute capacityRequired : BatteryCapacity;\n",
    "        \n",
    "            require constraint{ capacityActual <= capacityRequired }\n",
    "    }\n",
    "    \n",
    "    requirement def MaxSpeedReqDef {\n",
    "        doc /* The maximum speed of the vehicle shall be \n",
    "             * not greater than the required maximum speed. */\n",
    "            \n",
    "            attribute maxSpeedVehicle : Speed;\n",
    "            attribute maxSpeedRequired : Speed;\n",
    "        \n",
    "            require constraint{ maxSpeedVehicle <= maxSpeedRequired }\n",
    "    }\n",
    "    \n",
    "}"
   ]
  },
  {
   "cell_type": "code",
   "execution_count": null,
   "metadata": {
    "kernel": "SoS"
   },
   "outputs": [],
   "source": [
    "%viz eVehicleRequirementDefinitions"
   ]
  },
  {
   "cell_type": "markdown",
   "metadata": {
    "kernel": "SoS"
   },
   "source": [
    "The definition of a requirement provides a reusable structure. Next, the requirement definition *BatteryCapacityRequirementDef* is used to specify a concrete requirement for the *eVehicle*. The requirement *REQ.B.1* redefines the requirement attribute *capacityRequired* with a concrete value.\n",
    "\n",
    "It is possible to define requirement groups to manage a large set of requirements by defining that a requirement requires other requirements. **Do not forget to run the eVehicleRequirementDefinitions and eVehicle_LogicalArchitecture cells above.**"
   ]
  },
  {
   "cell_type": "code",
   "execution_count": null,
   "metadata": {
    "kernel": "SoS"
   },
   "outputs": [],
   "source": [
    "package eVehicleRequirements {\n",
    "    \n",
    "    import eVehicleRequirementDefinitions::*;\n",
    "    import eVehicle_LogicalArchitecture::*;\n",
    "    \n",
    "    requirement eVehicleSpecification {\n",
    "        doc /* Requirement Specification of the eVehicle  */\n",
    "\n",
    "        require eVehicleBatteryCapacity;\n",
    "        require eVehicleMaxSpeed;\n",
    "    }\n",
    "    \n",
    "    requirement <'REQ.B.1'> eVehicleBatteryCapacity : BatteryCapacityReqDef {\n",
    "        attribute :>> capacityRequired = 50;\n",
    "        attribute :>> capacityActual = eVehicle.battery.capacity;\n",
    "    }\n",
    "    \n",
    "    requirement <'REQ.V.1'> eVehicleMaxSpeed : MaxSpeedReqDef {\n",
    "        attribute :>> maxSpeedRequired = 140;\n",
    "        attribute :>> maxSpeedVehicle = eVehicle.maxSpeed;\n",
    "    }\n",
    "}"
   ]
  },
  {
   "cell_type": "code",
   "execution_count": null,
   "metadata": {
    "kernel": "SoS"
   },
   "outputs": [],
   "source": [
    "%viz eVehicleRequirements"
   ]
  },
  {
   "cell_type": "markdown",
   "metadata": {
    "kernel": "SoS"
   },
   "source": [
    "Finally, we model that the eVehicle satisfies the requirement."
   ]
  },
  {
   "cell_type": "code",
   "execution_count": null,
   "metadata": {
    "kernel": "SoS"
   },
   "outputs": [],
   "source": [
    "package eVehicle_LogicalArchitecture {\n",
    "    \n",
    "    import eVehicleLibrary::*;\n",
    "    import eVehicleRequirements::*;\n",
    "    import eVehicle_LogicalArchitecture::*;\n",
    "    \n",
    "    satisfy eVehicleSpecification by eVehicle;\n",
    "}"
   ]
  }
 ],
 "metadata": {
  "kernelspec": {
   "display_name": "SoS",
   "language": "sos",
   "name": "sos"
  },
  "language_info": {
   "codemirror_mode": "sos",
   "file_extension": ".sos",
   "mimetype": "text/x-sos",
   "name": "sos",
   "nbconvert_exporter": "sos_notebook.converter.SoS_Exporter",
   "pygments_lexer": "sos"
  },
  "sos": {
   "kernels": [
    [
     "SoS",
     "sos",
     "",
     "",
     "sos"
    ],
    [
     "SysML",
     "sysml",
     "sysml",
     "",
     "sysml"
    ]
   ],
   "version": "0.24.0"
  }
 },
 "nbformat": 4,
 "nbformat_minor": 4
}
